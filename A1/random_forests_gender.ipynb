{
 "cells": [
  {
   "cell_type": "markdown",
   "metadata": {},
   "source": [
    "# ELEC0134 - Applied Machine Learning Systems Assignment 22-23\n",
    "## A1: Gender Detection\n",
    "\n",
    "*Note preprocessing step is skipped as preprocessing was completed in SVM notebook."
   ]
  },
  {
   "cell_type": "code",
   "execution_count": 3,
   "metadata": {},
   "outputs": [],
   "source": [
    "import numpy as np\n",
    "from sklearn.ensemble import RandomForestClassifier\n",
    "from sklearn.model_selection import GridSearchCV\n"
   ]
  },
  {
   "cell_type": "code",
   "execution_count": 4,
   "metadata": {},
   "outputs": [],
   "source": [
    "# Loading in training and test data from npy files\n",
    "X_train = np.load('all_features_train.npy')\n",
    "y_train = np.load('gender_labels_train.npy')\n",
    "\n",
    "X_test = np.load('all_features_test.npy')\n",
    "y_test = np.load('gender_labels_test.npy')"
   ]
  },
  {
   "cell_type": "code",
   "execution_count": 5,
   "metadata": {},
   "outputs": [
    {
     "name": "stdout",
     "output_type": "stream",
     "text": [
      "features_train:  (4798, 136)\n",
      "features_test:  (970, 136)\n",
      "labels_train:  (4798,)\n",
      "labels_test:  (970,)\n"
     ]
    }
   ],
   "source": [
    "print('features_train: ', X_train.shape)\n",
    "print('features_test: ', X_test.shape)\n",
    "print('labels_train: ', y_train.shape)\n",
    "print('labels_test: ', y_test.shape)"
   ]
  },
  {
   "cell_type": "code",
   "execution_count": 16,
   "metadata": {},
   "outputs": [
    {
     "name": "stdout",
     "output_type": "stream",
     "text": [
      "Fitting 10 folds for each of 18 candidates, totalling 180 fits\n",
      "[CV 1/10] END .....max_depth=2, n_estimators=50;, score=0.838 total time=   0.5s\n",
      "[CV 2/10] END .....max_depth=2, n_estimators=50;, score=0.796 total time=   0.5s\n",
      "[CV 3/10] END .....max_depth=2, n_estimators=50;, score=0.817 total time=   0.4s\n",
      "[CV 4/10] END .....max_depth=2, n_estimators=50;, score=0.819 total time=   0.4s\n",
      "[CV 5/10] END .....max_depth=2, n_estimators=50;, score=0.812 total time=   0.4s\n",
      "[CV 6/10] END .....max_depth=2, n_estimators=50;, score=0.806 total time=   0.4s\n",
      "[CV 7/10] END .....max_depth=2, n_estimators=50;, score=0.821 total time=   0.3s\n",
      "[CV 8/10] END .....max_depth=2, n_estimators=50;, score=0.808 total time=   0.4s\n",
      "[CV 9/10] END .....max_depth=2, n_estimators=50;, score=0.795 total time=   0.4s\n",
      "[CV 10/10] END ....max_depth=2, n_estimators=50;, score=0.852 total time=   0.4s\n",
      "[CV 1/10] END ....max_depth=2, n_estimators=100;, score=0.854 total time=   0.7s\n",
      "[CV 2/10] END ....max_depth=2, n_estimators=100;, score=0.802 total time=   0.7s\n",
      "[CV 3/10] END ....max_depth=2, n_estimators=100;, score=0.823 total time=   0.7s\n",
      "[CV 4/10] END ....max_depth=2, n_estimators=100;, score=0.812 total time=   0.9s\n",
      "[CV 5/10] END ....max_depth=2, n_estimators=100;, score=0.819 total time=   0.8s\n",
      "[CV 6/10] END ....max_depth=2, n_estimators=100;, score=0.817 total time=   0.7s\n",
      "[CV 7/10] END ....max_depth=2, n_estimators=100;, score=0.817 total time=   0.8s\n",
      "[CV 8/10] END ....max_depth=2, n_estimators=100;, score=0.831 total time=   0.8s\n",
      "[CV 9/10] END ....max_depth=2, n_estimators=100;, score=0.795 total time=   0.7s\n",
      "[CV 10/10] END ...max_depth=2, n_estimators=100;, score=0.833 total time=   0.7s\n",
      "[CV 1/10] END ....max_depth=2, n_estimators=150;, score=0.856 total time=   1.1s\n",
      "[CV 2/10] END ....max_depth=2, n_estimators=150;, score=0.806 total time=   1.1s\n",
      "[CV 3/10] END ....max_depth=2, n_estimators=150;, score=0.815 total time=   1.2s\n",
      "[CV 4/10] END ....max_depth=2, n_estimators=150;, score=0.804 total time=   1.2s\n",
      "[CV 5/10] END ....max_depth=2, n_estimators=150;, score=0.817 total time=   1.2s\n",
      "[CV 6/10] END ....max_depth=2, n_estimators=150;, score=0.817 total time=   1.2s\n",
      "[CV 7/10] END ....max_depth=2, n_estimators=150;, score=0.831 total time=   1.1s\n",
      "[CV 8/10] END ....max_depth=2, n_estimators=150;, score=0.819 total time=   1.1s\n",
      "[CV 9/10] END ....max_depth=2, n_estimators=150;, score=0.791 total time=   1.1s\n",
      "[CV 10/10] END ...max_depth=2, n_estimators=150;, score=0.852 total time=   1.1s\n",
      "[CV 1/10] END .....max_depth=4, n_estimators=50;, score=0.863 total time=   0.6s\n",
      "[CV 2/10] END .....max_depth=4, n_estimators=50;, score=0.833 total time=   0.5s\n",
      "[CV 3/10] END .....max_depth=4, n_estimators=50;, score=0.848 total time=   0.5s\n",
      "[CV 4/10] END .....max_depth=4, n_estimators=50;, score=0.810 total time=   0.5s\n",
      "[CV 5/10] END .....max_depth=4, n_estimators=50;, score=0.838 total time=   0.5s\n",
      "[CV 6/10] END .....max_depth=4, n_estimators=50;, score=0.842 total time=   0.5s\n",
      "[CV 7/10] END .....max_depth=4, n_estimators=50;, score=0.831 total time=   0.5s\n",
      "[CV 8/10] END .....max_depth=4, n_estimators=50;, score=0.846 total time=   0.6s\n",
      "[CV 9/10] END .....max_depth=4, n_estimators=50;, score=0.835 total time=   0.6s\n",
      "[CV 10/10] END ....max_depth=4, n_estimators=50;, score=0.864 total time=   0.6s\n",
      "[CV 1/10] END ....max_depth=4, n_estimators=100;, score=0.865 total time=   1.0s\n",
      "[CV 2/10] END ....max_depth=4, n_estimators=100;, score=0.821 total time=   1.1s\n",
      "[CV 3/10] END ....max_depth=4, n_estimators=100;, score=0.854 total time=   1.1s\n",
      "[CV 4/10] END ....max_depth=4, n_estimators=100;, score=0.835 total time=   1.1s\n",
      "[CV 5/10] END ....max_depth=4, n_estimators=100;, score=0.827 total time=   1.8s\n",
      "[CV 6/10] END ....max_depth=4, n_estimators=100;, score=0.829 total time=   1.3s\n",
      "[CV 7/10] END ....max_depth=4, n_estimators=100;, score=0.856 total time=   1.1s\n",
      "[CV 8/10] END ....max_depth=4, n_estimators=100;, score=0.858 total time=   1.1s\n",
      "[CV 9/10] END ....max_depth=4, n_estimators=100;, score=0.823 total time=   1.1s\n",
      "[CV 10/10] END ...max_depth=4, n_estimators=100;, score=0.860 total time=   1.1s\n",
      "[CV 1/10] END ....max_depth=4, n_estimators=150;, score=0.871 total time=   1.6s\n",
      "[CV 2/10] END ....max_depth=4, n_estimators=150;, score=0.825 total time=   1.5s\n",
      "[CV 3/10] END ....max_depth=4, n_estimators=150;, score=0.852 total time=   1.6s\n",
      "[CV 4/10] END ....max_depth=4, n_estimators=150;, score=0.833 total time=   1.6s\n",
      "[CV 5/10] END ....max_depth=4, n_estimators=150;, score=0.848 total time=   1.5s\n",
      "[CV 6/10] END ....max_depth=4, n_estimators=150;, score=0.842 total time=   1.5s\n",
      "[CV 7/10] END ....max_depth=4, n_estimators=150;, score=0.850 total time=   1.5s\n",
      "[CV 8/10] END ....max_depth=4, n_estimators=150;, score=0.863 total time=   1.5s\n",
      "[CV 9/10] END ....max_depth=4, n_estimators=150;, score=0.831 total time=   1.8s\n",
      "[CV 10/10] END ...max_depth=4, n_estimators=150;, score=0.852 total time=   1.5s\n",
      "[CV 1/10] END .....max_depth=6, n_estimators=50;, score=0.879 total time=   0.7s\n",
      "[CV 2/10] END .....max_depth=6, n_estimators=50;, score=0.850 total time=   0.7s\n",
      "[CV 3/10] END .....max_depth=6, n_estimators=50;, score=0.854 total time=   0.9s\n",
      "[CV 4/10] END .....max_depth=6, n_estimators=50;, score=0.842 total time=   0.7s\n",
      "[CV 5/10] END .....max_depth=6, n_estimators=50;, score=0.846 total time=   0.7s\n",
      "[CV 6/10] END .....max_depth=6, n_estimators=50;, score=0.854 total time=   0.7s\n",
      "[CV 7/10] END .....max_depth=6, n_estimators=50;, score=0.867 total time=   0.7s\n",
      "[CV 8/10] END .....max_depth=6, n_estimators=50;, score=0.863 total time=   0.7s\n",
      "[CV 9/10] END .....max_depth=6, n_estimators=50;, score=0.858 total time=   0.7s\n",
      "[CV 10/10] END ....max_depth=6, n_estimators=50;, score=0.866 total time=   0.7s\n",
      "[CV 1/10] END ....max_depth=6, n_estimators=100;, score=0.873 total time=   1.3s\n",
      "[CV 2/10] END ....max_depth=6, n_estimators=100;, score=0.850 total time=   1.3s\n",
      "[CV 3/10] END ....max_depth=6, n_estimators=100;, score=0.852 total time=   1.3s\n",
      "[CV 4/10] END ....max_depth=6, n_estimators=100;, score=0.846 total time=   1.3s\n",
      "[CV 5/10] END ....max_depth=6, n_estimators=100;, score=0.850 total time=   1.3s\n",
      "[CV 6/10] END ....max_depth=6, n_estimators=100;, score=0.854 total time=   1.3s\n",
      "[CV 7/10] END ....max_depth=6, n_estimators=100;, score=0.871 total time=   1.3s\n",
      "[CV 8/10] END ....max_depth=6, n_estimators=100;, score=0.867 total time=   1.3s\n",
      "[CV 9/10] END ....max_depth=6, n_estimators=100;, score=0.856 total time=   1.2s\n",
      "[CV 10/10] END ...max_depth=6, n_estimators=100;, score=0.860 total time=   1.3s\n",
      "[CV 1/10] END ....max_depth=6, n_estimators=150;, score=0.879 total time=   2.0s\n",
      "[CV 2/10] END ....max_depth=6, n_estimators=150;, score=0.854 total time=   2.0s\n",
      "[CV 3/10] END ....max_depth=6, n_estimators=150;, score=0.852 total time=   2.0s\n",
      "[CV 4/10] END ....max_depth=6, n_estimators=150;, score=0.840 total time=   2.0s\n",
      "[CV 5/10] END ....max_depth=6, n_estimators=150;, score=0.838 total time=   1.9s\n",
      "[CV 6/10] END ....max_depth=6, n_estimators=150;, score=0.844 total time=   1.9s\n",
      "[CV 7/10] END ....max_depth=6, n_estimators=150;, score=0.863 total time=   1.9s\n",
      "[CV 8/10] END ....max_depth=6, n_estimators=150;, score=0.865 total time=   1.9s\n",
      "[CV 9/10] END ....max_depth=6, n_estimators=150;, score=0.858 total time=   2.0s\n",
      "[CV 10/10] END ...max_depth=6, n_estimators=150;, score=0.866 total time=   2.0s\n",
      "[CV 1/10] END .....max_depth=8, n_estimators=50;, score=0.875 total time=   0.8s\n",
      "[CV 2/10] END .....max_depth=8, n_estimators=50;, score=0.844 total time=   0.8s\n",
      "[CV 3/10] END .....max_depth=8, n_estimators=50;, score=0.854 total time=   0.9s\n",
      "[CV 4/10] END .....max_depth=8, n_estimators=50;, score=0.854 total time=   0.8s\n",
      "[CV 5/10] END .....max_depth=8, n_estimators=50;, score=0.852 total time=   0.8s\n",
      "[CV 6/10] END .....max_depth=8, n_estimators=50;, score=0.865 total time=   0.8s\n",
      "[CV 7/10] END .....max_depth=8, n_estimators=50;, score=0.877 total time=   0.8s\n",
      "[CV 8/10] END .....max_depth=8, n_estimators=50;, score=0.867 total time=   0.8s\n",
      "[CV 9/10] END .....max_depth=8, n_estimators=50;, score=0.868 total time=   0.8s\n",
      "[CV 10/10] END ....max_depth=8, n_estimators=50;, score=0.866 total time=   0.8s\n",
      "[CV 1/10] END ....max_depth=8, n_estimators=100;, score=0.875 total time=   1.7s\n",
      "[CV 2/10] END ....max_depth=8, n_estimators=100;, score=0.852 total time=   1.7s\n",
      "[CV 3/10] END ....max_depth=8, n_estimators=100;, score=0.846 total time=   1.6s\n",
      "[CV 4/10] END ....max_depth=8, n_estimators=100;, score=0.852 total time=   1.6s\n",
      "[CV 5/10] END ....max_depth=8, n_estimators=100;, score=0.848 total time=   1.6s\n",
      "[CV 6/10] END ....max_depth=8, n_estimators=100;, score=0.858 total time=   1.6s\n",
      "[CV 7/10] END ....max_depth=8, n_estimators=100;, score=0.883 total time=   1.6s\n",
      "[CV 8/10] END ....max_depth=8, n_estimators=100;, score=0.869 total time=   1.6s\n",
      "[CV 9/10] END ....max_depth=8, n_estimators=100;, score=0.871 total time=   1.6s\n",
      "[CV 10/10] END ...max_depth=8, n_estimators=100;, score=0.871 total time=   1.6s\n",
      "[CV 1/10] END ....max_depth=8, n_estimators=150;, score=0.869 total time=   2.3s\n",
      "[CV 2/10] END ....max_depth=8, n_estimators=150;, score=0.856 total time=   2.7s\n",
      "[CV 3/10] END ....max_depth=8, n_estimators=150;, score=0.865 total time=   2.5s\n",
      "[CV 4/10] END ....max_depth=8, n_estimators=150;, score=0.858 total time=   2.5s\n",
      "[CV 5/10] END ....max_depth=8, n_estimators=150;, score=0.854 total time=   2.4s\n",
      "[CV 6/10] END ....max_depth=8, n_estimators=150;, score=0.844 total time=   2.6s\n",
      "[CV 7/10] END ....max_depth=8, n_estimators=150;, score=0.881 total time=   2.5s\n",
      "[CV 8/10] END ....max_depth=8, n_estimators=150;, score=0.879 total time=   2.8s\n",
      "[CV 9/10] END ....max_depth=8, n_estimators=150;, score=0.868 total time=   3.3s\n",
      "[CV 10/10] END ...max_depth=8, n_estimators=150;, score=0.875 total time=   3.4s\n",
      "[CV 1/10] END ....max_depth=10, n_estimators=50;, score=0.877 total time=   1.2s\n",
      "[CV 2/10] END ....max_depth=10, n_estimators=50;, score=0.858 total time=   1.2s\n",
      "[CV 3/10] END ....max_depth=10, n_estimators=50;, score=0.854 total time=   1.1s\n",
      "[CV 4/10] END ....max_depth=10, n_estimators=50;, score=0.863 total time=   1.1s\n",
      "[CV 5/10] END ....max_depth=10, n_estimators=50;, score=0.852 total time=   1.1s\n",
      "[CV 6/10] END ....max_depth=10, n_estimators=50;, score=0.850 total time=   1.1s\n",
      "[CV 7/10] END ....max_depth=10, n_estimators=50;, score=0.871 total time=   1.1s\n",
      "[CV 8/10] END ....max_depth=10, n_estimators=50;, score=0.869 total time=   1.1s\n",
      "[CV 9/10] END ....max_depth=10, n_estimators=50;, score=0.864 total time=   1.3s\n",
      "[CV 10/10] END ...max_depth=10, n_estimators=50;, score=0.866 total time=   1.1s\n",
      "[CV 1/10] END ...max_depth=10, n_estimators=100;, score=0.875 total time=   2.2s\n",
      "[CV 2/10] END ...max_depth=10, n_estimators=100;, score=0.860 total time=   2.1s\n",
      "[CV 3/10] END ...max_depth=10, n_estimators=100;, score=0.848 total time=   2.0s\n",
      "[CV 4/10] END ...max_depth=10, n_estimators=100;, score=0.863 total time=   2.0s\n",
      "[CV 5/10] END ...max_depth=10, n_estimators=100;, score=0.856 total time=   2.0s\n",
      "[CV 6/10] END ...max_depth=10, n_estimators=100;, score=0.865 total time=   2.0s\n",
      "[CV 7/10] END ...max_depth=10, n_estimators=100;, score=0.871 total time=   1.9s\n",
      "[CV 8/10] END ...max_depth=10, n_estimators=100;, score=0.867 total time=   1.9s\n",
      "[CV 9/10] END ...max_depth=10, n_estimators=100;, score=0.868 total time=   1.9s\n",
      "[CV 10/10] END ..max_depth=10, n_estimators=100;, score=0.871 total time=   1.9s\n",
      "[CV 1/10] END ...max_depth=10, n_estimators=150;, score=0.883 total time=   2.9s\n",
      "[CV 2/10] END ...max_depth=10, n_estimators=150;, score=0.852 total time=   3.0s\n",
      "[CV 3/10] END ...max_depth=10, n_estimators=150;, score=0.856 total time=   3.1s\n",
      "[CV 4/10] END ...max_depth=10, n_estimators=150;, score=0.867 total time=   3.4s\n",
      "[CV 5/10] END ...max_depth=10, n_estimators=150;, score=0.860 total time=   3.1s\n",
      "[CV 6/10] END ...max_depth=10, n_estimators=150;, score=0.863 total time=   3.1s\n",
      "[CV 7/10] END ...max_depth=10, n_estimators=150;, score=0.873 total time=   3.1s\n",
      "[CV 8/10] END ...max_depth=10, n_estimators=150;, score=0.871 total time=   3.1s\n",
      "[CV 9/10] END ...max_depth=10, n_estimators=150;, score=0.864 total time=   3.1s\n",
      "[CV 10/10] END ..max_depth=10, n_estimators=150;, score=0.879 total time=   3.1s\n",
      "[CV 1/10] END ....max_depth=12, n_estimators=50;, score=0.875 total time=   1.1s\n",
      "[CV 2/10] END ....max_depth=12, n_estimators=50;, score=0.848 total time=   1.1s\n",
      "[CV 3/10] END ....max_depth=12, n_estimators=50;, score=0.848 total time=   1.1s\n",
      "[CV 4/10] END ....max_depth=12, n_estimators=50;, score=0.860 total time=   1.2s\n",
      "[CV 5/10] END ....max_depth=12, n_estimators=50;, score=0.838 total time=   1.1s\n",
      "[CV 6/10] END ....max_depth=12, n_estimators=50;, score=0.860 total time=   1.1s\n",
      "[CV 7/10] END ....max_depth=12, n_estimators=50;, score=0.887 total time=   1.2s\n",
      "[CV 8/10] END ....max_depth=12, n_estimators=50;, score=0.860 total time=   1.2s\n",
      "[CV 9/10] END ....max_depth=12, n_estimators=50;, score=0.864 total time=   1.2s\n",
      "[CV 10/10] END ...max_depth=12, n_estimators=50;, score=0.879 total time=   1.2s\n",
      "[CV 1/10] END ...max_depth=12, n_estimators=100;, score=0.871 total time=   2.3s\n",
      "[CV 2/10] END ...max_depth=12, n_estimators=100;, score=0.856 total time=   2.3s\n",
      "[CV 3/10] END ...max_depth=12, n_estimators=100;, score=0.863 total time=   2.2s\n",
      "[CV 4/10] END ...max_depth=12, n_estimators=100;, score=0.860 total time=   2.2s\n",
      "[CV 5/10] END ...max_depth=12, n_estimators=100;, score=0.852 total time=   2.2s\n",
      "[CV 6/10] END ...max_depth=12, n_estimators=100;, score=0.865 total time=   2.1s\n",
      "[CV 7/10] END ...max_depth=12, n_estimators=100;, score=0.877 total time=   2.2s\n",
      "[CV 8/10] END ...max_depth=12, n_estimators=100;, score=0.873 total time=   2.2s\n",
      "[CV 9/10] END ...max_depth=12, n_estimators=100;, score=0.866 total time=   2.3s\n",
      "[CV 10/10] END ..max_depth=12, n_estimators=100;, score=0.883 total time=   2.3s\n",
      "[CV 1/10] END ...max_depth=12, n_estimators=150;, score=0.887 total time=   3.4s\n",
      "[CV 2/10] END ...max_depth=12, n_estimators=150;, score=0.856 total time=   3.4s\n",
      "[CV 3/10] END ...max_depth=12, n_estimators=150;, score=0.858 total time=   3.2s\n",
      "[CV 4/10] END ...max_depth=12, n_estimators=150;, score=0.854 total time=   3.4s\n",
      "[CV 5/10] END ...max_depth=12, n_estimators=150;, score=0.863 total time=   3.2s\n",
      "[CV 6/10] END ...max_depth=12, n_estimators=150;, score=0.850 total time=   3.2s\n",
      "[CV 7/10] END ...max_depth=12, n_estimators=150;, score=0.883 total time=   3.2s\n",
      "[CV 8/10] END ...max_depth=12, n_estimators=150;, score=0.871 total time=   3.3s\n",
      "[CV 9/10] END ...max_depth=12, n_estimators=150;, score=0.879 total time=   3.5s\n",
      "[CV 10/10] END ..max_depth=12, n_estimators=150;, score=0.868 total time=   3.5s\n"
     ]
    },
    {
     "data": {
      "text/html": [
       "<style>#sk-container-id-3 {color: black;background-color: white;}#sk-container-id-3 pre{padding: 0;}#sk-container-id-3 div.sk-toggleable {background-color: white;}#sk-container-id-3 label.sk-toggleable__label {cursor: pointer;display: block;width: 100%;margin-bottom: 0;padding: 0.3em;box-sizing: border-box;text-align: center;}#sk-container-id-3 label.sk-toggleable__label-arrow:before {content: \"▸\";float: left;margin-right: 0.25em;color: #696969;}#sk-container-id-3 label.sk-toggleable__label-arrow:hover:before {color: black;}#sk-container-id-3 div.sk-estimator:hover label.sk-toggleable__label-arrow:before {color: black;}#sk-container-id-3 div.sk-toggleable__content {max-height: 0;max-width: 0;overflow: hidden;text-align: left;background-color: #f0f8ff;}#sk-container-id-3 div.sk-toggleable__content pre {margin: 0.2em;color: black;border-radius: 0.25em;background-color: #f0f8ff;}#sk-container-id-3 input.sk-toggleable__control:checked~div.sk-toggleable__content {max-height: 200px;max-width: 100%;overflow: auto;}#sk-container-id-3 input.sk-toggleable__control:checked~label.sk-toggleable__label-arrow:before {content: \"▾\";}#sk-container-id-3 div.sk-estimator input.sk-toggleable__control:checked~label.sk-toggleable__label {background-color: #d4ebff;}#sk-container-id-3 div.sk-label input.sk-toggleable__control:checked~label.sk-toggleable__label {background-color: #d4ebff;}#sk-container-id-3 input.sk-hidden--visually {border: 0;clip: rect(1px 1px 1px 1px);clip: rect(1px, 1px, 1px, 1px);height: 1px;margin: -1px;overflow: hidden;padding: 0;position: absolute;width: 1px;}#sk-container-id-3 div.sk-estimator {font-family: monospace;background-color: #f0f8ff;border: 1px dotted black;border-radius: 0.25em;box-sizing: border-box;margin-bottom: 0.5em;}#sk-container-id-3 div.sk-estimator:hover {background-color: #d4ebff;}#sk-container-id-3 div.sk-parallel-item::after {content: \"\";width: 100%;border-bottom: 1px solid gray;flex-grow: 1;}#sk-container-id-3 div.sk-label:hover label.sk-toggleable__label {background-color: #d4ebff;}#sk-container-id-3 div.sk-serial::before {content: \"\";position: absolute;border-left: 1px solid gray;box-sizing: border-box;top: 0;bottom: 0;left: 50%;z-index: 0;}#sk-container-id-3 div.sk-serial {display: flex;flex-direction: column;align-items: center;background-color: white;padding-right: 0.2em;padding-left: 0.2em;position: relative;}#sk-container-id-3 div.sk-item {position: relative;z-index: 1;}#sk-container-id-3 div.sk-parallel {display: flex;align-items: stretch;justify-content: center;background-color: white;position: relative;}#sk-container-id-3 div.sk-item::before, #sk-container-id-3 div.sk-parallel-item::before {content: \"\";position: absolute;border-left: 1px solid gray;box-sizing: border-box;top: 0;bottom: 0;left: 50%;z-index: -1;}#sk-container-id-3 div.sk-parallel-item {display: flex;flex-direction: column;z-index: 1;position: relative;background-color: white;}#sk-container-id-3 div.sk-parallel-item:first-child::after {align-self: flex-end;width: 50%;}#sk-container-id-3 div.sk-parallel-item:last-child::after {align-self: flex-start;width: 50%;}#sk-container-id-3 div.sk-parallel-item:only-child::after {width: 0;}#sk-container-id-3 div.sk-dashed-wrapped {border: 1px dashed gray;margin: 0 0.4em 0.5em 0.4em;box-sizing: border-box;padding-bottom: 0.4em;background-color: white;}#sk-container-id-3 div.sk-label label {font-family: monospace;font-weight: bold;display: inline-block;line-height: 1.2em;}#sk-container-id-3 div.sk-label-container {text-align: center;}#sk-container-id-3 div.sk-container {/* jupyter's `normalize.less` sets `[hidden] { display: none; }` but bootstrap.min.css set `[hidden] { display: none !important; }` so we also need the `!important` here to be able to override the default hidden behavior on the sphinx rendered scikit-learn.org. See: https://github.com/scikit-learn/scikit-learn/issues/21755 */display: inline-block !important;position: relative;}#sk-container-id-3 div.sk-text-repr-fallback {display: none;}</style><div id=\"sk-container-id-3\" class=\"sk-top-container\"><div class=\"sk-text-repr-fallback\"><pre>GridSearchCV(cv=10, estimator=RandomForestClassifier(),\n",
       "             param_grid={&#x27;max_depth&#x27;: [2, 4, 6, 8, 10, 12],\n",
       "                         &#x27;n_estimators&#x27;: [50, 100, 150]},\n",
       "             verbose=3)</pre><b>In a Jupyter environment, please rerun this cell to show the HTML representation or trust the notebook. <br />On GitHub, the HTML representation is unable to render, please try loading this page with nbviewer.org.</b></div><div class=\"sk-container\" hidden><div class=\"sk-item sk-dashed-wrapped\"><div class=\"sk-label-container\"><div class=\"sk-label sk-toggleable\"><input class=\"sk-toggleable__control sk-hidden--visually\" id=\"sk-estimator-id-5\" type=\"checkbox\" ><label for=\"sk-estimator-id-5\" class=\"sk-toggleable__label sk-toggleable__label-arrow\">GridSearchCV</label><div class=\"sk-toggleable__content\"><pre>GridSearchCV(cv=10, estimator=RandomForestClassifier(),\n",
       "             param_grid={&#x27;max_depth&#x27;: [2, 4, 6, 8, 10, 12],\n",
       "                         &#x27;n_estimators&#x27;: [50, 100, 150]},\n",
       "             verbose=3)</pre></div></div></div><div class=\"sk-parallel\"><div class=\"sk-parallel-item\"><div class=\"sk-item\"><div class=\"sk-label-container\"><div class=\"sk-label sk-toggleable\"><input class=\"sk-toggleable__control sk-hidden--visually\" id=\"sk-estimator-id-6\" type=\"checkbox\" ><label for=\"sk-estimator-id-6\" class=\"sk-toggleable__label sk-toggleable__label-arrow\">estimator: RandomForestClassifier</label><div class=\"sk-toggleable__content\"><pre>RandomForestClassifier()</pre></div></div></div><div class=\"sk-serial\"><div class=\"sk-item\"><div class=\"sk-estimator sk-toggleable\"><input class=\"sk-toggleable__control sk-hidden--visually\" id=\"sk-estimator-id-7\" type=\"checkbox\" ><label for=\"sk-estimator-id-7\" class=\"sk-toggleable__label sk-toggleable__label-arrow\">RandomForestClassifier</label><div class=\"sk-toggleable__content\"><pre>RandomForestClassifier()</pre></div></div></div></div></div></div></div></div></div></div>"
      ],
      "text/plain": [
       "GridSearchCV(cv=10, estimator=RandomForestClassifier(),\n",
       "             param_grid={'max_depth': [2, 4, 6, 8, 10, 12],\n",
       "                         'n_estimators': [50, 100, 150]},\n",
       "             verbose=3)"
      ]
     },
     "execution_count": 16,
     "metadata": {},
     "output_type": "execute_result"
    }
   ],
   "source": [
    "param_grid = {'n_estimators': [50, 100, 150],\n",
    "              'max_depth': [2, 4, 6, 8, 10, 12]}\n",
    "\n",
    "\n",
    "# rfm = random forest model\n",
    "rfm = RandomForestClassifier()\n",
    "grid_search = GridSearchCV(rfm, param_grid, verbose = 3, cv = 10)\n",
    "grid_search.fit(X_train, y_train)"
   ]
  },
  {
   "cell_type": "code",
   "execution_count": 17,
   "metadata": {},
   "outputs": [
    {
     "name": "stdout",
     "output_type": "stream",
     "text": [
      "Best parameters:  {'max_depth': 12, 'n_estimators': 150}\n",
      "Best score:  0.8670307063326375\n"
     ]
    }
   ],
   "source": [
    "#print(\"Best parameters: \", grid_search.best_params_)\n",
    "#print(\"Best score: \", grid_search.best_score_)\n",
    "best_params = {'max_depth': 12, 'n_estimators': 150}"
   ]
  },
  {
   "cell_type": "code",
   "execution_count": 18,
   "metadata": {},
   "outputs": [],
   "source": [
    "rfm = RandomForestClassifier(**best_params_)"
   ]
  },
  {
   "cell_type": "code",
   "execution_count": 19,
   "metadata": {},
   "outputs": [
    {
     "data": {
      "text/html": [
       "<style>#sk-container-id-4 {color: black;background-color: white;}#sk-container-id-4 pre{padding: 0;}#sk-container-id-4 div.sk-toggleable {background-color: white;}#sk-container-id-4 label.sk-toggleable__label {cursor: pointer;display: block;width: 100%;margin-bottom: 0;padding: 0.3em;box-sizing: border-box;text-align: center;}#sk-container-id-4 label.sk-toggleable__label-arrow:before {content: \"▸\";float: left;margin-right: 0.25em;color: #696969;}#sk-container-id-4 label.sk-toggleable__label-arrow:hover:before {color: black;}#sk-container-id-4 div.sk-estimator:hover label.sk-toggleable__label-arrow:before {color: black;}#sk-container-id-4 div.sk-toggleable__content {max-height: 0;max-width: 0;overflow: hidden;text-align: left;background-color: #f0f8ff;}#sk-container-id-4 div.sk-toggleable__content pre {margin: 0.2em;color: black;border-radius: 0.25em;background-color: #f0f8ff;}#sk-container-id-4 input.sk-toggleable__control:checked~div.sk-toggleable__content {max-height: 200px;max-width: 100%;overflow: auto;}#sk-container-id-4 input.sk-toggleable__control:checked~label.sk-toggleable__label-arrow:before {content: \"▾\";}#sk-container-id-4 div.sk-estimator input.sk-toggleable__control:checked~label.sk-toggleable__label {background-color: #d4ebff;}#sk-container-id-4 div.sk-label input.sk-toggleable__control:checked~label.sk-toggleable__label {background-color: #d4ebff;}#sk-container-id-4 input.sk-hidden--visually {border: 0;clip: rect(1px 1px 1px 1px);clip: rect(1px, 1px, 1px, 1px);height: 1px;margin: -1px;overflow: hidden;padding: 0;position: absolute;width: 1px;}#sk-container-id-4 div.sk-estimator {font-family: monospace;background-color: #f0f8ff;border: 1px dotted black;border-radius: 0.25em;box-sizing: border-box;margin-bottom: 0.5em;}#sk-container-id-4 div.sk-estimator:hover {background-color: #d4ebff;}#sk-container-id-4 div.sk-parallel-item::after {content: \"\";width: 100%;border-bottom: 1px solid gray;flex-grow: 1;}#sk-container-id-4 div.sk-label:hover label.sk-toggleable__label {background-color: #d4ebff;}#sk-container-id-4 div.sk-serial::before {content: \"\";position: absolute;border-left: 1px solid gray;box-sizing: border-box;top: 0;bottom: 0;left: 50%;z-index: 0;}#sk-container-id-4 div.sk-serial {display: flex;flex-direction: column;align-items: center;background-color: white;padding-right: 0.2em;padding-left: 0.2em;position: relative;}#sk-container-id-4 div.sk-item {position: relative;z-index: 1;}#sk-container-id-4 div.sk-parallel {display: flex;align-items: stretch;justify-content: center;background-color: white;position: relative;}#sk-container-id-4 div.sk-item::before, #sk-container-id-4 div.sk-parallel-item::before {content: \"\";position: absolute;border-left: 1px solid gray;box-sizing: border-box;top: 0;bottom: 0;left: 50%;z-index: -1;}#sk-container-id-4 div.sk-parallel-item {display: flex;flex-direction: column;z-index: 1;position: relative;background-color: white;}#sk-container-id-4 div.sk-parallel-item:first-child::after {align-self: flex-end;width: 50%;}#sk-container-id-4 div.sk-parallel-item:last-child::after {align-self: flex-start;width: 50%;}#sk-container-id-4 div.sk-parallel-item:only-child::after {width: 0;}#sk-container-id-4 div.sk-dashed-wrapped {border: 1px dashed gray;margin: 0 0.4em 0.5em 0.4em;box-sizing: border-box;padding-bottom: 0.4em;background-color: white;}#sk-container-id-4 div.sk-label label {font-family: monospace;font-weight: bold;display: inline-block;line-height: 1.2em;}#sk-container-id-4 div.sk-label-container {text-align: center;}#sk-container-id-4 div.sk-container {/* jupyter's `normalize.less` sets `[hidden] { display: none; }` but bootstrap.min.css set `[hidden] { display: none !important; }` so we also need the `!important` here to be able to override the default hidden behavior on the sphinx rendered scikit-learn.org. See: https://github.com/scikit-learn/scikit-learn/issues/21755 */display: inline-block !important;position: relative;}#sk-container-id-4 div.sk-text-repr-fallback {display: none;}</style><div id=\"sk-container-id-4\" class=\"sk-top-container\"><div class=\"sk-text-repr-fallback\"><pre>RandomForestClassifier(max_depth=12, n_estimators=150)</pre><b>In a Jupyter environment, please rerun this cell to show the HTML representation or trust the notebook. <br />On GitHub, the HTML representation is unable to render, please try loading this page with nbviewer.org.</b></div><div class=\"sk-container\" hidden><div class=\"sk-item\"><div class=\"sk-estimator sk-toggleable\"><input class=\"sk-toggleable__control sk-hidden--visually\" id=\"sk-estimator-id-8\" type=\"checkbox\" checked><label for=\"sk-estimator-id-8\" class=\"sk-toggleable__label sk-toggleable__label-arrow\">RandomForestClassifier</label><div class=\"sk-toggleable__content\"><pre>RandomForestClassifier(max_depth=12, n_estimators=150)</pre></div></div></div></div></div>"
      ],
      "text/plain": [
       "RandomForestClassifier(max_depth=12, n_estimators=150)"
      ]
     },
     "execution_count": 19,
     "metadata": {},
     "output_type": "execute_result"
    }
   ],
   "source": [
    "rfm.fit(X_train, y_train)"
   ]
  },
  {
   "cell_type": "code",
   "execution_count": 20,
   "metadata": {},
   "outputs": [],
   "source": [
    "y_pred = rfm.predict(X_test)"
   ]
  },
  {
   "cell_type": "code",
   "execution_count": 22,
   "metadata": {},
   "outputs": [
    {
     "name": "stdout",
     "output_type": "stream",
     "text": [
      "Accuracy:  0.8587628865979381\n"
     ]
    }
   ],
   "source": [
    "from sklearn.metrics import accuracy_score\n",
    "accuracy = accuracy_score(y_test, y_pred)\n",
    "print(\"Accuracy: \", accuracy)"
   ]
  },
  {
   "cell_type": "code",
   "execution_count": 24,
   "metadata": {},
   "outputs": [],
   "source": [
    "from sklearn.model_selection import learning_curve\n",
    "from sklearn.model_selection import ShuffleSplit\n",
    "import matplotlib.pyplot as plt"
   ]
  },
  {
   "cell_type": "code",
   "execution_count": 27,
   "metadata": {},
   "outputs": [
    {
     "data": {
      "image/png": "[encoded data removed]",
      "text/plain": [
       "<Figure size 640x480 with 1 Axes>"
      ]
     },
     "metadata": {},
     "output_type": "display_data"
    }
   ],
   "source": [
    "def plot_learning_curve(estimator, title, X, y, axes=None, ylim=None, cv=None):\n",
    "\n",
    "\n",
    "    axes[0].set_title(title)\n",
    "\n",
    "    axes[0].set_xlabel(\"Training examples\")\n",
    "    axes[0].set_ylabel(\"Score\")\n",
    "\n",
    "    train_sizes, train_scores, test_scores, fit_times, _ = \\\n",
    "        learning_curve(estimator, X, y, cv=cv, n_jobs = -1, \\\n",
    "                       train_sizes = np.linspace(.1, 1.0, 5),\n",
    "                       return_times = True)\n",
    "\n",
    "    train_scores_mean = np.mean(train_scores, axis=1)\n",
    "    train_scores_std = np.std(train_scores, axis=1)\n",
    "    test_scores_mean = np.mean(test_scores, axis=1)\n",
    "    test_scores_std = np.std(test_scores, axis=1)\n",
    "    fit_times_mean = np.mean(fit_times, axis=1)\n",
    "    fit_times_std = np.std(fit_times, axis=1)\n",
    "    \n",
    "    # Plot learning curve\n",
    "    axes[0].grid()\n",
    "    axes[0].fill_between(train_sizes, train_scores_mean - train_scores_std,\n",
    "                         train_scores_mean + train_scores_std, alpha=0.1,\n",
    "                         color=\"r\")\n",
    "    axes[0].fill_between(train_sizes, test_scores_mean - test_scores_std,\n",
    "                         test_scores_mean + test_scores_std, alpha=0.1,\n",
    "                         color=\"g\")\n",
    "    axes[0].plot(train_sizes, train_scores_mean, 'o-', color=\"r\",\n",
    "                 label=\"Training score\")\n",
    "    axes[0].plot(train_sizes, test_scores_mean, 'o-', color=\"g\",\n",
    "                 label=\"Cross-validation score\")\n",
    "    axes[0].legend(loc=\"best\")\n",
    "\n",
    "    # Plot n_samples vs fit_times\n",
    "    axes[1].grid()\n",
    "    axes[1].plot(train_sizes, fit_times_mean, 'o-')\n",
    "    axes[1].fill_between(train_sizes, fit_times_mean - fit_times_std,\n",
    "                         fit_times_mean + fit_times_std, alpha=0.1)\n",
    "    axes[1].set_xlabel(\"Training examples\")\n",
    "    axes[1].set_ylabel(\"fit_times\")\n",
    "    axes[1].set_title(\"Scalability of the model\")\n",
    "\n",
    "    # Plot fit_time vs score\n",
    "    axes[2].grid()\n",
    "    axes[2].plot(fit_times_mean, test_scores_mean, 'o-')\n",
    "    axes[2].fill_between(fit_times_mean, test_scores_mean - test_scores_std,\n",
    "                         test_scores_mean + test_scores_std, alpha=0.1)\n",
    "    axes[2].set_xlabel(\"fit times\")\n",
    "    axes[2].set_ylabel(\"Score\")\n",
    "    axes[2].set_title(\"Performance of the model\")\n",
    "\n",
    "    return plt"
   ]
  },
  {
   "cell_type": "code",
   "execution_count": null,
   "metadata": {},
   "outputs": [],
   "source": [
    "fig, axes = plt.subplots(3, 1, figsize=(10, 15))\n",
    "\n",
    "# Plot learning curve for Random Forests algo\n",
    "title = \"Learning Curve for Random Forests for Gender Detection\"\n",
    "\n",
    "# Cross validation with 100 iterations to get smoother mean test and train\n",
    "# score curves, each time with 20% data randomly selected as a validation set.\n",
    "cv = ShuffleSplit(n_splits=50, test_size=0.2, random_state=0)\n",
    "plot_learning_curve(rmf, title, X_train, y_train, axes=axes, \n",
    "                    ylim=(0.7, 1.01), cv = cv)"
   ]
  },
  {
   "cell_type": "code",
   "execution_count": null,
   "metadata": {},
   "outputs": [],
   "source": [
    "from sklearn.metrics import confusion_matrix\n",
    "import matplotlib.pyplot as plt"
   ]
  },
  {
   "cell_type": "code",
   "execution_count": null,
   "metadata": {},
   "outputs": [],
   "source": [
    "def plot_confusion_matrix(labels_test, y_pred, normalize = False, title = None):\n",
    "    conf_matrix = confusion_matrix(labels_test, y_pred)\n",
    "    if normalize:\n",
    "        conf_matrix = conf_matrix.astype('float') / conf_matrix.sum(axis=1)[:, np.newaxis]\n",
    "    plt.imshow(conf_matrix, cmap='Blues')\n",
    "    \n",
    "    plt.xlabel('Predicted labels')\n",
    "    plt.ylabel('True labels')\n",
    "\n",
    "    if title:\n",
    "        plt.title(title)\n",
    "\n",
    "    plt.xticks([0, 1], ['0 (Negative)', '1 (Positive)'])\n",
    "    plt.yticks([0, 1], ['0 (Negative)', '1 (Positive)'])\n",
    "\n",
    "    thresh = conf_matrix.max() / 2.\n",
    "    for i in range(conf_matrix.shape[0]):\n",
    "        for j in range(conf_matrix.shape[1]):\n",
    "            plt.text(j, i, round(conf_matrix[i, j], 4),\n",
    "                     horizontalalignment=\"center\",\n",
    "                     color=\"white\" if conf_matrix[i, j] > thresh else \"black\")\n",
    "\n",
    "    plt.show()"
   ]
  },
  {
   "cell_type": "code",
   "execution_count": null,
   "metadata": {},
   "outputs": [],
   "source": [
    "plot_confusion_matrix(X_test, y_pred, normalize=True, title = 'Random Forests Face Shape')"
   ]
  },
  {
   "cell_type": "code",
   "execution_count": null,
   "metadata": {},
   "outputs": [],
   "source": [
    "from sklearn.metrics import roc_curve, roc_auc_score"
   ]
  },
  {
   "cell_type": "code",
   "execution_count": null,
   "metadata": {},
   "outputs": [],
   "source": [
    "def plot_ROC_curve(model, features_test, labels_test, title = None):\n",
    "\n",
    "    # predict the scores of the positive class\n",
    "    y_scores = model.decision_function(features_test)\n",
    "\n",
    "    # calculate the false positive rate, true positive rate and thresholds\n",
    "    fpr, tpr, thresholds = roc_curve(labels_test, y_scores)\n",
    "\n",
    "    # calculate the AUC\n",
    "    auc = roc_auc_score(labels_test, y_scores)\n",
    "    \n",
    "    # plot the ROC curve\n",
    "    if title:\n",
    "        plt.title(title)\n",
    "        \n",
    "    plt.plot(fpr, tpr, label=f'AUC: {auc:.2f}')\n",
    "    plt.xlabel('False Positive Rate')\n",
    "    plt.ylabel('True Positive Rate')\n",
    "    plt.title(title)\n",
    "    plt.legend()\n",
    "    plt.show()"
   ]
  },
  {
   "cell_type": "code",
   "execution_count": null,
   "metadata": {},
   "outputs": [],
   "source": [
    "plot_ROC_curve(rmf, X_test, y_test, title = 'ROC curve for Random Forest model for Gender Detection')"
   ]
  }
 ],
 "metadata": {
  "kernelspec": {
   "display_name": "Python 3.9.12 ('base')",
   "language": "python",
   "name": "python3"
  },
  "language_info": {
   "codemirror_mode": {
    "name": "ipython",
    "version": 3
   },
   "file_extension": ".py",
   "mimetype": "text/x-python",
   "name": "python",
   "nbconvert_exporter": "python",
   "pygments_lexer": "ipython3",
   "version": "3.9.12"
  },
  "orig_nbformat": 4,
  "vscode": {
   "interpreter": {
    "hash": "2d3439f45b569e714526962a83f54a0b286ccce6e9281f36eb0cf06ce572a0d4"
   }
  }
 },
 "nbformat": 4,
 "nbformat_minor": 2
}
