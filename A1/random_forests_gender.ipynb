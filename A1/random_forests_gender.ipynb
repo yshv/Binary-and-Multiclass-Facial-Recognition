{
 "cells": [
  {
   "cell_type": "markdown",
   "metadata": {},
   "source": [
    "# ELEC0134 - Applied Machine Learning Systems Assignment 22-23\n",
    "## A1: Gender Detection\n",
    "\n",
    "*Note preprocessing step is skipped as preprocessing was completed in SVM notebook."
   ]
  },
  {
   "cell_type": "code",
   "execution_count": 3,
   "metadata": {},
   "outputs": [],
   "source": [
    "import numpy as np\n",
    "from sklearn.ensemble import RandomForestClassifier\n",
    "from sklearn.model_selection import GridSearchCV\n"
   ]
  },
  {
   "cell_type": "code",
   "execution_count": 4,
   "metadata": {},
   "outputs": [],
   "source": [
    "# Loading in training and test data from npy files\n",
    "X_train = np.load('all_features_train.npy')\n",
    "y_train = np.load('gender_labels_train.npy')\n",
    "\n",
    "X_test = np.load('all_features_test.npy')\n",
    "y_test = np.load('gender_labels_test.npy')"
   ]
  },
  {
   "cell_type": "code",
   "execution_count": 5,
   "metadata": {},
   "outputs": [
    {
     "name": "stdout",
     "output_type": "stream",
     "text": [
      "features_train:  (4798, 136)\n",
      "features_test:  (970, 136)\n",
      "labels_train:  (4798,)\n",
      "labels_test:  (970,)\n"
     ]
    }
   ],
   "source": [
    "print('features_train: ', X_train.shape)\n",
    "print('features_test: ', X_test.shape)\n",
    "print('labels_train: ', y_train.shape)\n",
    "print('labels_test: ', y_test.shape)"
   ]
  },
  {
   "cell_type": "code",
   "execution_count": 6,
   "metadata": {},
   "outputs": [
    {
     "name": "stdout",
     "output_type": "stream",
     "text": [
      "Fitting 10 folds for each of 12 candidates, totalling 120 fits\n",
      "[CV 1/10] END .....max_depth=2, n_estimators=50;, score=0.838 total time=   1.1s\n",
      "[CV 2/10] END .....max_depth=2, n_estimators=50;, score=0.798 total time=   0.8s\n",
      "[CV 3/10] END .....max_depth=2, n_estimators=50;, score=0.808 total time=   0.5s\n",
      "[CV 4/10] END .....max_depth=2, n_estimators=50;, score=0.802 total time=   0.8s\n",
      "[CV 5/10] END .....max_depth=2, n_estimators=50;, score=0.812 total time=   0.5s\n",
      "[CV 6/10] END .....max_depth=2, n_estimators=50;, score=0.815 total time=   0.7s\n",
      "[CV 7/10] END .....max_depth=2, n_estimators=50;, score=0.823 total time=   0.5s\n",
      "[CV 8/10] END .....max_depth=2, n_estimators=50;, score=0.819 total time=   0.7s\n",
      "[CV 9/10] END .....max_depth=2, n_estimators=50;, score=0.785 total time=   0.8s\n",
      "[CV 10/10] END ....max_depth=2, n_estimators=50;, score=0.835 total time=   0.6s\n",
      "[CV 1/10] END ....max_depth=2, n_estimators=100;, score=0.850 total time=   1.0s\n",
      "[CV 2/10] END ....max_depth=2, n_estimators=100;, score=0.800 total time=   0.7s\n",
      "[CV 3/10] END ....max_depth=2, n_estimators=100;, score=0.819 total time=   0.7s\n",
      "[CV 4/10] END ....max_depth=2, n_estimators=100;, score=0.800 total time=   0.8s\n",
      "[CV 5/10] END ....max_depth=2, n_estimators=100;, score=0.815 total time=   1.0s\n",
      "[CV 6/10] END ....max_depth=2, n_estimators=100;, score=0.810 total time=   0.7s\n",
      "[CV 7/10] END ....max_depth=2, n_estimators=100;, score=0.823 total time=   0.6s\n",
      "[CV 8/10] END ....max_depth=2, n_estimators=100;, score=0.831 total time=   0.6s\n",
      "[CV 9/10] END ....max_depth=2, n_estimators=100;, score=0.785 total time=   0.6s\n",
      "[CV 10/10] END ...max_depth=2, n_estimators=100;, score=0.839 total time=   1.0s\n",
      "[CV 1/10] END ....max_depth=2, n_estimators=150;, score=0.840 total time=   1.3s\n",
      "[CV 2/10] END ....max_depth=2, n_estimators=150;, score=0.806 total time=   1.2s\n",
      "[CV 3/10] END ....max_depth=2, n_estimators=150;, score=0.819 total time=   1.2s\n",
      "[CV 4/10] END ....max_depth=2, n_estimators=150;, score=0.798 total time=   1.2s\n",
      "[CV 5/10] END ....max_depth=2, n_estimators=150;, score=0.821 total time=   1.1s\n",
      "[CV 6/10] END ....max_depth=2, n_estimators=150;, score=0.810 total time=   1.5s\n",
      "[CV 7/10] END ....max_depth=2, n_estimators=150;, score=0.833 total time=   1.1s\n",
      "[CV 8/10] END ....max_depth=2, n_estimators=150;, score=0.840 total time=   1.2s\n",
      "[CV 9/10] END ....max_depth=2, n_estimators=150;, score=0.777 total time=   0.9s\n",
      "[CV 10/10] END ...max_depth=2, n_estimators=150;, score=0.846 total time=   1.0s\n",
      "[CV 1/10] END .....max_depth=4, n_estimators=50;, score=0.860 total time=   0.4s\n",
      "[CV 2/10] END .....max_depth=4, n_estimators=50;, score=0.823 total time=   0.4s\n",
      "[CV 3/10] END .....max_depth=4, n_estimators=50;, score=0.833 total time=   0.4s\n",
      "[CV 4/10] END .....max_depth=4, n_estimators=50;, score=0.833 total time=   0.4s\n",
      "[CV 5/10] END .....max_depth=4, n_estimators=50;, score=0.829 total time=   0.4s\n",
      "[CV 6/10] END .....max_depth=4, n_estimators=50;, score=0.842 total time=   0.4s\n",
      "[CV 7/10] END .....max_depth=4, n_estimators=50;, score=0.842 total time=   0.4s\n",
      "[CV 8/10] END .....max_depth=4, n_estimators=50;, score=0.850 total time=   0.4s\n",
      "[CV 9/10] END .....max_depth=4, n_estimators=50;, score=0.823 total time=   0.4s\n",
      "[CV 10/10] END ....max_depth=4, n_estimators=50;, score=0.850 total time=   0.4s\n",
      "[CV 1/10] END ....max_depth=4, n_estimators=100;, score=0.867 total time=   0.8s\n",
      "[CV 2/10] END ....max_depth=4, n_estimators=100;, score=0.825 total time=   0.8s\n",
      "[CV 3/10] END ....max_depth=4, n_estimators=100;, score=0.856 total time=   0.9s\n",
      "[CV 4/10] END ....max_depth=4, n_estimators=100;, score=0.835 total time=   1.2s\n",
      "[CV 5/10] END ....max_depth=4, n_estimators=100;, score=0.840 total time=   1.1s\n",
      "[CV 6/10] END ....max_depth=4, n_estimators=100;, score=0.844 total time=   1.1s\n",
      "[CV 7/10] END ....max_depth=4, n_estimators=100;, score=0.852 total time=   1.0s\n",
      "[CV 8/10] END ....max_depth=4, n_estimators=100;, score=0.854 total time=   0.9s\n",
      "[CV 9/10] END ....max_depth=4, n_estimators=100;, score=0.839 total time=   0.8s\n",
      "[CV 10/10] END ...max_depth=4, n_estimators=100;, score=0.856 total time=   1.0s\n",
      "[CV 1/10] END ....max_depth=4, n_estimators=150;, score=0.865 total time=   1.9s\n",
      "[CV 2/10] END ....max_depth=4, n_estimators=150;, score=0.831 total time=   1.2s\n",
      "[CV 3/10] END ....max_depth=4, n_estimators=150;, score=0.844 total time=   1.2s\n",
      "[CV 4/10] END ....max_depth=4, n_estimators=150;, score=0.831 total time=   1.3s\n",
      "[CV 5/10] END ....max_depth=4, n_estimators=150;, score=0.833 total time=   1.2s\n",
      "[CV 6/10] END ....max_depth=4, n_estimators=150;, score=0.831 total time=   1.2s\n",
      "[CV 7/10] END ....max_depth=4, n_estimators=150;, score=0.854 total time=   1.2s\n",
      "[CV 8/10] END ....max_depth=4, n_estimators=150;, score=0.860 total time=   1.2s\n",
      "[CV 9/10] END ....max_depth=4, n_estimators=150;, score=0.841 total time=   1.2s\n",
      "[CV 10/10] END ...max_depth=4, n_estimators=150;, score=0.856 total time=   1.3s\n",
      "[CV 1/10] END .....max_depth=6, n_estimators=50;, score=0.883 total time=   0.6s\n",
      "[CV 2/10] END .....max_depth=6, n_estimators=50;, score=0.835 total time=   0.6s\n",
      "[CV 3/10] END .....max_depth=6, n_estimators=50;, score=0.848 total time=   0.6s\n",
      "[CV 4/10] END .....max_depth=6, n_estimators=50;, score=0.840 total time=   0.5s\n",
      "[CV 5/10] END .....max_depth=6, n_estimators=50;, score=0.848 total time=   0.5s\n",
      "[CV 6/10] END .....max_depth=6, n_estimators=50;, score=0.846 total time=   0.6s\n",
      "[CV 7/10] END .....max_depth=6, n_estimators=50;, score=0.858 total time=   0.6s\n",
      "[CV 8/10] END .....max_depth=6, n_estimators=50;, score=0.863 total time=   0.6s\n",
      "[CV 9/10] END .....max_depth=6, n_estimators=50;, score=0.856 total time=   0.6s\n",
      "[CV 10/10] END ....max_depth=6, n_estimators=50;, score=0.866 total time=   0.6s\n",
      "[CV 1/10] END ....max_depth=6, n_estimators=100;, score=0.875 total time=   1.1s\n",
      "[CV 2/10] END ....max_depth=6, n_estimators=100;, score=0.844 total time=   1.1s\n",
      "[CV 3/10] END ....max_depth=6, n_estimators=100;, score=0.852 total time=   1.1s\n",
      "[CV 4/10] END ....max_depth=6, n_estimators=100;, score=0.846 total time=   1.1s\n",
      "[CV 5/10] END ....max_depth=6, n_estimators=100;, score=0.838 total time=   1.1s\n",
      "[CV 6/10] END ....max_depth=6, n_estimators=100;, score=0.850 total time=   1.1s\n",
      "[CV 7/10] END ....max_depth=6, n_estimators=100;, score=0.860 total time=   1.1s\n",
      "[CV 8/10] END ....max_depth=6, n_estimators=100;, score=0.867 total time=   1.1s\n",
      "[CV 9/10] END ....max_depth=6, n_estimators=100;, score=0.854 total time=   1.1s\n",
      "[CV 10/10] END ...max_depth=6, n_estimators=100;, score=0.866 total time=   1.2s\n",
      "[CV 1/10] END ....max_depth=6, n_estimators=150;, score=0.875 total time=   1.6s\n",
      "[CV 2/10] END ....max_depth=6, n_estimators=150;, score=0.850 total time=   1.6s\n",
      "[CV 3/10] END ....max_depth=6, n_estimators=150;, score=0.848 total time=   1.7s\n",
      "[CV 4/10] END ....max_depth=6, n_estimators=150;, score=0.858 total time=   1.6s\n",
      "[CV 5/10] END ....max_depth=6, n_estimators=150;, score=0.846 total time=   1.7s\n",
      "[CV 6/10] END ....max_depth=6, n_estimators=150;, score=0.844 total time=   1.7s\n",
      "[CV 7/10] END ....max_depth=6, n_estimators=150;, score=0.869 total time=   1.6s\n",
      "[CV 8/10] END ....max_depth=6, n_estimators=150;, score=0.867 total time=   1.6s\n",
      "[CV 9/10] END ....max_depth=6, n_estimators=150;, score=0.848 total time=   1.7s\n",
      "[CV 10/10] END ...max_depth=6, n_estimators=150;, score=0.864 total time=   1.6s\n",
      "[CV 1/10] END .....max_depth=8, n_estimators=50;, score=0.873 total time=   0.7s\n",
      "[CV 2/10] END .....max_depth=8, n_estimators=50;, score=0.850 total time=   0.7s\n",
      "[CV 3/10] END .....max_depth=8, n_estimators=50;, score=0.846 total time=   0.7s\n",
      "[CV 4/10] END .....max_depth=8, n_estimators=50;, score=0.848 total time=   0.7s\n",
      "[CV 5/10] END .....max_depth=8, n_estimators=50;, score=0.842 total time=   0.7s\n",
      "[CV 6/10] END .....max_depth=8, n_estimators=50;, score=0.842 total time=   0.7s\n",
      "[CV 7/10] END .....max_depth=8, n_estimators=50;, score=0.865 total time=   0.7s\n",
      "[CV 8/10] END .....max_depth=8, n_estimators=50;, score=0.860 total time=   0.7s\n",
      "[CV 9/10] END .....max_depth=8, n_estimators=50;, score=0.846 total time=   0.8s\n",
      "[CV 10/10] END ....max_depth=8, n_estimators=50;, score=0.862 total time=   0.7s\n",
      "[CV 1/10] END ....max_depth=8, n_estimators=100;, score=0.883 total time=   1.4s\n",
      "[CV 2/10] END ....max_depth=8, n_estimators=100;, score=0.848 total time=   1.4s\n",
      "[CV 3/10] END ....max_depth=8, n_estimators=100;, score=0.856 total time=   1.4s\n",
      "[CV 4/10] END ....max_depth=8, n_estimators=100;, score=0.856 total time=   1.4s\n",
      "[CV 5/10] END ....max_depth=8, n_estimators=100;, score=0.854 total time=   1.4s\n",
      "[CV 6/10] END ....max_depth=8, n_estimators=100;, score=0.858 total time=   1.4s\n",
      "[CV 7/10] END ....max_depth=8, n_estimators=100;, score=0.869 total time=   1.4s\n",
      "[CV 8/10] END ....max_depth=8, n_estimators=100;, score=0.871 total time=   1.4s\n",
      "[CV 9/10] END ....max_depth=8, n_estimators=100;, score=0.866 total time=   1.4s\n",
      "[CV 10/10] END ...max_depth=8, n_estimators=100;, score=0.858 total time=   1.4s\n",
      "[CV 1/10] END ....max_depth=8, n_estimators=150;, score=0.879 total time=   2.1s\n",
      "[CV 2/10] END ....max_depth=8, n_estimators=150;, score=0.850 total time=   2.1s\n",
      "[CV 3/10] END ....max_depth=8, n_estimators=150;, score=0.850 total time=   2.1s\n",
      "[CV 4/10] END ....max_depth=8, n_estimators=150;, score=0.850 total time=   2.1s\n",
      "[CV 5/10] END ....max_depth=8, n_estimators=150;, score=0.858 total time=   2.2s\n",
      "[CV 6/10] END ....max_depth=8, n_estimators=150;, score=0.850 total time=   2.1s\n",
      "[CV 7/10] END ....max_depth=8, n_estimators=150;, score=0.879 total time=   2.1s\n",
      "[CV 8/10] END ....max_depth=8, n_estimators=150;, score=0.867 total time=   2.1s\n",
      "[CV 9/10] END ....max_depth=8, n_estimators=150;, score=0.854 total time=   2.0s\n",
      "[CV 10/10] END ...max_depth=8, n_estimators=150;, score=0.873 total time=   2.1s\n"
     ]
    },
    {
     "data": {
      "text/html": [
       "<style>#sk-container-id-1 {color: black;background-color: white;}#sk-container-id-1 pre{padding: 0;}#sk-container-id-1 div.sk-toggleable {background-color: white;}#sk-container-id-1 label.sk-toggleable__label {cursor: pointer;display: block;width: 100%;margin-bottom: 0;padding: 0.3em;box-sizing: border-box;text-align: center;}#sk-container-id-1 label.sk-toggleable__label-arrow:before {content: \"▸\";float: left;margin-right: 0.25em;color: #696969;}#sk-container-id-1 label.sk-toggleable__label-arrow:hover:before {color: black;}#sk-container-id-1 div.sk-estimator:hover label.sk-toggleable__label-arrow:before {color: black;}#sk-container-id-1 div.sk-toggleable__content {max-height: 0;max-width: 0;overflow: hidden;text-align: left;background-color: #f0f8ff;}#sk-container-id-1 div.sk-toggleable__content pre {margin: 0.2em;color: black;border-radius: 0.25em;background-color: #f0f8ff;}#sk-container-id-1 input.sk-toggleable__control:checked~div.sk-toggleable__content {max-height: 200px;max-width: 100%;overflow: auto;}#sk-container-id-1 input.sk-toggleable__control:checked~label.sk-toggleable__label-arrow:before {content: \"▾\";}#sk-container-id-1 div.sk-estimator input.sk-toggleable__control:checked~label.sk-toggleable__label {background-color: #d4ebff;}#sk-container-id-1 div.sk-label input.sk-toggleable__control:checked~label.sk-toggleable__label {background-color: #d4ebff;}#sk-container-id-1 input.sk-hidden--visually {border: 0;clip: rect(1px 1px 1px 1px);clip: rect(1px, 1px, 1px, 1px);height: 1px;margin: -1px;overflow: hidden;padding: 0;position: absolute;width: 1px;}#sk-container-id-1 div.sk-estimator {font-family: monospace;background-color: #f0f8ff;border: 1px dotted black;border-radius: 0.25em;box-sizing: border-box;margin-bottom: 0.5em;}#sk-container-id-1 div.sk-estimator:hover {background-color: #d4ebff;}#sk-container-id-1 div.sk-parallel-item::after {content: \"\";width: 100%;border-bottom: 1px solid gray;flex-grow: 1;}#sk-container-id-1 div.sk-label:hover label.sk-toggleable__label {background-color: #d4ebff;}#sk-container-id-1 div.sk-serial::before {content: \"\";position: absolute;border-left: 1px solid gray;box-sizing: border-box;top: 0;bottom: 0;left: 50%;z-index: 0;}#sk-container-id-1 div.sk-serial {display: flex;flex-direction: column;align-items: center;background-color: white;padding-right: 0.2em;padding-left: 0.2em;position: relative;}#sk-container-id-1 div.sk-item {position: relative;z-index: 1;}#sk-container-id-1 div.sk-parallel {display: flex;align-items: stretch;justify-content: center;background-color: white;position: relative;}#sk-container-id-1 div.sk-item::before, #sk-container-id-1 div.sk-parallel-item::before {content: \"\";position: absolute;border-left: 1px solid gray;box-sizing: border-box;top: 0;bottom: 0;left: 50%;z-index: -1;}#sk-container-id-1 div.sk-parallel-item {display: flex;flex-direction: column;z-index: 1;position: relative;background-color: white;}#sk-container-id-1 div.sk-parallel-item:first-child::after {align-self: flex-end;width: 50%;}#sk-container-id-1 div.sk-parallel-item:last-child::after {align-self: flex-start;width: 50%;}#sk-container-id-1 div.sk-parallel-item:only-child::after {width: 0;}#sk-container-id-1 div.sk-dashed-wrapped {border: 1px dashed gray;margin: 0 0.4em 0.5em 0.4em;box-sizing: border-box;padding-bottom: 0.4em;background-color: white;}#sk-container-id-1 div.sk-label label {font-family: monospace;font-weight: bold;display: inline-block;line-height: 1.2em;}#sk-container-id-1 div.sk-label-container {text-align: center;}#sk-container-id-1 div.sk-container {/* jupyter's `normalize.less` sets `[hidden] { display: none; }` but bootstrap.min.css set `[hidden] { display: none !important; }` so we also need the `!important` here to be able to override the default hidden behavior on the sphinx rendered scikit-learn.org. See: https://github.com/scikit-learn/scikit-learn/issues/21755 */display: inline-block !important;position: relative;}#sk-container-id-1 div.sk-text-repr-fallback {display: none;}</style><div id=\"sk-container-id-1\" class=\"sk-top-container\"><div class=\"sk-text-repr-fallback\"><pre>GridSearchCV(cv=10, estimator=RandomForestClassifier(),\n",
       "             param_grid={&#x27;max_depth&#x27;: [2, 4, 6, 8],\n",
       "                         &#x27;n_estimators&#x27;: [50, 100, 150]},\n",
       "             verbose=3)</pre><b>In a Jupyter environment, please rerun this cell to show the HTML representation or trust the notebook. <br />On GitHub, the HTML representation is unable to render, please try loading this page with nbviewer.org.</b></div><div class=\"sk-container\" hidden><div class=\"sk-item sk-dashed-wrapped\"><div class=\"sk-label-container\"><div class=\"sk-label sk-toggleable\"><input class=\"sk-toggleable__control sk-hidden--visually\" id=\"sk-estimator-id-1\" type=\"checkbox\" ><label for=\"sk-estimator-id-1\" class=\"sk-toggleable__label sk-toggleable__label-arrow\">GridSearchCV</label><div class=\"sk-toggleable__content\"><pre>GridSearchCV(cv=10, estimator=RandomForestClassifier(),\n",
       "             param_grid={&#x27;max_depth&#x27;: [2, 4, 6, 8],\n",
       "                         &#x27;n_estimators&#x27;: [50, 100, 150]},\n",
       "             verbose=3)</pre></div></div></div><div class=\"sk-parallel\"><div class=\"sk-parallel-item\"><div class=\"sk-item\"><div class=\"sk-label-container\"><div class=\"sk-label sk-toggleable\"><input class=\"sk-toggleable__control sk-hidden--visually\" id=\"sk-estimator-id-2\" type=\"checkbox\" ><label for=\"sk-estimator-id-2\" class=\"sk-toggleable__label sk-toggleable__label-arrow\">estimator: RandomForestClassifier</label><div class=\"sk-toggleable__content\"><pre>RandomForestClassifier()</pre></div></div></div><div class=\"sk-serial\"><div class=\"sk-item\"><div class=\"sk-estimator sk-toggleable\"><input class=\"sk-toggleable__control sk-hidden--visually\" id=\"sk-estimator-id-3\" type=\"checkbox\" ><label for=\"sk-estimator-id-3\" class=\"sk-toggleable__label sk-toggleable__label-arrow\">RandomForestClassifier</label><div class=\"sk-toggleable__content\"><pre>RandomForestClassifier()</pre></div></div></div></div></div></div></div></div></div></div>"
      ],
      "text/plain": [
       "GridSearchCV(cv=10, estimator=RandomForestClassifier(),\n",
       "             param_grid={'max_depth': [2, 4, 6, 8],\n",
       "                         'n_estimators': [50, 100, 150]},\n",
       "             verbose=3)"
      ]
     },
     "execution_count": 6,
     "metadata": {},
     "output_type": "execute_result"
    }
   ],
   "source": [
    "param_grid = {'n_estimators': [50, 100, 150],\n",
    "              'max_depth': [2, 4, 6, 8, 10, 12]}\n",
    "\n",
    "\n",
    "# rfm = random forest model\n",
    "rfm = RandomForestClassifier()\n",
    "grid_search = GridSearchCV(rfm, param_grid, verbose = 3, cv = 10)\n",
    "grid_search.fit(X_train, y_train)"
   ]
  },
  {
   "cell_type": "code",
   "execution_count": 7,
   "metadata": {},
   "outputs": [
    {
     "name": "stdout",
     "output_type": "stream",
     "text": [
      "Best parameters:  {'max_depth': 8, 'n_estimators': 100}\n",
      "Best score:  0.8620259220598468\n"
     ]
    }
   ],
   "source": [
    "print(\"Best parameters: \", grid_search.best_params_)\n",
    "print(\"Best score: \", grid_search.best_score_)"
   ]
  },
  {
   "cell_type": "code",
   "execution_count": 8,
   "metadata": {},
   "outputs": [],
   "source": [
    "rfm = RandomForestClassifier(**grid_search.best_params_)"
   ]
  },
  {
   "cell_type": "code",
   "execution_count": 9,
   "metadata": {},
   "outputs": [
    {
     "data": {
      "text/html": [
       "<style>#sk-container-id-2 {color: black;background-color: white;}#sk-container-id-2 pre{padding: 0;}#sk-container-id-2 div.sk-toggleable {background-color: white;}#sk-container-id-2 label.sk-toggleable__label {cursor: pointer;display: block;width: 100%;margin-bottom: 0;padding: 0.3em;box-sizing: border-box;text-align: center;}#sk-container-id-2 label.sk-toggleable__label-arrow:before {content: \"▸\";float: left;margin-right: 0.25em;color: #696969;}#sk-container-id-2 label.sk-toggleable__label-arrow:hover:before {color: black;}#sk-container-id-2 div.sk-estimator:hover label.sk-toggleable__label-arrow:before {color: black;}#sk-container-id-2 div.sk-toggleable__content {max-height: 0;max-width: 0;overflow: hidden;text-align: left;background-color: #f0f8ff;}#sk-container-id-2 div.sk-toggleable__content pre {margin: 0.2em;color: black;border-radius: 0.25em;background-color: #f0f8ff;}#sk-container-id-2 input.sk-toggleable__control:checked~div.sk-toggleable__content {max-height: 200px;max-width: 100%;overflow: auto;}#sk-container-id-2 input.sk-toggleable__control:checked~label.sk-toggleable__label-arrow:before {content: \"▾\";}#sk-container-id-2 div.sk-estimator input.sk-toggleable__control:checked~label.sk-toggleable__label {background-color: #d4ebff;}#sk-container-id-2 div.sk-label input.sk-toggleable__control:checked~label.sk-toggleable__label {background-color: #d4ebff;}#sk-container-id-2 input.sk-hidden--visually {border: 0;clip: rect(1px 1px 1px 1px);clip: rect(1px, 1px, 1px, 1px);height: 1px;margin: -1px;overflow: hidden;padding: 0;position: absolute;width: 1px;}#sk-container-id-2 div.sk-estimator {font-family: monospace;background-color: #f0f8ff;border: 1px dotted black;border-radius: 0.25em;box-sizing: border-box;margin-bottom: 0.5em;}#sk-container-id-2 div.sk-estimator:hover {background-color: #d4ebff;}#sk-container-id-2 div.sk-parallel-item::after {content: \"\";width: 100%;border-bottom: 1px solid gray;flex-grow: 1;}#sk-container-id-2 div.sk-label:hover label.sk-toggleable__label {background-color: #d4ebff;}#sk-container-id-2 div.sk-serial::before {content: \"\";position: absolute;border-left: 1px solid gray;box-sizing: border-box;top: 0;bottom: 0;left: 50%;z-index: 0;}#sk-container-id-2 div.sk-serial {display: flex;flex-direction: column;align-items: center;background-color: white;padding-right: 0.2em;padding-left: 0.2em;position: relative;}#sk-container-id-2 div.sk-item {position: relative;z-index: 1;}#sk-container-id-2 div.sk-parallel {display: flex;align-items: stretch;justify-content: center;background-color: white;position: relative;}#sk-container-id-2 div.sk-item::before, #sk-container-id-2 div.sk-parallel-item::before {content: \"\";position: absolute;border-left: 1px solid gray;box-sizing: border-box;top: 0;bottom: 0;left: 50%;z-index: -1;}#sk-container-id-2 div.sk-parallel-item {display: flex;flex-direction: column;z-index: 1;position: relative;background-color: white;}#sk-container-id-2 div.sk-parallel-item:first-child::after {align-self: flex-end;width: 50%;}#sk-container-id-2 div.sk-parallel-item:last-child::after {align-self: flex-start;width: 50%;}#sk-container-id-2 div.sk-parallel-item:only-child::after {width: 0;}#sk-container-id-2 div.sk-dashed-wrapped {border: 1px dashed gray;margin: 0 0.4em 0.5em 0.4em;box-sizing: border-box;padding-bottom: 0.4em;background-color: white;}#sk-container-id-2 div.sk-label label {font-family: monospace;font-weight: bold;display: inline-block;line-height: 1.2em;}#sk-container-id-2 div.sk-label-container {text-align: center;}#sk-container-id-2 div.sk-container {/* jupyter's `normalize.less` sets `[hidden] { display: none; }` but bootstrap.min.css set `[hidden] { display: none !important; }` so we also need the `!important` here to be able to override the default hidden behavior on the sphinx rendered scikit-learn.org. See: https://github.com/scikit-learn/scikit-learn/issues/21755 */display: inline-block !important;position: relative;}#sk-container-id-2 div.sk-text-repr-fallback {display: none;}</style><div id=\"sk-container-id-2\" class=\"sk-top-container\"><div class=\"sk-text-repr-fallback\"><pre>RandomForestClassifier(max_depth=8)</pre><b>In a Jupyter environment, please rerun this cell to show the HTML representation or trust the notebook. <br />On GitHub, the HTML representation is unable to render, please try loading this page with nbviewer.org.</b></div><div class=\"sk-container\" hidden><div class=\"sk-item\"><div class=\"sk-estimator sk-toggleable\"><input class=\"sk-toggleable__control sk-hidden--visually\" id=\"sk-estimator-id-4\" type=\"checkbox\" checked><label for=\"sk-estimator-id-4\" class=\"sk-toggleable__label sk-toggleable__label-arrow\">RandomForestClassifier</label><div class=\"sk-toggleable__content\"><pre>RandomForestClassifier(max_depth=8)</pre></div></div></div></div></div>"
      ],
      "text/plain": [
       "RandomForestClassifier(max_depth=8)"
      ]
     },
     "execution_count": 9,
     "metadata": {},
     "output_type": "execute_result"
    }
   ],
   "source": [
    "rfm.fit(X_train, y_train)"
   ]
  },
  {
   "cell_type": "code",
   "execution_count": 10,
   "metadata": {},
   "outputs": [],
   "source": [
    "y_pred = rfm.predict(X_test)"
   ]
  },
  {
   "cell_type": "code",
   "execution_count": 11,
   "metadata": {},
   "outputs": [
    {
     "name": "stdout",
     "output_type": "stream",
     "text": [
      "Accuracy:  0.8463917525773196\n"
     ]
    }
   ],
   "source": [
    "from sklearn.metrics import accuracy_score\n",
    "accuracy = accuracy_score(y_test, y_pred)\n",
    "print(\"Accuracy: \", accuracy)"
   ]
  },
  {
   "cell_type": "code",
   "execution_count": 12,
   "metadata": {},
   "outputs": [
    {
     "name": "stdout",
     "output_type": "stream",
     "text": [
      "[[434  55]\n",
      " [ 94 387]]\n"
     ]
    }
   ],
   "source": [
    "from sklearn.metrics import confusion_matrix\n",
    "print(confusion_matrix(y_test, y_pred))"
   ]
  },
  {
   "cell_type": "code",
   "execution_count": 13,
   "metadata": {},
   "outputs": [],
   "source": [
    "from sklearn.model_selection import learning_curve\n",
    "import matplotlib.pyplot as plt"
   ]
  },
  {
   "cell_type": "code",
   "execution_count": 14,
   "metadata": {},
   "outputs": [
    {
     "data": {
      "image/png": "[encoded data removed]",
      "text/plain": [
       "<Figure size 640x480 with 1 Axes>"
      ]
     },
     "metadata": {},
     "output_type": "display_data"
    }
   ],
   "source": [
    "train_sizes, train_scores, test_scores = learning_curve(rfm, X_train, y_train, cv=5, n_jobs=-1, \n",
    "                                                       train_sizes=np.linspace(0.1, 1.0, 10), \n",
    "                                                       scoring='accuracy')\n",
    "\n",
    "train_scores_mean = np.mean(train_scores, axis=1)\n",
    "train_scores_std = np.std(train_scores, axis=1)\n",
    "test_scores_mean = np.mean(test_scores, axis=1)\n",
    "test_scores_std = np.std(test_scores, axis=1)\n",
    "\n",
    "plt.figure()\n",
    "plt.title(\"Random Forest Classifier\")\n",
    "plt.xlabel(\"Training examples\")\n",
    "plt.ylabel(\"Score\")\n",
    "plt.ylim((0.6, 1.01))\n",
    "plt.grid()\n",
    "\n",
    "plt.fill_between(train_sizes, train_scores_mean - train_scores_std, train_scores_mean + train_scores_std, alpha=0.1, color=\"r\")\n",
    "plt.fill_between(train_sizes, test_scores_mean - test_scores_std, test_scores_mean + test_scores_std, alpha=0.1, color=\"g\")\n",
    "plt.plot(train_sizes, train_scores_mean, 'o-', color=\"r\", label=\"Training score\")\n",
    "plt.plot(train_sizes, test_scores_mean, 'o-', color=\"g\", label=\"Cross-validation score\")\n",
    "plt.legend(loc=\"best\")\n",
    "plt.show()"
   ]
  }
 ],
 "metadata": {
  "kernelspec": {
   "display_name": "Python 3.9.12 ('base')",
   "language": "python",
   "name": "python3"
  },
  "language_info": {
   "codemirror_mode": {
    "name": "ipython",
    "version": 3
   },
   "file_extension": ".py",
   "mimetype": "text/x-python",
   "name": "python",
   "nbconvert_exporter": "python",
   "pygments_lexer": "ipython3",
   "version": "3.9.12"
  },
  "orig_nbformat": 4,
  "vscode": {
   "interpreter": {
    "hash": "2d3439f45b569e714526962a83f54a0b286ccce6e9281f36eb0cf06ce572a0d4"
   }
  }
 },
 "nbformat": 4,
 "nbformat_minor": 2
}
