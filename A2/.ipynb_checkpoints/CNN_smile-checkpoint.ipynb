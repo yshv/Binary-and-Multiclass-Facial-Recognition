{
 "cells": [
  {
   "cell_type": "code",
   "execution_count": 1,
   "id": "ea046546",
   "metadata": {},
   "outputs": [
    {
     "name": "stdout",
     "output_type": "stream",
     "text": [
      "/home/zceeysa/Documents/ELEC0134/ELEC0134/A2\n"
     ]
    }
   ],
   "source": [
    "# Import libraries\n",
    "import numpy as np\n",
    "import pandas as pd\n",
    "import os\n",
    "print(os.getcwd())\n"
   ]
  },
  {
   "cell_type": "code",
   "execution_count": 2,
   "id": "3f0661da",
   "metadata": {},
   "outputs": [],
   "source": [
    "# Only run this once\n",
    "os.chdir('..')"
   ]
  },
  {
   "cell_type": "code",
   "execution_count": 3,
   "id": "307a7b33",
   "metadata": {},
   "outputs": [],
   "source": [
    "base_dir = '/home/zceeysa/Documents/ELEC0134/ELEC0134'\n",
    "\n",
    "os.chdir(base_dir)"
   ]
  },
  {
   "cell_type": "code",
   "execution_count": 4,
   "id": "6fc38462",
   "metadata": {},
   "outputs": [
    {
     "name": "stdout",
     "output_type": "stream",
     "text": [
      "/home/zceeysa/Documents/ELEC0134/ELEC0134\n"
     ]
    }
   ],
   "source": [
    "print(os.getcwd())"
   ]
  },
  {
   "cell_type": "code",
   "execution_count": 5,
   "id": "c39c362f",
   "metadata": {},
   "outputs": [
    {
     "name": "stdout",
     "output_type": "stream",
     "text": [
      "  img_name  smiling\n",
      "0    0.jpg        1\n",
      "1    1.jpg        1\n",
      "2    2.jpg       -1\n",
      "3    3.jpg       -1\n",
      "4    4.jpg       -1\n",
      "  img_name  smiling\n",
      "0    0.jpg        1\n",
      "1    1.jpg        1\n",
      "2    2.jpg       -1\n",
      "3    3.jpg       -1\n",
      "4    4.jpg       -1\n"
     ]
    },
    {
     "name": "stderr",
     "output_type": "stream",
     "text": [
      "/tmp/ipykernel_2391430/1844614804.py:10: SettingWithCopyWarning: \n",
      "A value is trying to be set on a copy of a slice from a DataFrame.\n",
      "Try using .loc[row_indexer,col_indexer] = value instead\n",
      "\n",
      "See the caveats in the documentation: https://pandas.pydata.org/pandas-docs/stable/user_guide/indexing.html#returning-a-view-versus-a-copy\n",
      "  train_df[\"smiling\"] = train_df[\"smiling\"].astype(str)\n"
     ]
    }
   ],
   "source": [
    "\n",
    "# Converting csv into dataframe using read_csv(label_path)\n",
    "train_cartoon_df = pd.read_csv('Dataset/dataset_AMLS_22-23/celeba/labels.csv', sep='\\t', engine='python')\n",
    "train_df = train_cartoon_df[['img_name', 'smiling']]\n",
    "print(train_df.head())\n",
    "\n",
    "# Convert the face shape column to class 1-5\n",
    "print(train_df.head())\n",
    "\n",
    "# Convert face shape column type from int64 to str for data generator\n",
    "train_df[\"smiling\"] = train_df[\"smiling\"].astype(str)\n"
   ]
  },
  {
   "cell_type": "code",
   "execution_count": 6,
   "id": "4ce65b9a",
   "metadata": {},
   "outputs": [],
   "source": [
    "from sklearn.utils import shuffle\n",
    "from sklearn.model_selection import train_test_split"
   ]
  },
  {
   "cell_type": "code",
   "execution_count": 7,
   "id": "0bf6a956",
   "metadata": {},
   "outputs": [
    {
     "name": "stderr",
     "output_type": "stream",
     "text": [
      "2023-01-19 17:29:37.554071: I tensorflow/core/platform/cpu_feature_guard.cc:193] This TensorFlow binary is optimized with oneAPI Deep Neural Network Library (oneDNN) to use the following CPU instructions in performance-critical operations:  AVX2 AVX512F FMA\n",
      "To enable them in other operations, rebuild TensorFlow with the appropriate compiler flags.\n",
      "2023-01-19 17:29:37.872711: W tensorflow/compiler/xla/stream_executor/platform/default/dso_loader.cc:64] Could not load dynamic library 'libcudart.so.11.0'; dlerror: libcudart.so.11.0: cannot open shared object file: No such file or directory; LD_LIBRARY_PATH: /lib64:/lib:/usr/local/lib:/usr/local/lib64:/usr/lib64:/usr/lib:/apps/cuda/lib64:/apps/cuda/lib\n",
      "2023-01-19 17:29:37.872744: I tensorflow/compiler/xla/stream_executor/cuda/cudart_stub.cc:29] Ignore above cudart dlerror if you do not have a GPU set up on your machine.\n",
      "2023-01-19 17:29:40.573072: W tensorflow/compiler/xla/stream_executor/platform/default/dso_loader.cc:64] Could not load dynamic library 'libnvinfer.so.7'; dlerror: libnvinfer.so.7: cannot open shared object file: No such file or directory; LD_LIBRARY_PATH: /lib64:/lib:/usr/local/lib:/usr/local/lib64:/usr/lib64:/usr/lib:/apps/cuda/lib64:/apps/cuda/lib\n",
      "2023-01-19 17:29:40.573977: W tensorflow/compiler/xla/stream_executor/platform/default/dso_loader.cc:64] Could not load dynamic library 'libnvinfer_plugin.so.7'; dlerror: libnvinfer_plugin.so.7: cannot open shared object file: No such file or directory; LD_LIBRARY_PATH: /lib64:/lib:/usr/local/lib:/usr/local/lib64:/usr/lib64:/usr/lib:/apps/cuda/lib64:/apps/cuda/lib\n",
      "2023-01-19 17:29:40.574053: W tensorflow/compiler/tf2tensorrt/utils/py_utils.cc:38] TF-TRT Warning: Cannot dlopen some TensorRT libraries. If you would like to use Nvidia GPU with TensorRT, please make sure the missing libraries mentioned above are installed properly.\n"
     ]
    },
    {
     "name": "stdout",
     "output_type": "stream",
     "text": [
      "Found 4000 validated image filenames belonging to 2 classes.\n",
      "Found 1000 validated image filenames belonging to 2 classes.\n"
     ]
    }
   ],
   "source": [
    "from keras.preprocessing.image import ImageDataGenerator\n",
    "import pandas as pd\n",
    "\n",
    "# Read in the excel sheet with the labels\n",
    "train_labels_df = pd.read_csv('Dataset/dataset_AMLS_22-23/celeba/labels.csv')\n",
    "\n",
    "# Define the data generators\n",
    "train_datagen = ImageDataGenerator(rescale=1./255)\n",
    "val_datagen = ImageDataGenerator(rescale=1./255)\n",
    "\n",
    "# Define the data loaders\n",
    "batch_size = 32\n",
    "\n",
    "# split the data into training and validation sets\n",
    "training_df, val_df = train_test_split(train_df, test_size=0.2, random_state=42)\n",
    "\n",
    "train_generator = train_datagen.flow_from_dataframe(dataframe=training_df,\n",
    "                                                    directory='Dataset/dataset_AMLS_22-23/celeba/img',\n",
    "                                                    x_col='img_name',\n",
    "                                                    y_col='smiling',\n",
    "                                                    target_size=(224, 224),\n",
    "                                                    batch_size=32,\n",
    "                                                    shuffle=True,\n",
    "                                                    class_mode='binary')\n",
    "\n",
    "val_generator = val_datagen.flow_from_dataframe(dataframe=val_df,\n",
    "                                                directory='Dataset/dataset_AMLS_22-23/celeba/img',\n",
    "                                                x_col='img_name',\n",
    "                                                y_col='smiling',\n",
    "                                                target_size=(224, 224),\n",
    "                                                batch_size=32,\n",
    "                                                shuffle=True,\n",
    "                                                class_mode='binary')"
   ]
  },
  {
   "cell_type": "code",
   "execution_count": 8,
   "id": "499d8b4c",
   "metadata": {},
   "outputs": [
    {
     "name": "stdout",
     "output_type": "stream",
     "text": [
      "  img_name  smiling\n",
      "0    0.jpg       -1\n",
      "1    1.jpg        1\n",
      "2    2.jpg        1\n",
      "3    3.jpg        1\n",
      "4    4.jpg       -1\n"
     ]
    },
    {
     "name": "stderr",
     "output_type": "stream",
     "text": [
      "/tmp/ipykernel_2391430/1397172442.py:8: SettingWithCopyWarning: \n",
      "A value is trying to be set on a copy of a slice from a DataFrame.\n",
      "Try using .loc[row_indexer,col_indexer] = value instead\n",
      "\n",
      "See the caveats in the documentation: https://pandas.pydata.org/pandas-docs/stable/user_guide/indexing.html#returning-a-view-versus-a-copy\n",
      "  test_df[\"smiling\"] = test_df[\"smiling\"].astype(str)\n"
     ]
    }
   ],
   "source": [
    "# Converting csv into dataframe using read_csv(label_path)\n",
    "test_cartoon_df = pd.read_csv('Dataset/dataset_AMLS_22-23_test/celeba_test/labels.csv', sep='\\t', engine='python')\n",
    "test_df = test_cartoon_df[['img_name', 'smiling']]\n",
    "print(test_df.head())\n",
    "\n",
    "\n",
    "# Convert face shape column type from int64 to str for data generator\n",
    "test_df[\"smiling\"] = test_df[\"smiling\"].astype(str)"
   ]
  },
  {
   "cell_type": "code",
   "execution_count": 9,
   "id": "3cfa6ff1",
   "metadata": {},
   "outputs": [
    {
     "name": "stdout",
     "output_type": "stream",
     "text": [
      "Index(['img_name', 'smiling'], dtype='object')\n"
     ]
    }
   ],
   "source": [
    "print(test_df.columns)"
   ]
  },
  {
   "cell_type": "code",
   "execution_count": 10,
   "id": "739d4bce",
   "metadata": {},
   "outputs": [
    {
     "name": "stdout",
     "output_type": "stream",
     "text": [
      "Found 1000 validated image filenames belonging to 2 classes.\n"
     ]
    }
   ],
   "source": [
    "# Create a test dataframe by reading in the labels for the test images\n",
    "test_labels_df = pd.read_csv('Dataset/dataset_AMLS_22-23_test/celeba_test/labels.csv')\n",
    "\n",
    "# Create a test data generator\n",
    "test_datagen = ImageDataGenerator(rescale=1./255)\n",
    "\n",
    "# Create the test dataloader\n",
    "test_generator = test_datagen.flow_from_dataframe(dataframe=test_df,\n",
    "                                                    directory='Dataset/dataset_AMLS_22-23_test/celeba_test/img',\n",
    "                                                    x_col='img_name',\n",
    "                                                    y_col='smiling',\n",
    "                                                    target_size=(224, 224),\n",
    "                                                    class_mode='binary',\n",
    "                                                    shuffle=False)\n"
   ]
  },
  {
   "cell_type": "code",
   "execution_count": 11,
   "id": "7de4b620",
   "metadata": {},
   "outputs": [],
   "source": [
    "# Use early stopping to terminate training epochs through callbacks\n",
    "from tensorflow.python.keras.callbacks import EarlyStopping, ModelCheckpoint\n",
    "\n",
    "# Seek a mininum for validation loss and display the stopped epochs using verbose and adding delays\n",
    "stop = EarlyStopping(monitor='val_loss', mode='min', verbose=1, patience=5)\n",
    "\n",
    "# Save best model using checkpoint\n",
    "model_path = os.path.join('/home/zceeysa/Documents/ELEC0134/ELEC0134/A2', 'vgg16_smiling.h5')\n",
    "checkpoints = ModelCheckpoint(os.path.normcase(model_path), monitor='val_loss', mode='min', verbose=1, save_best_only=True)\n",
    "\n",
    "# Define callback function in a list\n",
    "callback_list = [stop, checkpoints]"
   ]
  },
  {
   "cell_type": "code",
   "execution_count": 12,
   "id": "eb37be13",
   "metadata": {},
   "outputs": [
    {
     "name": "stderr",
     "output_type": "stream",
     "text": [
      "2023-01-19 17:29:48.376962: W tensorflow/compiler/xla/stream_executor/platform/default/dso_loader.cc:64] Could not load dynamic library 'libcudart.so.11.0'; dlerror: libcudart.so.11.0: cannot open shared object file: No such file or directory; LD_LIBRARY_PATH: /lib64:/lib:/usr/local/lib:/usr/local/lib64:/usr/lib64:/usr/lib:/apps/cuda/lib64:/apps/cuda/lib\n",
      "2023-01-19 17:29:48.378137: W tensorflow/compiler/xla/stream_executor/platform/default/dso_loader.cc:64] Could not load dynamic library 'libcublas.so.11'; dlerror: libcublas.so.11: cannot open shared object file: No such file or directory; LD_LIBRARY_PATH: /lib64:/lib:/usr/local/lib:/usr/local/lib64:/usr/lib64:/usr/lib:/apps/cuda/lib64:/apps/cuda/lib\n",
      "2023-01-19 17:29:48.378913: W tensorflow/compiler/xla/stream_executor/platform/default/dso_loader.cc:64] Could not load dynamic library 'libcublasLt.so.11'; dlerror: libcublasLt.so.11: cannot open shared object file: No such file or directory; LD_LIBRARY_PATH: /lib64:/lib:/usr/local/lib:/usr/local/lib64:/usr/lib64:/usr/lib:/apps/cuda/lib64:/apps/cuda/lib\n",
      "2023-01-19 17:29:48.379460: W tensorflow/compiler/xla/stream_executor/platform/default/dso_loader.cc:64] Could not load dynamic library 'libcufft.so.10'; dlerror: libcufft.so.10: cannot open shared object file: No such file or directory; LD_LIBRARY_PATH: /lib64:/lib:/usr/local/lib:/usr/local/lib64:/usr/lib64:/usr/lib:/apps/cuda/lib64:/apps/cuda/lib\n",
      "2023-01-19 17:29:48.379911: W tensorflow/compiler/xla/stream_executor/platform/default/dso_loader.cc:64] Could not load dynamic library 'libcurand.so.10'; dlerror: libcurand.so.10: cannot open shared object file: No such file or directory; LD_LIBRARY_PATH: /lib64:/lib:/usr/local/lib:/usr/local/lib64:/usr/lib64:/usr/lib:/apps/cuda/lib64:/apps/cuda/lib\n",
      "2023-01-19 17:29:48.380117: W tensorflow/compiler/xla/stream_executor/platform/default/dso_loader.cc:64] Could not load dynamic library 'libcusolver.so.11'; dlerror: libcusolver.so.11: cannot open shared object file: No such file or directory; LD_LIBRARY_PATH: /lib64:/lib:/usr/local/lib:/usr/local/lib64:/usr/lib64:/usr/lib:/apps/cuda/lib64:/apps/cuda/lib\n",
      "2023-01-19 17:29:48.380223: W tensorflow/compiler/xla/stream_executor/platform/default/dso_loader.cc:64] Could not load dynamic library 'libcusparse.so.11'; dlerror: libcusparse.so.11: cannot open shared object file: No such file or directory; LD_LIBRARY_PATH: /lib64:/lib:/usr/local/lib:/usr/local/lib64:/usr/lib64:/usr/lib:/apps/cuda/lib64:/apps/cuda/lib\n",
      "2023-01-19 17:29:48.380309: W tensorflow/compiler/xla/stream_executor/platform/default/dso_loader.cc:64] Could not load dynamic library 'libcudnn.so.8'; dlerror: libcudnn.so.8: cannot open shared object file: No such file or directory; LD_LIBRARY_PATH: /lib64:/lib:/usr/local/lib:/usr/local/lib64:/usr/lib64:/usr/lib:/apps/cuda/lib64:/apps/cuda/lib\n",
      "2023-01-19 17:29:48.380350: W tensorflow/core/common_runtime/gpu/gpu_device.cc:1934] Cannot dlopen some GPU libraries. Please make sure the missing libraries mentioned above are installed properly if you would like to use GPU. Follow the guide at https://www.tensorflow.org/install/gpu for how to download and setup the required libraries for your platform.\n",
      "Skipping registering GPU devices...\n",
      "2023-01-19 17:29:48.381279: I tensorflow/core/platform/cpu_feature_guard.cc:193] This TensorFlow binary is optimized with oneAPI Deep Neural Network Library (oneDNN) to use the following CPU instructions in performance-critical operations:  AVX2 AVX512F FMA\n",
      "To enable them in other operations, rebuild TensorFlow with the appropriate compiler flags.\n"
     ]
    },
    {
     "name": "stdout",
     "output_type": "stream",
     "text": [
      "Model: \"sequential\"\n",
      "_________________________________________________________________\n",
      " Layer (type)                Output Shape              Param #   \n",
      "=================================================================\n",
      " conv2d (Conv2D)             (None, 224, 224, 16)      448       \n",
      "                                                                 \n",
      " batch_normalization (BatchN  (None, 224, 224, 16)     64        \n",
      " ormalization)                                                   \n",
      "                                                                 \n",
      " max_pooling2d (MaxPooling2D  (None, 112, 112, 16)     0         \n",
      " )                                                               \n",
      "                                                                 \n",
      " conv2d_1 (Conv2D)           (None, 112, 112, 16)      2320      \n",
      "                                                                 \n",
      " batch_normalization_1 (Batc  (None, 112, 112, 16)     64        \n",
      " hNormalization)                                                 \n",
      "                                                                 \n",
      " max_pooling2d_1 (MaxPooling  (None, 56, 56, 16)       0         \n",
      " 2D)                                                             \n",
      "                                                                 \n",
      " conv2d_2 (Conv2D)           (None, 56, 56, 32)        4640      \n",
      "                                                                 \n",
      " batch_normalization_2 (Batc  (None, 56, 56, 32)       128       \n",
      " hNormalization)                                                 \n",
      "                                                                 \n",
      " max_pooling2d_2 (MaxPooling  (None, 28, 28, 32)       0         \n",
      " 2D)                                                             \n",
      "                                                                 \n",
      " conv2d_3 (Conv2D)           (None, 28, 28, 64)        18496     \n",
      "                                                                 \n",
      " batch_normalization_3 (Batc  (None, 28, 28, 64)       256       \n",
      " hNormalization)                                                 \n",
      "                                                                 \n",
      " max_pooling2d_3 (MaxPooling  (None, 14, 14, 64)       0         \n",
      " 2D)                                                             \n",
      "                                                                 \n",
      " conv2d_4 (Conv2D)           (None, 14, 14, 128)       73856     \n",
      "                                                                 \n",
      " batch_normalization_4 (Batc  (None, 14, 14, 128)      512       \n",
      " hNormalization)                                                 \n",
      "                                                                 \n",
      " max_pooling2d_4 (MaxPooling  (None, 7, 7, 128)        0         \n",
      " 2D)                                                             \n",
      "                                                                 \n",
      " flatten (Flatten)           (None, 6272)              0         \n",
      "                                                                 \n",
      " dense (Dense)               (None, 64)                401472    \n",
      "                                                                 \n",
      " dense_1 (Dense)             (None, 1)                 65        \n",
      "                                                                 \n",
      "=================================================================\n",
      "Total params: 502,321\n",
      "Trainable params: 501,809\n",
      "Non-trainable params: 512\n",
      "_________________________________________________________________\n"
     ]
    }
   ],
   "source": [
    "# Import network libraries\n",
    "import keras\n",
    "\n",
    "from keras.models import Model\n",
    "from keras.models import Sequential\n",
    "from keras.layers import Dense, Conv2D, MaxPool2D, Flatten, BatchNormalization\n",
    "from keras.wrappers.scikit_learn import KerasClassifier\n",
    "\n",
    "# Define a function that returns the compiled model\n",
    "def create_model():\n",
    "    \n",
    "    model = Sequential()\n",
    "\n",
    "    model.add(Conv2D(input_shape=(224,224,3),filters=16,kernel_size=(3,3),padding=\"same\", activation=\"relu\"))\n",
    "    model.add(BatchNormalization())\n",
    "    model.add(MaxPool2D(pool_size=(2,2),strides=(2,2)))\n",
    "\n",
    "    model.add(Conv2D(filters=16, kernel_size=(3,3), padding=\"same\", activation=\"relu\"))\n",
    "    model.add(BatchNormalization())\n",
    "    model.add(MaxPool2D(pool_size=(2,2),strides=(2,2)))\n",
    "\n",
    "    model.add(Conv2D(filters=32, kernel_size=(3,3), padding=\"same\", activation=\"relu\"))\n",
    "    model.add(BatchNormalization())\n",
    "    model.add(MaxPool2D(pool_size=(2,2),strides=(2,2)))\n",
    "\n",
    "    model.add(Conv2D(filters=64, kernel_size=(3,3), padding=\"same\", activation=\"relu\"))\n",
    "    model.add(BatchNormalization())\n",
    "    model.add(MaxPool2D(pool_size=(2,2),strides=(2,2)))\n",
    "\n",
    "    model.add(Conv2D(filters=128, kernel_size=(3,3), padding=\"same\", activation=\"relu\"))\n",
    "    model.add(BatchNormalization())\n",
    "    model.add(MaxPool2D(pool_size=(2,2),strides=(2,2)))\n",
    "\n",
    "    model.add(Flatten())\n",
    "    model.add(Dense(units=64,activation=\"relu\"))\n",
    "    model.add(Dense(units=5, activation=\"softmax\")) \n",
    "\n",
    "    \n",
    "    return model\n",
    "\n",
    "model = Sequential()\n",
    "\n",
    "model.add(Conv2D(input_shape=(224,224,3),filters=16,kernel_size=(3,3),padding=\"same\", activation=\"relu\"))\n",
    "model.add(BatchNormalization())\n",
    "model.add(MaxPool2D(pool_size=(2,2),strides=(2,2)))\n",
    "\n",
    "model.add(Conv2D(filters=16, kernel_size=(3,3), padding=\"same\", activation=\"relu\"))\n",
    "model.add(BatchNormalization())\n",
    "model.add(MaxPool2D(pool_size=(2,2),strides=(2,2)))\n",
    "\n",
    "model.add(Conv2D(filters=32, kernel_size=(3,3), padding=\"same\", activation=\"relu\"))\n",
    "model.add(BatchNormalization())\n",
    "model.add(MaxPool2D(pool_size=(2,2),strides=(2,2)))\n",
    "\n",
    "model.add(Conv2D(filters=64, kernel_size=(3,3), padding=\"same\", activation=\"relu\"))\n",
    "model.add(BatchNormalization())\n",
    "model.add(MaxPool2D(pool_size=(2,2),strides=(2,2)))\n",
    "\n",
    "model.add(Conv2D(filters=128, kernel_size=(3,3), padding=\"same\", activation=\"relu\"))\n",
    "model.add(BatchNormalization())\n",
    "model.add(MaxPool2D(pool_size=(2,2),strides=(2,2)))\n",
    "\n",
    "model.add(Flatten())\n",
    "model.add(Dense(units=64,activation=\"relu\"))\n",
    "model.add(Dense(units=1, activation=\"sigmoid\")) \n",
    "\n",
    "# Display summary of the model\n",
    "model.summary()\n",
    "\n",
    "# Compile the model using ADAM (Adaptive learning rate optimization)\n",
    "model.compile(optimizer='adam', loss='binary_crossentropy', metrics=['accuracy'])"
   ]
  },
  {
   "cell_type": "code",
   "execution_count": 13,
   "id": "48731c6d",
   "metadata": {},
   "outputs": [],
   "source": [
    "import time"
   ]
  },
  {
   "cell_type": "code",
   "execution_count": 14,
   "id": "db936e69",
   "metadata": {},
   "outputs": [],
   "source": [
    "class TimeHistory(keras.callbacks.Callback):\n",
    "    def on_train_begin(self, logs={}):\n",
    "        self.times = []\n",
    "\n",
    "    def on_epoch_begin(self, batch, logs={}):\n",
    "        self.epoch_time_start = time.time()\n",
    "\n",
    "    def on_epoch_end(self, batch, logs={}):\n",
    "        self.times.append(time.time() - self.epoch_time_start)"
   ]
  },
  {
   "cell_type": "code",
   "execution_count": 15,
   "id": "446c602b",
   "metadata": {},
   "outputs": [
    {
     "name": "stdout",
     "output_type": "stream",
     "text": [
      "125\n",
      "31\n"
     ]
    },
    {
     "name": "stderr",
     "output_type": "stream",
     "text": [
      "/tmp/ipykernel_2391430/4128999872.py:9: UserWarning: `Model.fit_generator` is deprecated and will be removed in a future version. Please use `Model.fit`, which supports generators.\n",
      "  history = model.fit_generator(generator=train_generator,\n"
     ]
    },
    {
     "name": "stdout",
     "output_type": "stream",
     "text": [
      "Epoch 1/50\n",
      "125/125 [==============================] - ETA: 0s - loss: 0.6178 - accuracy: 0.6858\n",
      "Epoch 00001: val_loss improved from inf to 1.07389, saving model to /home/zceeysa/Documents/ELEC0134/ELEC0134/A2/vgg16_smiling.h5\n",
      "125/125 [==============================] - 62s 466ms/step - loss: 0.6178 - accuracy: 0.6858 - val_loss: 1.0739 - val_accuracy: 0.5040\n",
      "Epoch 2/50\n",
      "125/125 [==============================] - ETA: 0s - loss: 0.3119 - accuracy: 0.8662\n",
      "Epoch 00002: val_loss improved from 1.07389 to 1.02702, saving model to /home/zceeysa/Documents/ELEC0134/ELEC0134/A2/vgg16_smiling.h5\n",
      "125/125 [==============================] - 63s 506ms/step - loss: 0.3119 - accuracy: 0.8662 - val_loss: 1.0270 - val_accuracy: 0.5554\n",
      "Epoch 3/50\n",
      "125/125 [==============================] - ETA: 0s - loss: 0.2381 - accuracy: 0.8982\n",
      "Epoch 00003: val_loss improved from 1.02702 to 0.30568, saving model to /home/zceeysa/Documents/ELEC0134/ELEC0134/A2/vgg16_smiling.h5\n",
      "125/125 [==============================] - 55s 436ms/step - loss: 0.2381 - accuracy: 0.8982 - val_loss: 0.3057 - val_accuracy: 0.8619\n",
      "Epoch 4/50\n",
      "125/125 [==============================] - ETA: 0s - loss: 0.1763 - accuracy: 0.9300\n",
      "Epoch 00004: val_loss improved from 0.30568 to 0.26156, saving model to /home/zceeysa/Documents/ELEC0134/ELEC0134/A2/vgg16_smiling.h5\n",
      "125/125 [==============================] - 55s 437ms/step - loss: 0.1763 - accuracy: 0.9300 - val_loss: 0.2616 - val_accuracy: 0.8891\n",
      "Epoch 5/50\n",
      "125/125 [==============================] - ETA: 0s - loss: 0.1253 - accuracy: 0.9520\n",
      "Epoch 00005: val_loss did not improve from 0.26156\n",
      "125/125 [==============================] - 45s 363ms/step - loss: 0.1253 - accuracy: 0.9520 - val_loss: 0.2809 - val_accuracy: 0.8700\n",
      "Epoch 6/50\n",
      "125/125 [==============================] - ETA: 0s - loss: 0.0989 - accuracy: 0.9620\n",
      "Epoch 00006: val_loss improved from 0.26156 to 0.25422, saving model to /home/zceeysa/Documents/ELEC0134/ELEC0134/A2/vgg16_smiling.h5\n",
      "125/125 [==============================] - 44s 355ms/step - loss: 0.0989 - accuracy: 0.9620 - val_loss: 0.2542 - val_accuracy: 0.9042\n",
      "Epoch 7/50\n",
      "125/125 [==============================] - ETA: 0s - loss: 0.0489 - accuracy: 0.9847\n",
      "Epoch 00007: val_loss did not improve from 0.25422\n",
      "125/125 [==============================] - 60s 477ms/step - loss: 0.0489 - accuracy: 0.9847 - val_loss: 0.2917 - val_accuracy: 0.8931\n",
      "Epoch 8/50\n",
      "125/125 [==============================] - ETA: 0s - loss: 0.0593 - accuracy: 0.9780\n",
      "Epoch 00008: val_loss did not improve from 0.25422\n",
      "125/125 [==============================] - 58s 464ms/step - loss: 0.0593 - accuracy: 0.9780 - val_loss: 0.4843 - val_accuracy: 0.8498\n",
      "Epoch 9/50\n",
      "125/125 [==============================] - ETA: 0s - loss: 0.0769 - accuracy: 0.9725\n",
      "Epoch 00009: val_loss did not improve from 0.25422\n",
      "125/125 [==============================] - 58s 466ms/step - loss: 0.0769 - accuracy: 0.9725 - val_loss: 0.5383 - val_accuracy: 0.8599\n",
      "Epoch 10/50\n",
      "125/125 [==============================] - ETA: 0s - loss: 0.0540 - accuracy: 0.9797\n",
      "Epoch 00010: val_loss did not improve from 0.25422\n",
      "125/125 [==============================] - 60s 475ms/step - loss: 0.0540 - accuracy: 0.9797 - val_loss: 0.4062 - val_accuracy: 0.8810\n",
      "Epoch 11/50\n",
      "125/125 [==============================] - ETA: 0s - loss: 0.0341 - accuracy: 0.9865\n",
      "Epoch 00011: val_loss did not improve from 0.25422\n",
      "125/125 [==============================] - 58s 468ms/step - loss: 0.0341 - accuracy: 0.9865 - val_loss: 0.4477 - val_accuracy: 0.8901\n",
      "Epoch 00011: early stopping\n"
     ]
    }
   ],
   "source": [
    "# Set steps per epoch for callback \n",
    "STEP_SIZE_TRAIN = train_generator.samples//train_generator.batch_size\n",
    "STEP_SIZE_VALID = val_generator.samples//val_generator.batch_size\n",
    "print(STEP_SIZE_TRAIN)\n",
    "print(STEP_SIZE_VALID)\n",
    "\n",
    "time_callback = TimeHistory()\n",
    "\n",
    "history = model.fit_generator(generator=train_generator,\n",
    "                    steps_per_epoch=STEP_SIZE_TRAIN,\n",
    "                    epochs=50,\n",
    "                    callbacks=[time_callback, callback_list],\n",
    "                    validation_data=val_generator,\n",
    "                    validation_steps=STEP_SIZE_VALID)\n",
    "\n",
    "times = time_callback.times"
   ]
  },
  {
   "cell_type": "code",
   "execution_count": 16,
   "id": "3c10b31d",
   "metadata": {},
   "outputs": [],
   "source": [
    "import matplotlib.pyplot as plt\n",
    "\n",
    "\n",
    "def plot_training_history(history,times):\n",
    "    plt.figure(figsize=(20,10))\n",
    "    plt.subplot(1, 3, 1)\n",
    "    plt.plot(history.history['val_loss'], label='Validation Loss')\n",
    "    plt.plot(history.history['loss'], label='Training Loss')\n",
    "    plt.title('Validation Loss vs. Number of Epochs')\n",
    "    plt.xlabel('Number of Epochs')\n",
    "    plt.ylabel('Loss')\n",
    "    plt.legend()\n",
    "    plt.subplot(1, 3, 2)\n",
    "    plt.plot(times)\n",
    "    plt.title('Fit time vs. Number of Epochs')\n",
    "    plt.xlabel('Number of Epochs')\n",
    "    plt.ylabel('Fit time')\n",
    "    plt.subplot(1, 3, 3)\n",
    "    plt.scatter(times, history.history['val_loss'])\n",
    "    plt.title('Validation Loss vs Fit time')\n",
    "    plt.xlabel('Fit time')\n",
    "    plt.ylabel('Validation Loss')\n",
    "    plt.show()\n",
    "\n",
    "    plt.savefig('traing_his_smiling.png')\n",
    "\n"
   ]
  },
  {
   "cell_type": "code",
   "execution_count": 18,
   "id": "e8e0ded1",
   "metadata": {},
   "outputs": [
    {
     "name": "stderr",
     "output_type": "stream",
     "text": [
      "/home/zceeysa/Desktop/ENTER/lib/python3.8/site-packages/keras/backend.py:451: UserWarning: `tf.keras.backend.set_learning_phase` is deprecated and will be removed after 2020-10-11. To update it, simply pass a True/False value to the `training` argument of the `__call__` method of your layer or model.\n",
      "  warnings.warn(\n",
      "/tmp/ipykernel_2391430/1435532914.py:14: UserWarning: `Model.evaluate_generator` is deprecated and will be removed in a future version. Please use `Model.evaluate`, which supports generators.\n",
      "  test_loss, test_acc = model.evaluate_generator(test_generator, steps=len(test_generator))\n"
     ]
    },
    {
     "name": "stdout",
     "output_type": "stream",
     "text": [
      "Test Loss:  0.0\n",
      "Test Accuracy:  0.8849999904632568\n"
     ]
    }
   ],
   "source": [
    "from keras.models import load_model\n",
    "from keras import backend as K\n",
    "\n",
    "# Load the pre-trained model\n",
    "model = load_model(\"A2/vgg16_smiling.h5\")\n",
    "\n",
    "# Compile the model (if necessary)\n",
    "model.compile(optimizer='adam', loss='categorical_crossentropy', metrics=['accuracy'])\n",
    "\n",
    "# Set the learning phase to test\n",
    "K.set_learning_phase(0)\n",
    "\n",
    "# Evaluate the model using the test data generator\n",
    "test_loss, test_acc = model.evaluate_generator(test_generator, steps=len(test_generator))\n",
    "\n",
    "# Print test loss and accuracy\n",
    "print(\"Test Loss: \", test_loss)\n",
    "print(\"Test Accuracy: \", test_acc)"
   ]
  },
  {
   "cell_type": "code",
   "execution_count": 19,
   "id": "6a39bebb",
   "metadata": {},
   "outputs": [],
   "source": [
    "from sklearn.metrics import confusion_matrix"
   ]
  },
  {
   "cell_type": "code",
   "execution_count": 20,
   "id": "e70d75b6",
   "metadata": {},
   "outputs": [
    {
     "name": "stdout",
     "output_type": "stream",
     "text": [
      "32/32 [==============================] - 4s 121ms/step\n"
     ]
    },
    {
     "data": {
      "image/png": "[encoded data removed]",
      "text/plain": [
       "<Figure size 640x480 with 2 Axes>"
      ]
     },
     "metadata": {},
     "output_type": "display_data"
    },
    {
     "data": {
      "text/plain": [
       "<Figure size 640x480 with 0 Axes>"
      ]
     },
     "metadata": {},
     "output_type": "display_data"
    }
   ],
   "source": [
    "import matplotlib.pyplot as plt\n",
    "import numpy as np\n",
    "from sklearn.metrics import confusion_matrix\n",
    "\n",
    "# Generate the predictions from your model\n",
    "predictions = model.predict(test_generator)\n",
    "\n",
    "# Convert predictions to a class index (0 or 1)\n",
    "predictions = np.round(predictions).astype(int)\n",
    "\n",
    "# Get the true labels from the test generator\n",
    "y_test = test_generator.labels\n",
    "\n",
    "# Create a confusion matrix\n",
    "confusion_mat = confusion_matrix(y_test, predictions)\n",
    "\n",
    "# Plot the confusion matrix\n",
    "fig, ax = plt.subplots()\n",
    "im = ax.imshow(confusion_mat, cmap='Blues')\n",
    "ax.set_title('Gender CNN Confusion Matrix')\n",
    "ax.set_xlabel('Predicted')\n",
    "ax.set_ylabel('True')\n",
    "\n",
    "# Add labels to the matrix cells\n",
    "for i in range(2):\n",
    "    for j in range(2):\n",
    "        ax.text(j, i, confusion_mat[i, j], ha='center', va='center', color='black')\n",
    "\n",
    "# Add a colorbar\n",
    "cbar = ax.figure.colorbar(im, ax=ax)\n",
    "cbar.ax.set_ylabel('Count', rotation=-90, va=\"bottom\")\n",
    "\n",
    "# Show the plot\n",
    "plt.show()\n",
    "plt.savefig('confus_smiling.png')\n"
   ]
  },
  {
   "cell_type": "code",
   "execution_count": 21,
   "id": "a551419d",
   "metadata": {},
   "outputs": [
    {
     "name": "stdout",
     "output_type": "stream",
     "text": [
      "32/32 [==============================] - 5s 143ms/step\n",
      "ROC AUC: 0.9554559999999999\n"
     ]
    }
   ],
   "source": [
    "from sklearn.metrics import roc_auc_score\n",
    "\n",
    "# Generate the predictions from your model\n",
    "predictions = model.predict(test_generator)\n",
    "\n",
    "# Get the true labels\n",
    "y_test = test_generator.labels\n",
    "\n",
    "# Calculate the weighted average ROC AUC score\n",
    "roc_auc = roc_auc_score(y_test, predictions)\n",
    "\n",
    "print(\"ROC AUC:\", roc_auc)\n"
   ]
  },
  {
   "cell_type": "code",
   "execution_count": null,
   "id": "9565cf4b",
   "metadata": {},
   "outputs": [],
   "source": []
  },
  {
   "cell_type": "code",
   "execution_count": null,
   "id": "67b75924",
   "metadata": {},
   "outputs": [],
   "source": []
  },
  {
   "cell_type": "code",
   "execution_count": null,
   "id": "abe93daf",
   "metadata": {},
   "outputs": [],
   "source": []
  },
  {
   "cell_type": "code",
   "execution_count": null,
   "id": "f4532d9f",
   "metadata": {},
   "outputs": [],
   "source": []
  }
 ],
 "metadata": {
  "kernelspec": {
   "display_name": "Python 3 (ipykernel)",
   "language": "python",
   "name": "python3"
  },
  "language_info": {
   "codemirror_mode": {
    "name": "ipython",
    "version": 3
   },
   "file_extension": ".py",
   "mimetype": "text/x-python",
   "name": "python",
   "nbconvert_exporter": "python",
   "pygments_lexer": "ipython3",
   "version": "3.8.5"
  }
 },
 "nbformat": 4,
 "nbformat_minor": 5
}
