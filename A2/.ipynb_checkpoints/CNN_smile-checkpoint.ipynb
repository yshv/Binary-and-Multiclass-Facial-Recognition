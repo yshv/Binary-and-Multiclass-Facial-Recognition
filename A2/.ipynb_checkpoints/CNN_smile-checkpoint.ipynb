{
 "cells": [
  {
   "cell_type": "code",
   "execution_count": 1,
   "id": "ea046546",
   "metadata": {},
   "outputs": [
    {
     "name": "stdout",
     "output_type": "stream",
     "text": [
      "/home/zceeysa/Documents/ELEC0134/ELEC0134/A2\n"
     ]
    }
   ],
   "source": [
    "# Import libraries\n",
    "import numpy as np\n",
    "import pandas as pd\n",
    "import os\n",
    "print(os.getcwd())\n"
   ]
  },
  {
   "cell_type": "code",
   "execution_count": 2,
   "id": "3f0661da",
   "metadata": {},
   "outputs": [],
   "source": [
    "# Only run this once\n",
    "os.chdir('..')"
   ]
  },
  {
   "cell_type": "code",
   "execution_count": 3,
   "id": "307a7b33",
   "metadata": {},
   "outputs": [],
   "source": [
    "base_dir = '/home/zceeysa/Documents/ELEC0134/ELEC0134'\n",
    "\n",
    "os.chdir(base_dir)"
   ]
  },
  {
   "cell_type": "code",
   "execution_count": 4,
   "id": "6fc38462",
   "metadata": {},
   "outputs": [
    {
     "name": "stdout",
     "output_type": "stream",
     "text": [
      "/home/zceeysa/Documents/ELEC0134/ELEC0134\n"
     ]
    }
   ],
   "source": [
    "print(os.getcwd())"
   ]
  },
  {
   "cell_type": "code",
   "execution_count": 5,
   "id": "c39c362f",
   "metadata": {},
   "outputs": [
    {
     "name": "stdout",
     "output_type": "stream",
     "text": [
      "  img_name  smiling\n",
      "0    0.jpg        1\n",
      "1    1.jpg        1\n",
      "2    2.jpg       -1\n",
      "3    3.jpg       -1\n",
      "4    4.jpg       -1\n",
      "  img_name  smiling\n",
      "0    0.jpg        1\n",
      "1    1.jpg        1\n",
      "2    2.jpg       -1\n",
      "3    3.jpg       -1\n",
      "4    4.jpg       -1\n"
     ]
    },
    {
     "name": "stderr",
     "output_type": "stream",
     "text": [
      "/home/zceeysa/Desktop/ENTER/lib/python3.8/site-packages/pandas/core/indexing.py:1676: SettingWithCopyWarning: \n",
      "A value is trying to be set on a copy of a slice from a DataFrame.\n",
      "Try using .loc[row_indexer,col_indexer] = value instead\n",
      "\n",
      "See the caveats in the documentation: https://pandas.pydata.org/pandas-docs/stable/user_guide/indexing.html#returning-a-view-versus-a-copy\n",
      "  self._setitem_single_column(ilocs[0], value, pi)\n",
      "/tmp/ipykernel_2643735/2116950186.py:11: SettingWithCopyWarning: \n",
      "A value is trying to be set on a copy of a slice from a DataFrame.\n",
      "Try using .loc[row_indexer,col_indexer] = value instead\n",
      "\n",
      "See the caveats in the documentation: https://pandas.pydata.org/pandas-docs/stable/user_guide/indexing.html#returning-a-view-versus-a-copy\n",
      "  train_df[\"smiling\"] = train_df[\"smiling\"].astype(str)\n"
     ]
    }
   ],
   "source": [
    "\n",
    "# Converting csv into dataframe using read_csv(label_path)\n",
    "train_cartoon_df = pd.read_csv('Dataset/dataset_AMLS_22-23/celeba/labels.csv', sep='\\t', engine='python')\n",
    "train_df = train_cartoon_df[['img_name', 'smiling']]\n",
    "print(train_df.head())\n",
    "\n",
    "# Convert the face shape column to class 1-5\n",
    "print(train_df.head())\n",
    "train_df.loc[:,'smiling'] += 1\n",
    "\n",
    "# Convert face shape column type from int64 to str for data generator\n",
    "train_df[\"smiling\"] = train_df[\"smiling\"].astype(str)\n"
   ]
  },
  {
   "cell_type": "code",
   "execution_count": 6,
   "id": "4ce65b9a",
   "metadata": {},
   "outputs": [],
   "source": [
    "from sklearn.utils import shuffle\n",
    "from sklearn.model_selection import train_test_split"
   ]
  },
  {
   "cell_type": "code",
   "execution_count": 7,
   "id": "0bf6a956",
   "metadata": {},
   "outputs": [
    {
     "name": "stderr",
     "output_type": "stream",
     "text": [
      "2023-01-20 20:41:55.669639: I tensorflow/core/platform/cpu_feature_guard.cc:193] This TensorFlow binary is optimized with oneAPI Deep Neural Network Library (oneDNN) to use the following CPU instructions in performance-critical operations:  AVX2 AVX512F FMA\n",
      "To enable them in other operations, rebuild TensorFlow with the appropriate compiler flags.\n",
      "2023-01-20 20:41:55.815822: W tensorflow/compiler/xla/stream_executor/platform/default/dso_loader.cc:64] Could not load dynamic library 'libcudart.so.11.0'; dlerror: libcudart.so.11.0: cannot open shared object file: No such file or directory; LD_LIBRARY_PATH: /lib64:/lib:/usr/local/lib:/usr/local/lib64:/usr/lib64:/usr/lib:/apps/cuda/lib64:/apps/cuda/lib\n",
      "2023-01-20 20:41:55.815846: I tensorflow/compiler/xla/stream_executor/cuda/cudart_stub.cc:29] Ignore above cudart dlerror if you do not have a GPU set up on your machine.\n",
      "2023-01-20 20:41:57.232308: W tensorflow/compiler/xla/stream_executor/platform/default/dso_loader.cc:64] Could not load dynamic library 'libnvinfer.so.7'; dlerror: libnvinfer.so.7: cannot open shared object file: No such file or directory; LD_LIBRARY_PATH: /lib64:/lib:/usr/local/lib:/usr/local/lib64:/usr/lib64:/usr/lib:/apps/cuda/lib64:/apps/cuda/lib\n",
      "2023-01-20 20:41:57.232389: W tensorflow/compiler/xla/stream_executor/platform/default/dso_loader.cc:64] Could not load dynamic library 'libnvinfer_plugin.so.7'; dlerror: libnvinfer_plugin.so.7: cannot open shared object file: No such file or directory; LD_LIBRARY_PATH: /lib64:/lib:/usr/local/lib:/usr/local/lib64:/usr/lib64:/usr/lib:/apps/cuda/lib64:/apps/cuda/lib\n",
      "2023-01-20 20:41:57.232396: W tensorflow/compiler/tf2tensorrt/utils/py_utils.cc:38] TF-TRT Warning: Cannot dlopen some TensorRT libraries. If you would like to use Nvidia GPU with TensorRT, please make sure the missing libraries mentioned above are installed properly.\n"
     ]
    },
    {
     "name": "stdout",
     "output_type": "stream",
     "text": [
      "Found 4000 validated image filenames belonging to 2 classes.\n",
      "Found 1000 validated image filenames belonging to 2 classes.\n"
     ]
    }
   ],
   "source": [
    "from keras.preprocessing.image import ImageDataGenerator\n",
    "import pandas as pd\n",
    "\n",
    "# Read in the excel sheet with the labels\n",
    "train_labels_df = pd.read_csv('Dataset/dataset_AMLS_22-23/celeba/labels.csv')\n",
    "\n",
    "# Define the data generators\n",
    "train_datagen = ImageDataGenerator(rescale=1./255)\n",
    "val_datagen = ImageDataGenerator(rescale=1./255)\n",
    "\n",
    "# Define the data loaders\n",
    "batch_size = 32\n",
    "\n",
    "# split the data into training and validation sets\n",
    "training_df, val_df = train_test_split(train_df, test_size=0.2, random_state=42)\n",
    "\n",
    "train_generator = train_datagen.flow_from_dataframe(dataframe=training_df,\n",
    "                                                    directory='Dataset/dataset_AMLS_22-23/celeba/img',\n",
    "                                                    x_col='img_name',\n",
    "                                                    y_col='smiling',\n",
    "                                                    target_size=(224, 224),\n",
    "                                                    batch_size=32,\n",
    "                                                    shuffle=True,\n",
    "                                                    class_mode='binary')\n",
    "\n",
    "val_generator = val_datagen.flow_from_dataframe(dataframe=val_df,\n",
    "                                                directory='Dataset/dataset_AMLS_22-23/celeba/img',\n",
    "                                                x_col='img_name',\n",
    "                                                y_col='smiling',\n",
    "                                                target_size=(224, 224),\n",
    "                                                batch_size=32,\n",
    "                                                shuffle=True,\n",
    "                                                class_mode='binary')"
   ]
  },
  {
   "cell_type": "code",
   "execution_count": 8,
   "id": "499d8b4c",
   "metadata": {},
   "outputs": [
    {
     "name": "stdout",
     "output_type": "stream",
     "text": [
      "  img_name  smiling\n",
      "0    0.jpg       -1\n",
      "1    1.jpg        1\n",
      "2    2.jpg        1\n",
      "3    3.jpg        1\n",
      "4    4.jpg       -1\n"
     ]
    },
    {
     "name": "stderr",
     "output_type": "stream",
     "text": [
      "/tmp/ipykernel_2643735/1397172442.py:8: SettingWithCopyWarning: \n",
      "A value is trying to be set on a copy of a slice from a DataFrame.\n",
      "Try using .loc[row_indexer,col_indexer] = value instead\n",
      "\n",
      "See the caveats in the documentation: https://pandas.pydata.org/pandas-docs/stable/user_guide/indexing.html#returning-a-view-versus-a-copy\n",
      "  test_df[\"smiling\"] = test_df[\"smiling\"].astype(str)\n"
     ]
    }
   ],
   "source": [
    "# Converting csv into dataframe using read_csv(label_path)\n",
    "test_cartoon_df = pd.read_csv('Dataset/dataset_AMLS_22-23_test/celeba_test/labels.csv', sep='\\t', engine='python')\n",
    "test_df = test_cartoon_df[['img_name', 'smiling']]\n",
    "print(test_df.head())\n",
    "\n",
    "\n",
    "# Convert face shape column type from int64 to str for data generator\n",
    "test_df[\"smiling\"] = test_df[\"smiling\"].astype(str)"
   ]
  },
  {
   "cell_type": "code",
   "execution_count": 9,
   "id": "3cfa6ff1",
   "metadata": {},
   "outputs": [
    {
     "name": "stdout",
     "output_type": "stream",
     "text": [
      "Index(['img_name', 'smiling'], dtype='object')\n"
     ]
    }
   ],
   "source": [
    "print(test_df.columns)"
   ]
  },
  {
   "cell_type": "code",
   "execution_count": 10,
   "id": "739d4bce",
   "metadata": {},
   "outputs": [
    {
     "name": "stdout",
     "output_type": "stream",
     "text": [
      "Found 1000 validated image filenames belonging to 2 classes.\n"
     ]
    }
   ],
   "source": [
    "# Create a test dataframe by reading in the labels for the test images\n",
    "test_labels_df = pd.read_csv('Dataset/dataset_AMLS_22-23_test/celeba_test/labels.csv')\n",
    "\n",
    "# Create a test data generator\n",
    "test_datagen = ImageDataGenerator(rescale=1./255)\n",
    "\n",
    "# Create the test dataloader\n",
    "test_generator = test_datagen.flow_from_dataframe(dataframe=test_df,\n",
    "                                                    directory='Dataset/dataset_AMLS_22-23_test/celeba_test/img',\n",
    "                                                    x_col='img_name',\n",
    "                                                    y_col='smiling',\n",
    "                                                    target_size=(224, 224),\n",
    "                                                    class_mode='binary',\n",
    "                                                    shuffle=False)\n"
   ]
  },
  {
   "cell_type": "code",
   "execution_count": 11,
   "id": "7de4b620",
   "metadata": {},
   "outputs": [],
   "source": [
    "# Use early stopping to terminate training epochs through callbacks\n",
    "from tensorflow.python.keras.callbacks import EarlyStopping, ModelCheckpoint\n",
    "\n",
    "# Seek a mininum for validation loss and display the stopped epochs using verbose and adding delays\n",
    "stop = EarlyStopping(monitor='val_loss', mode='min', verbose=1, patience=5)\n",
    "\n",
    "# Save best model using checkpoint\n",
    "model_path = os.path.join('/home/zceeysa/Documents/ELEC0134/ELEC0134/A2', 'vgg16_smiling.h5')\n",
    "checkpoints = ModelCheckpoint(os.path.normcase(model_path), monitor='val_loss', mode='min', verbose=1, save_best_only=True)\n",
    "\n",
    "# Define callback function in a list\n",
    "callback_list = [stop, checkpoints]"
   ]
  },
  {
   "cell_type": "code",
   "execution_count": 12,
   "id": "eb37be13",
   "metadata": {},
   "outputs": [
    {
     "name": "stderr",
     "output_type": "stream",
     "text": [
      "2023-01-20 20:41:59.496619: W tensorflow/compiler/xla/stream_executor/platform/default/dso_loader.cc:64] Could not load dynamic library 'libcudart.so.11.0'; dlerror: libcudart.so.11.0: cannot open shared object file: No such file or directory; LD_LIBRARY_PATH: /lib64:/lib:/usr/local/lib:/usr/local/lib64:/usr/lib64:/usr/lib:/apps/cuda/lib64:/apps/cuda/lib\n",
      "2023-01-20 20:41:59.496721: W tensorflow/compiler/xla/stream_executor/platform/default/dso_loader.cc:64] Could not load dynamic library 'libcublas.so.11'; dlerror: libcublas.so.11: cannot open shared object file: No such file or directory; LD_LIBRARY_PATH: /lib64:/lib:/usr/local/lib:/usr/local/lib64:/usr/lib64:/usr/lib:/apps/cuda/lib64:/apps/cuda/lib\n",
      "2023-01-20 20:41:59.496779: W tensorflow/compiler/xla/stream_executor/platform/default/dso_loader.cc:64] Could not load dynamic library 'libcublasLt.so.11'; dlerror: libcublasLt.so.11: cannot open shared object file: No such file or directory; LD_LIBRARY_PATH: /lib64:/lib:/usr/local/lib:/usr/local/lib64:/usr/lib64:/usr/lib:/apps/cuda/lib64:/apps/cuda/lib\n",
      "2023-01-20 20:41:59.496833: W tensorflow/compiler/xla/stream_executor/platform/default/dso_loader.cc:64] Could not load dynamic library 'libcufft.so.10'; dlerror: libcufft.so.10: cannot open shared object file: No such file or directory; LD_LIBRARY_PATH: /lib64:/lib:/usr/local/lib:/usr/local/lib64:/usr/lib64:/usr/lib:/apps/cuda/lib64:/apps/cuda/lib\n",
      "2023-01-20 20:41:59.496886: W tensorflow/compiler/xla/stream_executor/platform/default/dso_loader.cc:64] Could not load dynamic library 'libcurand.so.10'; dlerror: libcurand.so.10: cannot open shared object file: No such file or directory; LD_LIBRARY_PATH: /lib64:/lib:/usr/local/lib:/usr/local/lib64:/usr/lib64:/usr/lib:/apps/cuda/lib64:/apps/cuda/lib\n",
      "2023-01-20 20:41:59.496947: W tensorflow/compiler/xla/stream_executor/platform/default/dso_loader.cc:64] Could not load dynamic library 'libcusolver.so.11'; dlerror: libcusolver.so.11: cannot open shared object file: No such file or directory; LD_LIBRARY_PATH: /lib64:/lib:/usr/local/lib:/usr/local/lib64:/usr/lib64:/usr/lib:/apps/cuda/lib64:/apps/cuda/lib\n",
      "2023-01-20 20:41:59.497001: W tensorflow/compiler/xla/stream_executor/platform/default/dso_loader.cc:64] Could not load dynamic library 'libcusparse.so.11'; dlerror: libcusparse.so.11: cannot open shared object file: No such file or directory; LD_LIBRARY_PATH: /lib64:/lib:/usr/local/lib:/usr/local/lib64:/usr/lib64:/usr/lib:/apps/cuda/lib64:/apps/cuda/lib\n",
      "2023-01-20 20:41:59.497053: W tensorflow/compiler/xla/stream_executor/platform/default/dso_loader.cc:64] Could not load dynamic library 'libcudnn.so.8'; dlerror: libcudnn.so.8: cannot open shared object file: No such file or directory; LD_LIBRARY_PATH: /lib64:/lib:/usr/local/lib:/usr/local/lib64:/usr/lib64:/usr/lib:/apps/cuda/lib64:/apps/cuda/lib\n",
      "2023-01-20 20:41:59.497065: W tensorflow/core/common_runtime/gpu/gpu_device.cc:1934] Cannot dlopen some GPU libraries. Please make sure the missing libraries mentioned above are installed properly if you would like to use GPU. Follow the guide at https://www.tensorflow.org/install/gpu for how to download and setup the required libraries for your platform.\n",
      "Skipping registering GPU devices...\n",
      "2023-01-20 20:41:59.497309: I tensorflow/core/platform/cpu_feature_guard.cc:193] This TensorFlow binary is optimized with oneAPI Deep Neural Network Library (oneDNN) to use the following CPU instructions in performance-critical operations:  AVX2 AVX512F FMA\n",
      "To enable them in other operations, rebuild TensorFlow with the appropriate compiler flags.\n"
     ]
    },
    {
     "name": "stdout",
     "output_type": "stream",
     "text": [
      "Model: \"sequential\"\n",
      "_________________________________________________________________\n",
      " Layer (type)                Output Shape              Param #   \n",
      "=================================================================\n",
      " conv2d (Conv2D)             (None, 224, 224, 16)      448       \n",
      "                                                                 \n",
      " batch_normalization (BatchN  (None, 224, 224, 16)     64        \n",
      " ormalization)                                                   \n",
      "                                                                 \n",
      " max_pooling2d (MaxPooling2D  (None, 112, 112, 16)     0         \n",
      " )                                                               \n",
      "                                                                 \n",
      " conv2d_1 (Conv2D)           (None, 112, 112, 16)      2320      \n",
      "                                                                 \n",
      " batch_normalization_1 (Batc  (None, 112, 112, 16)     64        \n",
      " hNormalization)                                                 \n",
      "                                                                 \n",
      " max_pooling2d_1 (MaxPooling  (None, 56, 56, 16)       0         \n",
      " 2D)                                                             \n",
      "                                                                 \n",
      " conv2d_2 (Conv2D)           (None, 56, 56, 32)        4640      \n",
      "                                                                 \n",
      " batch_normalization_2 (Batc  (None, 56, 56, 32)       128       \n",
      " hNormalization)                                                 \n",
      "                                                                 \n",
      " max_pooling2d_2 (MaxPooling  (None, 28, 28, 32)       0         \n",
      " 2D)                                                             \n",
      "                                                                 \n",
      " conv2d_3 (Conv2D)           (None, 28, 28, 64)        18496     \n",
      "                                                                 \n",
      " batch_normalization_3 (Batc  (None, 28, 28, 64)       256       \n",
      " hNormalization)                                                 \n",
      "                                                                 \n",
      " max_pooling2d_3 (MaxPooling  (None, 14, 14, 64)       0         \n",
      " 2D)                                                             \n",
      "                                                                 \n",
      " conv2d_4 (Conv2D)           (None, 14, 14, 128)       73856     \n",
      "                                                                 \n",
      " batch_normalization_4 (Batc  (None, 14, 14, 128)      512       \n",
      " hNormalization)                                                 \n",
      "                                                                 \n",
      " max_pooling2d_4 (MaxPooling  (None, 7, 7, 128)        0         \n",
      " 2D)                                                             \n",
      "                                                                 \n",
      " flatten (Flatten)           (None, 6272)              0         \n",
      "                                                                 \n",
      " dense (Dense)               (None, 64)                401472    \n",
      "                                                                 \n",
      " dense_1 (Dense)             (None, 1)                 65        \n",
      "                                                                 \n",
      "=================================================================\n",
      "Total params: 502,321\n",
      "Trainable params: 501,809\n",
      "Non-trainable params: 512\n",
      "_________________________________________________________________\n"
     ]
    }
   ],
   "source": [
    "# Import network libraries\n",
    "import keras\n",
    "\n",
    "from keras.models import Sequential\n",
    "from keras.layers import Dense, Conv2D, MaxPool2D, Flatten, BatchNormalization\n",
    "from keras.wrappers.scikit_learn import KerasClassifier\n",
    "\n",
    "\n",
    "model = Sequential()\n",
    "\n",
    "model.add(Conv2D(input_shape=(224,224,3),filters=16,kernel_size=(3,3),padding=\"same\", activation=\"relu\"))\n",
    "model.add(BatchNormalization())\n",
    "model.add(MaxPool2D(pool_size=(2,2),strides=(2,2)))\n",
    "\n",
    "model.add(Conv2D(filters=16, kernel_size=(3,3), padding=\"same\", activation=\"relu\"))\n",
    "model.add(BatchNormalization())\n",
    "model.add(MaxPool2D(pool_size=(2,2),strides=(2,2)))\n",
    "\n",
    "model.add(Conv2D(filters=32, kernel_size=(3,3), padding=\"same\", activation=\"relu\"))\n",
    "model.add(BatchNormalization())\n",
    "model.add(MaxPool2D(pool_size=(2,2),strides=(2,2)))\n",
    "\n",
    "model.add(Conv2D(filters=64, kernel_size=(3,3), padding=\"same\", activation=\"relu\"))\n",
    "model.add(BatchNormalization())\n",
    "model.add(MaxPool2D(pool_size=(2,2),strides=(2,2)))\n",
    "\n",
    "model.add(Conv2D(filters=128, kernel_size=(3,3), padding=\"same\", activation=\"relu\"))\n",
    "model.add(BatchNormalization())\n",
    "model.add(MaxPool2D(pool_size=(2,2),strides=(2,2)))\n",
    "\n",
    "model.add(Flatten())\n",
    "model.add(Dense(units=64,activation=\"relu\"))\n",
    "model.add(Dense(units=1, activation=\"sigmoid\")) \n",
    "\n",
    "# Display summary of the model\n",
    "model.summary()\n",
    "\n",
    "# Compile the model using ADAM (Adaptive learning rate optimization)\n",
    "model.compile(optimizer='adam', loss='binary_crossentropy', metrics=['accuracy'])"
   ]
  },
  {
   "cell_type": "code",
   "execution_count": 13,
   "id": "48731c6d",
   "metadata": {},
   "outputs": [],
   "source": [
    "import time"
   ]
  },
  {
   "cell_type": "code",
   "execution_count": 14,
   "id": "db936e69",
   "metadata": {},
   "outputs": [],
   "source": [
    "class TimeHistory(keras.callbacks.Callback):\n",
    "    def on_train_begin(self, logs={}):\n",
    "        self.times = []\n",
    "\n",
    "    def on_epoch_begin(self, batch, logs={}):\n",
    "        self.epoch_time_start = time.time()\n",
    "\n",
    "    def on_epoch_end(self, batch, logs={}):\n",
    "        self.times.append(time.time() - self.epoch_time_start)"
   ]
  },
  {
   "cell_type": "code",
   "execution_count": 15,
   "id": "446c602b",
   "metadata": {},
   "outputs": [
    {
     "name": "stdout",
     "output_type": "stream",
     "text": [
      "125\n",
      "31\n",
      "Epoch 1/15\n"
     ]
    },
    {
     "name": "stderr",
     "output_type": "stream",
     "text": [
      "/tmp/ipykernel_2643735/2257311796.py:9: UserWarning: `Model.fit_generator` is deprecated and will be removed in a future version. Please use `Model.fit`, which supports generators.\n",
      "  history = model.fit_generator(generator=train_generator,\n"
     ]
    },
    {
     "name": "stdout",
     "output_type": "stream",
     "text": [
      "125/125 [==============================] - ETA: 0s - loss: 0.7033 - accuracy: 0.6367\n",
      "Epoch 00001: val_loss improved from inf to 0.74511, saving model to /home/zceeysa/Documents/ELEC0134/ELEC0134/A2/vgg16_smiling.h5\n",
      "125/125 [==============================] - 50s 388ms/step - loss: 0.7033 - accuracy: 0.6367 - val_loss: 0.7451 - val_accuracy: 0.4950\n",
      "Epoch 2/15\n",
      "125/125 [==============================] - ETA: 0s - loss: 0.3490 - accuracy: 0.8450\n",
      "Epoch 00002: val_loss improved from 0.74511 to 0.55641, saving model to /home/zceeysa/Documents/ELEC0134/ELEC0134/A2/vgg16_smiling.h5\n",
      "125/125 [==============================] - 48s 383ms/step - loss: 0.3490 - accuracy: 0.8450 - val_loss: 0.5564 - val_accuracy: 0.6804\n",
      "Epoch 3/15\n",
      "125/125 [==============================] - ETA: 0s - loss: 0.2375 - accuracy: 0.9015\n",
      "Epoch 00003: val_loss improved from 0.55641 to 0.43039, saving model to /home/zceeysa/Documents/ELEC0134/ELEC0134/A2/vgg16_smiling.h5\n",
      "125/125 [==============================] - 48s 382ms/step - loss: 0.2375 - accuracy: 0.9015 - val_loss: 0.4304 - val_accuracy: 0.7853\n",
      "Epoch 4/15\n",
      "125/125 [==============================] - ETA: 0s - loss: 0.1748 - accuracy: 0.9283\n",
      "Epoch 00004: val_loss improved from 0.43039 to 0.29622, saving model to /home/zceeysa/Documents/ELEC0134/ELEC0134/A2/vgg16_smiling.h5\n",
      "125/125 [==============================] - 47s 377ms/step - loss: 0.1748 - accuracy: 0.9283 - val_loss: 0.2962 - val_accuracy: 0.8619\n",
      "Epoch 5/15\n",
      "125/125 [==============================] - ETA: 0s - loss: 0.1451 - accuracy: 0.9430\n",
      "Epoch 00005: val_loss improved from 0.29622 to 0.28550, saving model to /home/zceeysa/Documents/ELEC0134/ELEC0134/A2/vgg16_smiling.h5\n",
      "125/125 [==============================] - 48s 387ms/step - loss: 0.1451 - accuracy: 0.9430 - val_loss: 0.2855 - val_accuracy: 0.8810\n",
      "Epoch 6/15\n",
      "125/125 [==============================] - ETA: 0s - loss: 0.0859 - accuracy: 0.9678\n",
      "Epoch 00006: val_loss did not improve from 0.28550\n",
      "125/125 [==============================] - 48s 381ms/step - loss: 0.0859 - accuracy: 0.9678 - val_loss: 0.3139 - val_accuracy: 0.8770\n",
      "Epoch 7/15\n",
      "125/125 [==============================] - ETA: 0s - loss: 0.0477 - accuracy: 0.9855\n",
      "Epoch 00007: val_loss did not improve from 0.28550\n",
      "125/125 [==============================] - 48s 381ms/step - loss: 0.0477 - accuracy: 0.9855 - val_loss: 0.3165 - val_accuracy: 0.8942\n",
      "Epoch 8/15\n",
      "125/125 [==============================] - ETA: 0s - loss: 0.0350 - accuracy: 0.9905\n",
      "Epoch 00008: val_loss did not improve from 0.28550\n",
      "125/125 [==============================] - 48s 386ms/step - loss: 0.0350 - accuracy: 0.9905 - val_loss: 0.3317 - val_accuracy: 0.8891\n",
      "Epoch 9/15\n",
      "125/125 [==============================] - ETA: 0s - loss: 0.0611 - accuracy: 0.9775\n",
      "Epoch 00009: val_loss did not improve from 0.28550\n",
      "125/125 [==============================] - 47s 379ms/step - loss: 0.0611 - accuracy: 0.9775 - val_loss: 0.3668 - val_accuracy: 0.8629\n",
      "Epoch 10/15\n",
      "125/125 [==============================] - ETA: 0s - loss: 0.0513 - accuracy: 0.9812\n",
      "Epoch 00010: val_loss did not improve from 0.28550\n",
      "125/125 [==============================] - 48s 381ms/step - loss: 0.0513 - accuracy: 0.9812 - val_loss: 0.4772 - val_accuracy: 0.8196\n",
      "Epoch 00010: early stopping\n"
     ]
    }
   ],
   "source": [
    "# Set steps per epoch for callback \n",
    "STEP_SIZE_TRAIN = train_generator.samples//train_generator.batch_size\n",
    "STEP_SIZE_VALID = val_generator.samples//val_generator.batch_size\n",
    "print(STEP_SIZE_TRAIN)\n",
    "print(STEP_SIZE_VALID)\n",
    "\n",
    "time_callback = TimeHistory()\n",
    "\n",
    "history = model.fit_generator(generator=train_generator,\n",
    "                    steps_per_epoch=STEP_SIZE_TRAIN,\n",
    "                    epochs=15,\n",
    "                    callbacks=[time_callback, callback_list],\n",
    "                    validation_data=val_generator,\n",
    "                    validation_steps=STEP_SIZE_VALID)\n",
    "\n",
    "times = time_callback.times"
   ]
  },
  {
   "cell_type": "code",
   "execution_count": 16,
   "id": "3c10b31d",
   "metadata": {},
   "outputs": [],
   "source": [
    "import matplotlib.pyplot as plt\n",
    "\n",
    "\n",
    "def plot_training_history(history,times):\n",
    "    plt.figure(figsize=(11,5))\n",
    "    plt.subplot(1, 3, 1)\n",
    "    plt.plot(history.history['val_loss'], label='Validation Loss')\n",
    "    plt.plot(history.history['loss'], label='Training Loss')\n",
    "    plt.title('Validation Loss vs. Number of Epochs')\n",
    "    plt.xlabel('Number of Epochs')\n",
    "    plt.ylabel('Loss')\n",
    "    plt.legend()\n",
    "    plt.subplot(1, 3, 2)\n",
    "    plt.plot(times)\n",
    "    plt.title('Fit time vs. Number of Epochs')\n",
    "    plt.xlabel('Number of Epochs')\n",
    "    plt.ylabel('Fit time')\n",
    "\n",
    "    plt.show()\n",
    "\n",
    "\n",
    "\n"
   ]
  },
  {
   "cell_type": "code",
   "execution_count": 17,
   "id": "60e88760",
   "metadata": {},
   "outputs": [
    {
     "data": {
      "image/png": "[encoded data removed]",
      "text/plain": [
       "<Figure size 1100x500 with 2 Axes>"
      ]
     },
     "metadata": {},
     "output_type": "display_data"
    }
   ],
   "source": [
    "plot_training_history(history, times)"
   ]
  },
  {
   "cell_type": "code",
   "execution_count": 24,
   "id": "e8e0ded1",
   "metadata": {},
   "outputs": [
    {
     "name": "stderr",
     "output_type": "stream",
     "text": [
      "/tmp/ipykernel_2643735/1742060899.py:15: UserWarning: `Model.predict_generator` is deprecated and will be removed in a future version. Please use `Model.predict`, which supports generators.\n",
      "  predictions = model.predict_generator(test_generator, steps=len(test_generator))\n"
     ]
    },
    {
     "name": "stdout",
     "output_type": "stream",
     "text": [
      "32/32 [==============================] - 3s 82ms/step - loss: 0.2831 - accuracy: 0.8790\n",
      "Test Loss:  0.28311803936958313\n",
      "Test Accuracy:  0.8790000081062317\n",
      "Test Precision:  0.8847262657392633\n",
      "Test Recall:  0.879\n",
      "Test F1-Score:  0.8785480773959905\n"
     ]
    }
   ],
   "source": [
    "from keras.models import load_model\n",
    "from keras import backend as K\n",
    "from sklearn.metrics import precision_recall_fscore_support\n",
    "\n",
    "# Load the pre-trained model\n",
    "model = load_model(\"A2/vgg16_smiling.h5\")\n",
    "\n",
    "# Compile the model (if necessary)\n",
    "model.compile(optimizer='adam', loss='binary_crossentropy', metrics=['accuracy'])\n",
    "\n",
    "# Set the learning phase to test\n",
    "K.set_learning_phase(0)\n",
    "\n",
    "# Generate predictions from the test data\n",
    "predictions = model.predict_generator(test_generator, steps=len(test_generator))\n",
    "predictions = np.round(predictions)\n",
    "\n",
    "# Convert test labels to class labels\n",
    "test_labels = test_generator.labels\n",
    "\n",
    "test_loss, test_acc = model.evaluate(test_generator)\n",
    "\n",
    "# Calculate precision, recall, f1-score, and support\n",
    "precision, recall, f1_score, support = precision_recall_fscore_support(test_labels, predictions, average='weighted')\n",
    "\n",
    "# Print test loss, accuracy, precision, recall, f1-score, and support\n",
    "print(\"Test Loss: \", test_loss)\n",
    "print(\"Test Accuracy: \", test_acc)\n",
    "print(\"Test Precision: \", precision)\n",
    "print(\"Test Recall: \", recall)\n",
    "print(\"Test F1-Score: \", f1_score)"
   ]
  },
  {
   "cell_type": "code",
   "execution_count": 19,
   "id": "6a39bebb",
   "metadata": {},
   "outputs": [],
   "source": [
    "from sklearn.metrics import confusion_matrix"
   ]
  },
  {
   "cell_type": "code",
   "execution_count": 20,
   "id": "e70d75b6",
   "metadata": {},
   "outputs": [
    {
     "name": "stdout",
     "output_type": "stream",
     "text": [
      "32/32 [==============================] - 4s 110ms/step\n"
     ]
    },
    {
     "ename": "ValueError",
     "evalue": "Classification metrics can't handle a mix of binary and multilabel-indicator targets",
     "output_type": "error",
     "traceback": [
      "\u001b[0;31m---------------------------------------------------------------------------\u001b[0m",
      "\u001b[0;31mValueError\u001b[0m                                Traceback (most recent call last)",
      "Cell \u001b[0;32mIn [20], line 15\u001b[0m\n\u001b[1;32m     12\u001b[0m y_test \u001b[38;5;241m=\u001b[39m test_generator\u001b[38;5;241m.\u001b[39mlabels\n\u001b[1;32m     14\u001b[0m \u001b[38;5;66;03m# Create a confusion matrix\u001b[39;00m\n\u001b[0;32m---> 15\u001b[0m confusion_mat \u001b[38;5;241m=\u001b[39m \u001b[43mconfusion_matrix\u001b[49m\u001b[43m(\u001b[49m\u001b[43my_test\u001b[49m\u001b[43m,\u001b[49m\u001b[43m \u001b[49m\u001b[43mpredictions\u001b[49m\u001b[43m)\u001b[49m\n\u001b[1;32m     17\u001b[0m \u001b[38;5;66;03m# Plot the confusion matrix\u001b[39;00m\n\u001b[1;32m     18\u001b[0m fig, ax \u001b[38;5;241m=\u001b[39m plt\u001b[38;5;241m.\u001b[39msubplots()\n",
      "File \u001b[0;32m~/Desktop/ENTER/lib/python3.8/site-packages/sklearn/metrics/_classification.py:307\u001b[0m, in \u001b[0;36mconfusion_matrix\u001b[0;34m(y_true, y_pred, labels, sample_weight, normalize)\u001b[0m\n\u001b[1;32m    222\u001b[0m \u001b[38;5;28;01mdef\u001b[39;00m \u001b[38;5;21mconfusion_matrix\u001b[39m(\n\u001b[1;32m    223\u001b[0m     y_true, y_pred, \u001b[38;5;241m*\u001b[39m, labels\u001b[38;5;241m=\u001b[39m\u001b[38;5;28;01mNone\u001b[39;00m, sample_weight\u001b[38;5;241m=\u001b[39m\u001b[38;5;28;01mNone\u001b[39;00m, normalize\u001b[38;5;241m=\u001b[39m\u001b[38;5;28;01mNone\u001b[39;00m\n\u001b[1;32m    224\u001b[0m ):\n\u001b[1;32m    225\u001b[0m     \u001b[38;5;124;03m\"\"\"Compute confusion matrix to evaluate the accuracy of a classification.\u001b[39;00m\n\u001b[1;32m    226\u001b[0m \n\u001b[1;32m    227\u001b[0m \u001b[38;5;124;03m    By definition a confusion matrix :math:`C` is such that :math:`C_{i, j}`\u001b[39;00m\n\u001b[0;32m   (...)\u001b[0m\n\u001b[1;32m    305\u001b[0m \u001b[38;5;124;03m    (0, 2, 1, 1)\u001b[39;00m\n\u001b[1;32m    306\u001b[0m \u001b[38;5;124;03m    \"\"\"\u001b[39;00m\n\u001b[0;32m--> 307\u001b[0m     y_type, y_true, y_pred \u001b[38;5;241m=\u001b[39m \u001b[43m_check_targets\u001b[49m\u001b[43m(\u001b[49m\u001b[43my_true\u001b[49m\u001b[43m,\u001b[49m\u001b[43m \u001b[49m\u001b[43my_pred\u001b[49m\u001b[43m)\u001b[49m\n\u001b[1;32m    308\u001b[0m     \u001b[38;5;28;01mif\u001b[39;00m y_type \u001b[38;5;129;01mnot\u001b[39;00m \u001b[38;5;129;01min\u001b[39;00m (\u001b[38;5;124m\"\u001b[39m\u001b[38;5;124mbinary\u001b[39m\u001b[38;5;124m\"\u001b[39m, \u001b[38;5;124m\"\u001b[39m\u001b[38;5;124mmulticlass\u001b[39m\u001b[38;5;124m\"\u001b[39m):\n\u001b[1;32m    309\u001b[0m         \u001b[38;5;28;01mraise\u001b[39;00m \u001b[38;5;167;01mValueError\u001b[39;00m(\u001b[38;5;124m\"\u001b[39m\u001b[38;5;132;01m%s\u001b[39;00m\u001b[38;5;124m is not supported\u001b[39m\u001b[38;5;124m\"\u001b[39m \u001b[38;5;241m%\u001b[39m y_type)\n",
      "File \u001b[0;32m~/Desktop/ENTER/lib/python3.8/site-packages/sklearn/metrics/_classification.py:93\u001b[0m, in \u001b[0;36m_check_targets\u001b[0;34m(y_true, y_pred)\u001b[0m\n\u001b[1;32m     90\u001b[0m     y_type \u001b[38;5;241m=\u001b[39m {\u001b[38;5;124m\"\u001b[39m\u001b[38;5;124mmulticlass\u001b[39m\u001b[38;5;124m\"\u001b[39m}\n\u001b[1;32m     92\u001b[0m \u001b[38;5;28;01mif\u001b[39;00m \u001b[38;5;28mlen\u001b[39m(y_type) \u001b[38;5;241m>\u001b[39m \u001b[38;5;241m1\u001b[39m:\n\u001b[0;32m---> 93\u001b[0m     \u001b[38;5;28;01mraise\u001b[39;00m \u001b[38;5;167;01mValueError\u001b[39;00m(\n\u001b[1;32m     94\u001b[0m         \u001b[38;5;124m\"\u001b[39m\u001b[38;5;124mClassification metrics can\u001b[39m\u001b[38;5;124m'\u001b[39m\u001b[38;5;124mt handle a mix of \u001b[39m\u001b[38;5;132;01m{0}\u001b[39;00m\u001b[38;5;124m and \u001b[39m\u001b[38;5;132;01m{1}\u001b[39;00m\u001b[38;5;124m targets\u001b[39m\u001b[38;5;124m\"\u001b[39m\u001b[38;5;241m.\u001b[39mformat(\n\u001b[1;32m     95\u001b[0m             type_true, type_pred\n\u001b[1;32m     96\u001b[0m         )\n\u001b[1;32m     97\u001b[0m     )\n\u001b[1;32m     99\u001b[0m \u001b[38;5;66;03m# We can't have more than one value on y_type => The set is no more needed\u001b[39;00m\n\u001b[1;32m    100\u001b[0m y_type \u001b[38;5;241m=\u001b[39m y_type\u001b[38;5;241m.\u001b[39mpop()\n",
      "\u001b[0;31mValueError\u001b[0m: Classification metrics can't handle a mix of binary and multilabel-indicator targets"
     ]
    }
   ],
   "source": [
    "import matplotlib.pyplot as plt\n",
    "import numpy as np\n",
    "from sklearn.metrics import confusion_matrix\n",
    "\n",
    "# Generate the predictions from your model\n",
    "predictions = model.predict(test_generator)\n",
    "\n",
    "# Convert predictions to a class index (0 or 1)\n",
    "predictions = np.round(predictions).astype(int)\n",
    "\n",
    "# Get the true labels from the test generator\n",
    "y_test = test_generator.labels\n",
    "\n",
    "# Create a confusion matrix\n",
    "confusion_mat = confusion_matrix(y_test, predictions)\n",
    "\n",
    "# Plot the confusion matrix\n",
    "fig, ax = plt.subplots()\n",
    "im = ax.imshow(confusion_mat, cmap='Blues')\n",
    "ax.set_title('Gender CNN Confusion Matrix')\n",
    "ax.set_xlabel('Predicted')\n",
    "ax.set_ylabel('True')\n",
    "\n",
    "# Add labels to the matrix cells\n",
    "for i in range(2):\n",
    "    for j in range(2):\n",
    "        ax.text(j, i, confusion_mat[i, j], ha='center', va='center', color='black')\n",
    "\n",
    "# Add a colorbar\n",
    "cbar = ax.figure.colorbar(im, ax=ax)\n",
    "cbar.ax.set_ylabel('Count', rotation=-90, va=\"bottom\")\n",
    "\n",
    "# Show the plot\n",
    "plt.show()\n",
    "plt.savefig('confus_smiling.png')\n"
   ]
  },
  {
   "cell_type": "code",
   "execution_count": null,
   "id": "a551419d",
   "metadata": {},
   "outputs": [],
   "source": [
    "from sklearn.metrics import roc_auc_score\n",
    "\n",
    "# Generate the predictions from your model\n",
    "predictions = model.predict(test_generator)\n",
    "\n",
    "# Get the true labels\n",
    "y_test = test_generator.labels\n",
    "\n",
    "# Calculate the weighted average ROC AUC score\n",
    "roc_auc = roc_auc_score(y_test, predictions)\n",
    "\n",
    "print(\"ROC AUC:\", roc_auc)\n"
   ]
  }
 ],
 "metadata": {
  "kernelspec": {
   "display_name": "Python 3 (ipykernel)",
   "language": "python",
   "name": "python3"
  },
  "language_info": {
   "codemirror_mode": {
    "name": "ipython",
    "version": 3
   },
   "file_extension": ".py",
   "mimetype": "text/x-python",
   "name": "python",
   "nbconvert_exporter": "python",
   "pygments_lexer": "ipython3",
   "version": "3.8.5"
  }
 },
 "nbformat": 4,
 "nbformat_minor": 5
}
