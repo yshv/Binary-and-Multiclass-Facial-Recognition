{
 "cells": [
  {
   "cell_type": "markdown",
   "metadata": {},
   "source": [
    "# ELEC0134 - Applied Machine Learning Systems Assignment 22-23\n",
    "## A1: Smile Detection\n",
    "\n",
    "*Note preprocessing step is skipped as preprocessing was completed in SVM notebook."
   ]
  },
  {
   "cell_type": "code",
   "execution_count": 4,
   "metadata": {},
   "outputs": [],
   "source": [
    "import numpy as np\n",
    "from sklearn.ensemble import RandomForestClassifier\n",
    "from sklearn.model_selection import RandomizedSearchCV\n"
   ]
  },
  {
   "cell_type": "code",
   "execution_count": 5,
   "metadata": {},
   "outputs": [],
   "source": [
    "# Loading in training and test data from npy files\n",
    "X_train = np.load('all_features_train.npy')\n",
    "y_train = np.load('smile_labels_train.npy')\n",
    "\n",
    "X_test = np.load('all_features_test.npy')\n",
    "y_test = np.load('smile_labels_test.npy')"
   ]
  },
  {
   "cell_type": "code",
   "execution_count": 6,
   "metadata": {},
   "outputs": [
    {
     "name": "stdout",
     "output_type": "stream",
     "text": [
      "features_train:  (4798, 136)\n",
      "features_test:  (970, 136)\n",
      "labels_train:  (4798,)\n",
      "labels_test:  (970,)\n"
     ]
    }
   ],
   "source": [
    "print('features_train: ', X_train.shape)\n",
    "print('features_test: ', X_test.shape)\n",
    "print('labels_train: ', y_train.shape)\n",
    "print('labels_test: ', y_test.shape)"
   ]
  },
  {
   "cell_type": "code",
   "execution_count": 54,
   "metadata": {},
   "outputs": [
    {
     "name": "stdout",
     "output_type": "stream",
     "text": [
      "Fitting 10 folds for each of 10 candidates, totalling 100 fits\n"
     ]
    },
    {
     "data": {
      "text/plain": [
       "RandomizedSearchCV(cv=10, estimator=RandomForestClassifier(), n_jobs=4,\n",
       "                   param_distributions={'max_depth': [2, 4, 6, 8, 10, 12, 14,\n",
       "                                                      16, 18, 20],\n",
       "                                        'n_estimators': [50, 100, 150, 200, 250,\n",
       "                                                         300]},\n",
       "                   verbose=3)"
      ]
     },
     "execution_count": 54,
     "metadata": {},
     "output_type": "execute_result"
    }
   ],
   "source": [
    "param_grid = {'n_estimators': [50, 100, 150, 200, 250, 300],\n",
    "              'max_depth': [2, 4, 6, 8, 10, 12, 14, 16, 18, 20]}\n",
    "\n",
    "\n",
    "\n",
    "# rfm = random forest model\n",
    "rfm = RandomForestClassifier()\n",
    "random_search = RandomizedSearchCV(rfm, param_grid, verbose = 3, cv = 10, n_jobs = 4)\n",
    "random_search.fit(X_train, y_train)"
   ]
  },
  {
   "cell_type": "code",
   "execution_count": 56,
   "metadata": {},
   "outputs": [
    {
     "name": "stdout",
     "output_type": "stream",
     "text": [
      "Best parameters:  {'n_estimators': 200, 'max_depth': 16}\n",
      "Best score:  0.8891223034098819\n"
     ]
    }
   ],
   "source": [
    "print(\"Best parameters: \", random_search.best_params_)\n",
    "print(\"Best score: \", random_search.best_score_)\n",
    "best_params_ = {'n_estimators': 200, 'max_depth': 16}"
   ]
  },
  {
   "cell_type": "code",
   "execution_count": 57,
   "metadata": {},
   "outputs": [],
   "source": [
    "rfm = RandomForestClassifier(**best_params_)"
   ]
  },
  {
   "cell_type": "code",
   "execution_count": 58,
   "metadata": {
    "scrolled": true
   },
   "outputs": [
    {
     "data": {
      "text/plain": [
       "RandomForestClassifier(max_depth=16, n_estimators=200)"
      ]
     },
     "execution_count": 58,
     "metadata": {},
     "output_type": "execute_result"
    }
   ],
   "source": [
    "rfm.fit(X_train, y_train)"
   ]
  },
  {
   "cell_type": "code",
   "execution_count": 64,
   "metadata": {},
   "outputs": [],
   "source": [
    "from sklearn.metrics import accuracy_score, precision_score, recall_score, f1_score"
   ]
  },
  {
   "cell_type": "code",
   "execution_count": 66,
   "metadata": {},
   "outputs": [
    {
     "name": "stdout",
     "output_type": "stream",
     "text": [
      "Accuracy: 0.897\n",
      "Precision: 0.911\n",
      "Recall: 0.885\n",
      "F1-score: 0.898\n"
     ]
    }
   ],
   "source": [
    "y_pred = rfm.predict(X_test)\n",
    "\n",
    "# Evaluate the model's performance using different metrics\n",
    "acc = accuracy_score(y_test, y_pred)\n",
    "prec = precision_score(y_test, y_pred)\n",
    "recall = recall_score(y_test, y_pred)\n",
    "f1 = f1_score(y_test, y_pred)\n",
    "\n",
    "print(f'Accuracy: {acc:.3f}')\n",
    "print(f'Precision: {prec:.3f}')\n",
    "print(f'Recall: {recall:.3f}')\n",
    "print(f'F1-score: {f1:.3f}')"
   ]
  },
  {
   "cell_type": "code",
   "execution_count": 52,
   "metadata": {},
   "outputs": [],
   "source": [
    "from sklearn.model_selection import learning_curve\n",
    "from sklearn.model_selection import ShuffleSplit\n",
    "import matplotlib.pyplot as plt"
   ]
  },
  {
   "cell_type": "code",
   "execution_count": 53,
   "metadata": {},
   "outputs": [],
   "source": [
    "def plot_learning_curve(estimator, title, X, y, axes=None, ylim=None, cv=None):\n",
    "\n",
    "\n",
    "    axes[0].set_title(title)\n",
    "\n",
    "    axes[0].set_xlabel(\"Training examples\")\n",
    "    axes[0].set_ylabel(\"Score\")\n",
    "\n",
    "    train_sizes, train_scores, test_scores, fit_times, _ = \\\n",
    "        learning_curve(estimator, X, y, cv=cv, n_jobs = -1, \\\n",
    "                       train_sizes = np.linspace(.1, 1.0, 5),\n",
    "                       return_times = True)\n",
    "\n",
    "    train_scores_mean = np.mean(train_scores, axis=1)\n",
    "    train_scores_std = np.std(train_scores, axis=1)\n",
    "    test_scores_mean = np.mean(test_scores, axis=1)\n",
    "    test_scores_std = np.std(test_scores, axis=1)\n",
    "    fit_times_mean = np.mean(fit_times, axis=1)\n",
    "    fit_times_std = np.std(fit_times, axis=1)\n",
    "    \n",
    "    # Plot learning curve\n",
    "    axes[0].grid()\n",
    "    axes[0].plot(train_sizes, train_scores_mean, 'o-', color=\"r\",\n",
    "                 label=\"Training score\")\n",
    "    axes[0].plot(train_sizes, test_scores_mean, 'o-', color=\"g\",\n",
    "                 label=\"Cross-validation score\")\n",
    "    axes[0].legend(loc=\"best\")\n",
    "    axes[0].set_ylabel(\"Accuracy Score\")\n",
    "    \n",
    "    # Plot n_samples vs fit_times\n",
    "    axes[1].grid()\n",
    "    axes[1].plot(train_sizes, fit_times_mean, 'o-')\n",
    "    axes[1].set_xlabel(\"Training examples\")\n",
    "    axes[1].set_ylabel(\"fit times (s)\")\n",
    "    axes[1].set_title(\"Scalability of the model\")\n",
    "    return plt"
   ]
  },
  {
   "cell_type": "code",
   "execution_count": 44,
   "metadata": {},
   "outputs": [
    {
     "data": {
      "text/plain": [
       "<module 'matplotlib.pyplot' from '/home/zceeysa/Desktop/ENTER/lib/python3.8/site-packages/matplotlib/pyplot.py'>"
      ]
     },
     "execution_count": 44,
     "metadata": {},
     "output_type": "execute_result"
    },
    {
     "data": {
      "image/png": "[encoded data removed]",
      "text/plain": [
       "<Figure size 1000x500 with 2 Axes>"
      ]
     },
     "metadata": {},
     "output_type": "display_data"
    }
   ],
   "source": [
    "fig, axes = plt.subplots(1, 2, figsize=(10, 5))\n",
    "# Plot learning curve for Random Forests  \n",
    "title = \"Learning Curve for Random Forests for Smile Detection\"\n",
    "\n",
    "cv = ShuffleSplit(n_splits=50, test_size=0.2, random_state=0)\n",
    "plot_learning_curve(rfm, title, X_train, y_train, axes=axes, \n",
    "                    ylim=(0.7, 1.01), cv = cv)"
   ]
  },
  {
   "cell_type": "code",
   "execution_count": 62,
   "metadata": {},
   "outputs": [],
   "source": [
    "from sklearn.metrics import confusion_matrix\n",
    "import matplotlib.pyplot as plt"
   ]
  },
  {
   "cell_type": "code",
   "execution_count": 63,
   "metadata": {},
   "outputs": [
    {
     "name": "stdout",
     "output_type": "stream",
     "text": [
      "[[0.90909091 0.09090909]\n",
      " [0.11468813 0.88531187]]\n"
     ]
    }
   ],
   "source": [
    "# Assume that y_true are the true labels and y_pred are the predicted labels\n",
    "conf_mat = confusion_matrix(y_test, y_pred)\n",
    "conf_mat = conf_mat.astype('float') / conf_mat.sum(axis=1)[:, np.newaxis]\n",
    "print(conf_mat)"
   ]
  },
  {
   "cell_type": "code",
   "execution_count": null,
   "metadata": {},
   "outputs": [],
   "source": [
    "from sklearn.metrics import roc_curve, roc_auc_score"
   ]
  },
  {
   "cell_type": "code",
   "execution_count": null,
   "metadata": {},
   "outputs": [],
   "source": [
    "def plot_ROC_curve(model, features_test, labels_test, title = None):\n",
    "\n",
    "    # predict the scores of the positive class\n",
    "    y_scores = model.decision_function(features_test)\n",
    "\n",
    "    # calculate the false positive rate, true positive rate and thresholds\n",
    "    fpr, tpr, thresholds = roc_curve(labels_test, y_scores)\n",
    "\n",
    "    # calculate the AUC\n",
    "    auc = roc_auc_score(labels_test, y_scores)\n",
    "    \n",
    "    # plot the ROC curve\n",
    "    if title:\n",
    "        plt.title(title)\n",
    "        \n",
    "    plt.plot(fpr, tpr, label=f'AUC: {auc:.2f}')\n",
    "    plt.xlabel('False Positive Rate')\n",
    "    plt.ylabel('True Positive Rate')\n",
    "    plt.title(title)\n",
    "    plt.legend()\n",
    "    plt.show()"
   ]
  },
  {
   "cell_type": "code",
   "execution_count": null,
   "metadata": {},
   "outputs": [],
   "source": [
    "plot_ROC_curve(rmf, X_test, y_test, title = 'ROC curve for Random Forest model for Smile Detection')"
   ]
  }
 ],
 "metadata": {
  "kernelspec": {
   "display_name": "Python 3 (ipykernel)",
   "language": "python",
   "name": "python3"
  },
  "language_info": {
   "codemirror_mode": {
    "name": "ipython",
    "version": 3
   },
   "file_extension": ".py",
   "mimetype": "text/x-python",
   "name": "python",
   "nbconvert_exporter": "python",
   "pygments_lexer": "ipython3",
   "version": "3.8.5"
  },
  "vscode": {
   "interpreter": {
    "hash": "2d3439f45b569e714526962a83f54a0b286ccce6e9281f36eb0cf06ce572a0d4"
   }
  }
 },
 "nbformat": 4,
 "nbformat_minor": 2
}
