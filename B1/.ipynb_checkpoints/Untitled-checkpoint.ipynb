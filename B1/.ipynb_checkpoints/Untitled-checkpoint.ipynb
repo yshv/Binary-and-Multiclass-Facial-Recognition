{
 "cells": [
  {
   "cell_type": "code",
   "execution_count": 1,
   "id": "d2fbad07",
   "metadata": {},
   "outputs": [],
   "source": [
    "# Import libraries\n",
    "import numpy as np\n",
    "import pandas as pd\n",
    "import os\n"
   ]
  },
  {
   "cell_type": "code",
   "execution_count": 2,
   "id": "d99c1049",
   "metadata": {},
   "outputs": [],
   "source": [
    "# Only run this once\n",
    "os.chdir('..')\n",
    "base_dir = '/home/zceeysa/Documents/ELEC0134/ELEC0134'\n",
    "os.chdir(base_dir)"
   ]
  },
  {
   "cell_type": "code",
   "execution_count": 3,
   "id": "755cb351",
   "metadata": {},
   "outputs": [
    {
     "name": "stdout",
     "output_type": "stream",
     "text": [
      "/home/zceeysa/Documents/ELEC0134/ELEC0134\n"
     ]
    }
   ],
   "source": [
    "print(os.getcwd())"
   ]
  },
  {
   "cell_type": "code",
   "execution_count": 4,
   "id": "d928e680",
   "metadata": {},
   "outputs": [
    {
     "name": "stdout",
     "output_type": "stream",
     "text": [
      "  file_name  face_shape\n",
      "0     0.png           4\n",
      "1     1.png           4\n",
      "2     2.png           3\n",
      "3     3.png           0\n",
      "4     4.png           2\n",
      "  file_name  face_shape\n",
      "0     0.png           5\n",
      "1     1.png           5\n",
      "2     2.png           4\n",
      "3     3.png           1\n",
      "4     4.png           3\n"
     ]
    },
    {
     "name": "stderr",
     "output_type": "stream",
     "text": [
      "/home/zceeysa/Desktop/ENTER/lib/python3.8/site-packages/pandas/core/indexing.py:1676: SettingWithCopyWarning: \n",
      "A value is trying to be set on a copy of a slice from a DataFrame.\n",
      "Try using .loc[row_indexer,col_indexer] = value instead\n",
      "\n",
      "See the caveats in the documentation: https://pandas.pydata.org/pandas-docs/stable/user_guide/indexing.html#returning-a-view-versus-a-copy\n",
      "  self._setitem_single_column(ilocs[0], value, pi)\n",
      "/tmp/ipykernel_1742385/621661157.py:11: SettingWithCopyWarning: \n",
      "A value is trying to be set on a copy of a slice from a DataFrame.\n",
      "Try using .loc[row_indexer,col_indexer] = value instead\n",
      "\n",
      "See the caveats in the documentation: https://pandas.pydata.org/pandas-docs/stable/user_guide/indexing.html#returning-a-view-versus-a-copy\n",
      "  train_df[\"face_shape\"] = train_df[\"face_shape\"].astype(str)\n"
     ]
    }
   ],
   "source": [
    "\n",
    "# Converting csv into dataframe using read_csv(label_path)\n",
    "train_cartoon_df = pd.read_csv('Dataset/dataset_AMLS_22-23/cartoon_set/labels.csv', sep='\\t', engine='python')\n",
    "train_df = train_cartoon_df[['file_name', 'face_shape']]\n",
    "print(train_df.head())\n",
    "\n",
    "# Convert the face shape column to class 1-5\n",
    "train_df.loc[:,'face_shape'] += 1\n",
    "print(train_df.head())\n",
    "\n",
    "# Convert face shape column type from int64 to str for data generator\n",
    "train_df[\"face_shape\"] = train_df[\"face_shape\"].astype(str)"
   ]
  },
  {
   "cell_type": "code",
   "execution_count": 5,
   "id": "9d2c2b1f",
   "metadata": {},
   "outputs": [],
   "source": [
    "from sklearn.utils import shuffle\n",
    "from sklearn.model_selection import train_test_split"
   ]
  },
  {
   "cell_type": "code",
   "execution_count": 6,
   "id": "cc1d216d",
   "metadata": {},
   "outputs": [
    {
     "name": "stdout",
     "output_type": "stream",
     "text": [
      "/home/zceeysa/Documents/ELEC0134/ELEC0134\n"
     ]
    }
   ],
   "source": [
    "print(os.getcwd())"
   ]
  },
  {
   "cell_type": "code",
   "execution_count": 7,
   "id": "f854b9c5",
   "metadata": {},
   "outputs": [
    {
     "name": "stderr",
     "output_type": "stream",
     "text": [
      "2023-01-16 17:19:41.632894: I tensorflow/core/platform/cpu_feature_guard.cc:193] This TensorFlow binary is optimized with oneAPI Deep Neural Network Library (oneDNN) to use the following CPU instructions in performance-critical operations:  AVX2 AVX512F FMA\n",
      "To enable them in other operations, rebuild TensorFlow with the appropriate compiler flags.\n",
      "2023-01-16 17:19:41.808927: W tensorflow/compiler/xla/stream_executor/platform/default/dso_loader.cc:64] Could not load dynamic library 'libcudart.so.11.0'; dlerror: libcudart.so.11.0: cannot open shared object file: No such file or directory; LD_LIBRARY_PATH: /lib64:/lib:/usr/local/lib:/usr/local/lib64:/usr/lib64:/usr/lib:/apps/cuda/lib64:/apps/cuda/lib\n",
      "2023-01-16 17:19:41.808958: I tensorflow/compiler/xla/stream_executor/cuda/cudart_stub.cc:29] Ignore above cudart dlerror if you do not have a GPU set up on your machine.\n",
      "2023-01-16 17:19:43.755452: W tensorflow/compiler/xla/stream_executor/platform/default/dso_loader.cc:64] Could not load dynamic library 'libnvinfer.so.7'; dlerror: libnvinfer.so.7: cannot open shared object file: No such file or directory; LD_LIBRARY_PATH: /lib64:/lib:/usr/local/lib:/usr/local/lib64:/usr/lib64:/usr/lib:/apps/cuda/lib64:/apps/cuda/lib\n",
      "2023-01-16 17:19:43.755538: W tensorflow/compiler/xla/stream_executor/platform/default/dso_loader.cc:64] Could not load dynamic library 'libnvinfer_plugin.so.7'; dlerror: libnvinfer_plugin.so.7: cannot open shared object file: No such file or directory; LD_LIBRARY_PATH: /lib64:/lib:/usr/local/lib:/usr/local/lib64:/usr/lib64:/usr/lib:/apps/cuda/lib64:/apps/cuda/lib\n",
      "2023-01-16 17:19:43.755545: W tensorflow/compiler/tf2tensorrt/utils/py_utils.cc:38] TF-TRT Warning: Cannot dlopen some TensorRT libraries. If you would like to use Nvidia GPU with TensorRT, please make sure the missing libraries mentioned above are installed properly.\n"
     ]
    },
    {
     "name": "stdout",
     "output_type": "stream",
     "text": [
      "Found 10000 validated image filenames belonging to 5 classes.\n",
      "Found 2000 validated image filenames belonging to 5 classes.\n"
     ]
    }
   ],
   "source": [
    "from keras.preprocessing.image import ImageDataGenerator\n",
    "import pandas as pd\n",
    "\n",
    "# Read in the excel sheet with the labels\n",
    "train_labels_df = pd.read_csv('Dataset/dataset_AMLS_22-23/cartoon_set/labels.csv')\n",
    "\n",
    "# Define the data generators\n",
    "train_datagen = ImageDataGenerator(rescale=1./255)\n",
    "val_datagen = ImageDataGenerator(rescale=1./255)\n",
    "\n",
    "# Define the data loaders\n",
    "batch_size = 32\n",
    "\n",
    "# split the data into training and validation sets\n",
    "training_df, val_df = train_test_split(train_df, test_size=0.2, random_state=42)\n",
    "\n",
    "train_data_gen = train_datagen.flow_from_dataframe(dataframe=train_df,\n",
    "                                                    directory='Dataset/dataset_AMLS_22-23/cartoon_set/img',\n",
    "                                                    x_col='file_name',\n",
    "                                                    y_col='face_shape',\n",
    "                                                    target_size=(224, 224),\n",
    "                                                    #batch_size=32,\n",
    "                                                    shuffle=True,\n",
    "                                                    class_mode='categorical')\n",
    "\n",
    "val_data_gen = val_datagen.flow_from_dataframe(dataframe=val_df,\n",
    "                                                directory='Dataset/dataset_AMLS_22-23/cartoon_set/img',\n",
    "                                                x_col='file_name',\n",
    "                                                y_col='face_shape',\n",
    "                                                target_size=(224, 224),\n",
    "                                                #batch_size=32,\n",
    "                                                shuffle=True,\n",
    "                                                class_mode='categorical')"
   ]
  },
  {
   "cell_type": "code",
   "execution_count": 8,
   "id": "b0e85a21",
   "metadata": {},
   "outputs": [
    {
     "name": "stdout",
     "output_type": "stream",
     "text": [
      "  file_name  face_shape\n",
      "0     0.png           1\n",
      "1     1.png           4\n",
      "2     2.png           2\n",
      "3     3.png           2\n",
      "4     4.png           3\n",
      "  file_name  face_shape\n",
      "0     0.png           2\n",
      "1     1.png           5\n",
      "2     2.png           3\n",
      "3     3.png           3\n",
      "4     4.png           4\n"
     ]
    },
    {
     "name": "stderr",
     "output_type": "stream",
     "text": [
      "/home/zceeysa/Desktop/ENTER/lib/python3.8/site-packages/pandas/core/indexing.py:1676: SettingWithCopyWarning: \n",
      "A value is trying to be set on a copy of a slice from a DataFrame.\n",
      "Try using .loc[row_indexer,col_indexer] = value instead\n",
      "\n",
      "See the caveats in the documentation: https://pandas.pydata.org/pandas-docs/stable/user_guide/indexing.html#returning-a-view-versus-a-copy\n",
      "  self._setitem_single_column(ilocs[0], value, pi)\n",
      "/tmp/ipykernel_1742385/4075788720.py:11: SettingWithCopyWarning: \n",
      "A value is trying to be set on a copy of a slice from a DataFrame.\n",
      "Try using .loc[row_indexer,col_indexer] = value instead\n",
      "\n",
      "See the caveats in the documentation: https://pandas.pydata.org/pandas-docs/stable/user_guide/indexing.html#returning-a-view-versus-a-copy\n",
      "  test_df[\"face_shape\"] = test_df[\"face_shape\"].astype(str)\n"
     ]
    }
   ],
   "source": [
    "# Converting csv into dataframe using read_csv(label_path)\n",
    "test_cartoon_df = pd.read_csv('Dataset/dataset_AMLS_22-23_test/cartoon_set_test/labels.csv', sep='\\t', engine='python')\n",
    "test_df = test_cartoon_df[['file_name', 'face_shape']]\n",
    "print(test_df.head())\n",
    "\n",
    "# Convert the face shape column to class 1-5\n",
    "test_df.loc[:,'face_shape'] += 1\n",
    "print(test_df.head())\n",
    "\n",
    "# Convert face shape column type from int64 to str for data generator\n",
    "test_df[\"face_shape\"] = test_df[\"face_shape\"].astype(str)"
   ]
  },
  {
   "cell_type": "code",
   "execution_count": 9,
   "id": "9bd0fb6c",
   "metadata": {},
   "outputs": [
    {
     "name": "stdout",
     "output_type": "stream",
     "text": [
      "Found 2500 validated image filenames belonging to 5 classes.\n"
     ]
    }
   ],
   "source": [
    "# Create a test dataframe by reading in the labels for the test images\n",
    "test_labels_df = pd.read_csv('Dataset/dataset_AMLS_22-23_test/cartoon_set_test/labels.csv')\n",
    "\n",
    "# Create a test data generator\n",
    "test_datagen = ImageDataGenerator(rescale=1./255)\n",
    "\n",
    "# Create the test dataloader\n",
    "test_generator = test_datagen.flow_from_dataframe(dataframe=test_df,\n",
    "                                                    directory='Dataset/dataset_AMLS_22-23_test/cartoon_set_test/img',\n",
    "                                                    x_col='file_name',\n",
    "                                                    y_col='face_shape',\n",
    "                                                    target_size=(224, 224),\n",
    "                                                    #batch_size=32,\n",
    "                                                    class_mode='categorical',\n",
    "                                                    shuffle=False\n",
    "                                                )\n"
   ]
  },
  {
   "cell_type": "code",
   "execution_count": 10,
   "id": "ed922c15",
   "metadata": {},
   "outputs": [],
   "source": [
    "# Import network libraries\n",
    "import keras\n",
    "from keras.models import Model\n",
    "from keras.layers import Dense, Dropout, Flatten\n",
    "from keras.layers import Conv2D, MaxPool2D, Dropout, Dense, Input, concatenate, GlobalAveragePooling2D, AveragePooling2D, Flatten\n",
    "from keras.layers import concatenate\n",
    "from keras import Input "
   ]
  },
  {
   "cell_type": "code",
   "execution_count": 11,
   "id": "e122f047",
   "metadata": {},
   "outputs": [],
   "source": [
    "# Creating Inception Module\n",
    "\n",
    "kernel_init = keras.initializers.glorot_uniform() \n",
    "\n",
    "bias_init = keras.initializers.Constant(value=0.2)\n",
    "\n",
    "def inception_module(x,filters_1x1,filters_3x3_reduce,filters_3x3, filters_5x5_reduce,filters_5x5,filters_pool_proj,name=None):\n",
    "\n",
    "    \n",
    "    conv_1x1 = Conv2D(filters_1x1, (1, 1), padding='same', activation='relu', kernel_initializer=kernel_init, bias_initializer=bias_init)(x)\n",
    "    \n",
    "    conv_3x3 = Conv2D(filters_3x3_reduce, (1, 1), padding='same', activation='relu', kernel_initializer=kernel_init, bias_initializer=bias_init)(x)\n",
    "    conv_3x3 = Conv2D(filters_3x3, (3, 3), padding='same', activation='relu', kernel_initializer=kernel_init, bias_initializer=bias_init)(conv_3x3)\n",
    "    conv_5x5 = Conv2D(filters_5x5_reduce, (1, 1), padding='same', activation='relu', kernel_initializer=kernel_init, bias_initializer=bias_init)(x)\n",
    "    conv_5x5 = Conv2D(filters_5x5, (5, 5), padding='same', activation='relu', kernel_initializer=kernel_init, bias_initializer=bias_init)(conv_5x5)\n",
    "    pool_proj = MaxPool2D((3, 3), strides=(1, 1), padding='same')(x)\n",
    "    pool_proj = Conv2D(filters_pool_proj, (1, 1), padding='same', activation='relu', kernel_initializer=kernel_init, bias_initializer=bias_init)(pool_proj)\n",
    "    output = concatenate([conv_1x1, conv_3x3, conv_5x5, pool_proj], axis=3, name=name)\n",
    "    \n",
    "    return output\n"
   ]
  },
  {
   "cell_type": "code",
   "execution_count": 13,
   "id": "71a0a13b",
   "metadata": {},
   "outputs": [
    {
     "name": "stderr",
     "output_type": "stream",
     "text": [
      "2023-01-16 17:20:59.569540: W tensorflow/compiler/xla/stream_executor/platform/default/dso_loader.cc:64] Could not load dynamic library 'libcudart.so.11.0'; dlerror: libcudart.so.11.0: cannot open shared object file: No such file or directory; LD_LIBRARY_PATH: /lib64:/lib:/usr/local/lib:/usr/local/lib64:/usr/lib64:/usr/lib:/apps/cuda/lib64:/apps/cuda/lib\n",
      "2023-01-16 17:20:59.569774: W tensorflow/compiler/xla/stream_executor/platform/default/dso_loader.cc:64] Could not load dynamic library 'libcublas.so.11'; dlerror: libcublas.so.11: cannot open shared object file: No such file or directory; LD_LIBRARY_PATH: /lib64:/lib:/usr/local/lib:/usr/local/lib64:/usr/lib64:/usr/lib:/apps/cuda/lib64:/apps/cuda/lib\n",
      "2023-01-16 17:20:59.569832: W tensorflow/compiler/xla/stream_executor/platform/default/dso_loader.cc:64] Could not load dynamic library 'libcublasLt.so.11'; dlerror: libcublasLt.so.11: cannot open shared object file: No such file or directory; LD_LIBRARY_PATH: /lib64:/lib:/usr/local/lib:/usr/local/lib64:/usr/lib64:/usr/lib:/apps/cuda/lib64:/apps/cuda/lib\n",
      "2023-01-16 17:20:59.569883: W tensorflow/compiler/xla/stream_executor/platform/default/dso_loader.cc:64] Could not load dynamic library 'libcufft.so.10'; dlerror: libcufft.so.10: cannot open shared object file: No such file or directory; LD_LIBRARY_PATH: /lib64:/lib:/usr/local/lib:/usr/local/lib64:/usr/lib64:/usr/lib:/apps/cuda/lib64:/apps/cuda/lib\n",
      "2023-01-16 17:20:59.569948: W tensorflow/compiler/xla/stream_executor/platform/default/dso_loader.cc:64] Could not load dynamic library 'libcurand.so.10'; dlerror: libcurand.so.10: cannot open shared object file: No such file or directory; LD_LIBRARY_PATH: /lib64:/lib:/usr/local/lib:/usr/local/lib64:/usr/lib64:/usr/lib:/apps/cuda/lib64:/apps/cuda/lib\n",
      "2023-01-16 17:20:59.570002: W tensorflow/compiler/xla/stream_executor/platform/default/dso_loader.cc:64] Could not load dynamic library 'libcusolver.so.11'; dlerror: libcusolver.so.11: cannot open shared object file: No such file or directory; LD_LIBRARY_PATH: /lib64:/lib:/usr/local/lib:/usr/local/lib64:/usr/lib64:/usr/lib:/apps/cuda/lib64:/apps/cuda/lib\n",
      "2023-01-16 17:20:59.570053: W tensorflow/compiler/xla/stream_executor/platform/default/dso_loader.cc:64] Could not load dynamic library 'libcusparse.so.11'; dlerror: libcusparse.so.11: cannot open shared object file: No such file or directory; LD_LIBRARY_PATH: /lib64:/lib:/usr/local/lib:/usr/local/lib64:/usr/lib64:/usr/lib:/apps/cuda/lib64:/apps/cuda/lib\n",
      "2023-01-16 17:20:59.570103: W tensorflow/compiler/xla/stream_executor/platform/default/dso_loader.cc:64] Could not load dynamic library 'libcudnn.so.8'; dlerror: libcudnn.so.8: cannot open shared object file: No such file or directory; LD_LIBRARY_PATH: /lib64:/lib:/usr/local/lib:/usr/local/lib64:/usr/lib64:/usr/lib:/apps/cuda/lib64:/apps/cuda/lib\n",
      "2023-01-16 17:20:59.570115: W tensorflow/core/common_runtime/gpu/gpu_device.cc:1934] Cannot dlopen some GPU libraries. Please make sure the missing libraries mentioned above are installed properly if you would like to use GPU. Follow the guide at https://www.tensorflow.org/install/gpu for how to download and setup the required libraries for your platform.\n",
      "Skipping registering GPU devices...\n",
      "2023-01-16 17:20:59.570350: I tensorflow/core/platform/cpu_feature_guard.cc:193] This TensorFlow binary is optimized with oneAPI Deep Neural Network Library (oneDNN) to use the following CPU instructions in performance-critical operations:  AVX2 AVX512F FMA\n",
      "To enable them in other operations, rebuild TensorFlow with the appropriate compiler flags.\n",
      "/home/zceeysa/Desktop/ENTER/lib/python3.8/site-packages/keras/initializers/initializers_v2.py:120: UserWarning: The initializer GlorotUniform is unseeded and being called multiple times, which will return identical values  each time (even if the initializer is unseeded). Please update your code to provide a seed to the initializer, or avoid using the same initalizer instance more than once.\n",
      "  warnings.warn(\n"
     ]
    },
    {
     "name": "stdout",
     "output_type": "stream",
     "text": [
      "Model: \"inception_v1\"\n",
      "__________________________________________________________________________________________________\n",
      " Layer (type)                   Output Shape         Param #     Connected to                     \n",
      "==================================================================================================\n",
      " input_1 (InputLayer)           [(None, 224, 224, 3  0           []                               \n",
      "                                )]                                                                \n",
      "                                                                                                  \n",
      " conv_1_7x7/2 (Conv2D)          (None, 112, 112, 64  9472        ['input_1[0][0]']                \n",
      "                                )                                                                 \n",
      "                                                                                                  \n",
      " max_pool_1_3x3/2 (MaxPooling2D  (None, 56, 56, 64)  0           ['conv_1_7x7/2[0][0]']           \n",
      " )                                                                                                \n",
      "                                                                                                  \n",
      " conv_2a_3x3/1 (Conv2D)         (None, 56, 56, 64)   4160        ['max_pool_1_3x3/2[0][0]']       \n",
      "                                                                                                  \n",
      " conv_2b_3x3/1 (Conv2D)         (None, 56, 56, 192)  110784      ['conv_2a_3x3/1[0][0]']          \n",
      "                                                                                                  \n",
      " max_pool_2_3x3/2 (MaxPooling2D  (None, 28, 28, 192)  0          ['conv_2b_3x3/1[0][0]']          \n",
      " )                                                                                                \n",
      "                                                                                                  \n",
      " conv2d_1 (Conv2D)              (None, 28, 28, 96)   18528       ['max_pool_2_3x3/2[0][0]']       \n",
      "                                                                                                  \n",
      " conv2d_3 (Conv2D)              (None, 28, 28, 16)   3088        ['max_pool_2_3x3/2[0][0]']       \n",
      "                                                                                                  \n",
      " max_pooling2d (MaxPooling2D)   (None, 28, 28, 192)  0           ['max_pool_2_3x3/2[0][0]']       \n",
      "                                                                                                  \n",
      " conv2d (Conv2D)                (None, 28, 28, 64)   12352       ['max_pool_2_3x3/2[0][0]']       \n",
      "                                                                                                  \n",
      " conv2d_2 (Conv2D)              (None, 28, 28, 128)  110720      ['conv2d_1[0][0]']               \n",
      "                                                                                                  \n",
      " conv2d_4 (Conv2D)              (None, 28, 28, 32)   12832       ['conv2d_3[0][0]']               \n",
      "                                                                                                  \n",
      " conv2d_5 (Conv2D)              (None, 28, 28, 32)   6176        ['max_pooling2d[0][0]']          \n",
      "                                                                                                  \n",
      " inception_3a (Concatenate)     (None, 28, 28, 256)  0           ['conv2d[0][0]',                 \n",
      "                                                                  'conv2d_2[0][0]',               \n",
      "                                                                  'conv2d_4[0][0]',               \n",
      "                                                                  'conv2d_5[0][0]']               \n",
      "                                                                                                  \n",
      " conv2d_7 (Conv2D)              (None, 28, 28, 128)  32896       ['inception_3a[0][0]']           \n",
      "                                                                                                  \n",
      " conv2d_9 (Conv2D)              (None, 28, 28, 32)   8224        ['inception_3a[0][0]']           \n",
      "                                                                                                  \n",
      " max_pooling2d_1 (MaxPooling2D)  (None, 28, 28, 256)  0          ['inception_3a[0][0]']           \n",
      "                                                                                                  \n",
      " conv2d_6 (Conv2D)              (None, 28, 28, 128)  32896       ['inception_3a[0][0]']           \n",
      "                                                                                                  \n",
      " conv2d_8 (Conv2D)              (None, 28, 28, 192)  221376      ['conv2d_7[0][0]']               \n",
      "                                                                                                  \n",
      " conv2d_10 (Conv2D)             (None, 28, 28, 96)   76896       ['conv2d_9[0][0]']               \n",
      "                                                                                                  \n",
      " conv2d_11 (Conv2D)             (None, 28, 28, 64)   16448       ['max_pooling2d_1[0][0]']        \n",
      "                                                                                                  \n",
      " inception_3b (Concatenate)     (None, 28, 28, 480)  0           ['conv2d_6[0][0]',               \n",
      "                                                                  'conv2d_8[0][0]',               \n",
      "                                                                  'conv2d_10[0][0]',              \n",
      "                                                                  'conv2d_11[0][0]']              \n",
      "                                                                                                  \n",
      " max_pool_3_3x3/2 (MaxPooling2D  (None, 14, 14, 480)  0          ['inception_3b[0][0]']           \n",
      " )                                                                                                \n",
      "                                                                                                  \n",
      " conv2d_13 (Conv2D)             (None, 14, 14, 96)   46176       ['max_pool_3_3x3/2[0][0]']       \n",
      "                                                                                                  \n",
      " conv2d_15 (Conv2D)             (None, 14, 14, 16)   7696        ['max_pool_3_3x3/2[0][0]']       \n",
      "                                                                                                  \n",
      " max_pooling2d_2 (MaxPooling2D)  (None, 14, 14, 480)  0          ['max_pool_3_3x3/2[0][0]']       \n",
      "                                                                                                  \n",
      " conv2d_12 (Conv2D)             (None, 14, 14, 192)  92352       ['max_pool_3_3x3/2[0][0]']       \n",
      "                                                                                                  \n",
      " conv2d_14 (Conv2D)             (None, 14, 14, 208)  179920      ['conv2d_13[0][0]']              \n",
      "                                                                                                  \n",
      " conv2d_16 (Conv2D)             (None, 14, 14, 48)   19248       ['conv2d_15[0][0]']              \n",
      "                                                                                                  \n",
      " conv2d_17 (Conv2D)             (None, 14, 14, 64)   30784       ['max_pooling2d_2[0][0]']        \n",
      "                                                                                                  \n",
      " inception_4a (Concatenate)     (None, 14, 14, 512)  0           ['conv2d_12[0][0]',              \n",
      "                                                                  'conv2d_14[0][0]',              \n",
      "                                                                  'conv2d_16[0][0]',              \n",
      "                                                                  'conv2d_17[0][0]']              \n",
      "                                                                                                  \n",
      " conv2d_20 (Conv2D)             (None, 14, 14, 112)  57456       ['inception_4a[0][0]']           \n",
      "                                                                                                  \n",
      " conv2d_22 (Conv2D)             (None, 14, 14, 24)   12312       ['inception_4a[0][0]']           \n",
      "                                                                                                  \n"
     ]
    },
    {
     "name": "stdout",
     "output_type": "stream",
     "text": [
      " max_pooling2d_3 (MaxPooling2D)  (None, 14, 14, 512)  0          ['inception_4a[0][0]']           \n",
      "                                                                                                  \n",
      " conv2d_19 (Conv2D)             (None, 14, 14, 160)  82080       ['inception_4a[0][0]']           \n",
      "                                                                                                  \n",
      " conv2d_21 (Conv2D)             (None, 14, 14, 224)  226016      ['conv2d_20[0][0]']              \n",
      "                                                                                                  \n",
      " conv2d_23 (Conv2D)             (None, 14, 14, 64)   38464       ['conv2d_22[0][0]']              \n",
      "                                                                                                  \n",
      " conv2d_24 (Conv2D)             (None, 14, 14, 64)   32832       ['max_pooling2d_3[0][0]']        \n",
      "                                                                                                  \n",
      " inception_4b (Concatenate)     (None, 14, 14, 512)  0           ['conv2d_19[0][0]',              \n",
      "                                                                  'conv2d_21[0][0]',              \n",
      "                                                                  'conv2d_23[0][0]',              \n",
      "                                                                  'conv2d_24[0][0]']              \n",
      "                                                                                                  \n",
      " conv2d_26 (Conv2D)             (None, 14, 14, 128)  65664       ['inception_4b[0][0]']           \n",
      "                                                                                                  \n",
      " conv2d_28 (Conv2D)             (None, 14, 14, 24)   12312       ['inception_4b[0][0]']           \n",
      "                                                                                                  \n",
      " max_pooling2d_4 (MaxPooling2D)  (None, 14, 14, 512)  0          ['inception_4b[0][0]']           \n",
      "                                                                                                  \n",
      " conv2d_25 (Conv2D)             (None, 14, 14, 128)  65664       ['inception_4b[0][0]']           \n",
      "                                                                                                  \n",
      " conv2d_27 (Conv2D)             (None, 14, 14, 256)  295168      ['conv2d_26[0][0]']              \n",
      "                                                                                                  \n",
      " conv2d_29 (Conv2D)             (None, 14, 14, 64)   38464       ['conv2d_28[0][0]']              \n",
      "                                                                                                  \n",
      " conv2d_30 (Conv2D)             (None, 14, 14, 64)   32832       ['max_pooling2d_4[0][0]']        \n",
      "                                                                                                  \n",
      " inception_4c (Concatenate)     (None, 14, 14, 512)  0           ['conv2d_25[0][0]',              \n",
      "                                                                  'conv2d_27[0][0]',              \n",
      "                                                                  'conv2d_29[0][0]',              \n",
      "                                                                  'conv2d_30[0][0]']              \n",
      "                                                                                                  \n",
      " conv2d_32 (Conv2D)             (None, 14, 14, 144)  73872       ['inception_4c[0][0]']           \n",
      "                                                                                                  \n",
      " conv2d_34 (Conv2D)             (None, 14, 14, 32)   16416       ['inception_4c[0][0]']           \n",
      "                                                                                                  \n",
      " max_pooling2d_5 (MaxPooling2D)  (None, 14, 14, 512)  0          ['inception_4c[0][0]']           \n",
      "                                                                                                  \n",
      " conv2d_31 (Conv2D)             (None, 14, 14, 112)  57456       ['inception_4c[0][0]']           \n",
      "                                                                                                  \n",
      " conv2d_33 (Conv2D)             (None, 14, 14, 288)  373536      ['conv2d_32[0][0]']              \n",
      "                                                                                                  \n",
      " conv2d_35 (Conv2D)             (None, 14, 14, 64)   51264       ['conv2d_34[0][0]']              \n",
      "                                                                                                  \n",
      " conv2d_36 (Conv2D)             (None, 14, 14, 64)   32832       ['max_pooling2d_5[0][0]']        \n",
      "                                                                                                  \n",
      " inception_4d (Concatenate)     (None, 14, 14, 528)  0           ['conv2d_31[0][0]',              \n",
      "                                                                  'conv2d_33[0][0]',              \n",
      "                                                                  'conv2d_35[0][0]',              \n",
      "                                                                  'conv2d_36[0][0]']              \n",
      "                                                                                                  \n",
      " conv2d_39 (Conv2D)             (None, 14, 14, 160)  84640       ['inception_4d[0][0]']           \n",
      "                                                                                                  \n",
      " conv2d_41 (Conv2D)             (None, 14, 14, 32)   16928       ['inception_4d[0][0]']           \n",
      "                                                                                                  \n",
      " max_pooling2d_6 (MaxPooling2D)  (None, 14, 14, 528)  0          ['inception_4d[0][0]']           \n",
      "                                                                                                  \n",
      " conv2d_38 (Conv2D)             (None, 14, 14, 256)  135424      ['inception_4d[0][0]']           \n",
      "                                                                                                  \n",
      " conv2d_40 (Conv2D)             (None, 14, 14, 320)  461120      ['conv2d_39[0][0]']              \n",
      "                                                                                                  \n",
      " conv2d_42 (Conv2D)             (None, 14, 14, 128)  102528      ['conv2d_41[0][0]']              \n",
      "                                                                                                  \n",
      " conv2d_43 (Conv2D)             (None, 14, 14, 128)  67712       ['max_pooling2d_6[0][0]']        \n",
      "                                                                                                  \n",
      " inception_4e (Concatenate)     (None, 14, 14, 832)  0           ['conv2d_38[0][0]',              \n",
      "                                                                  'conv2d_40[0][0]',              \n",
      "                                                                  'conv2d_42[0][0]',              \n",
      "                                                                  'conv2d_43[0][0]']              \n",
      "                                                                                                  \n",
      " max_pool_4_3x3/2 (MaxPooling2D  (None, 7, 7, 832)   0           ['inception_4e[0][0]']           \n",
      " )                                                                                                \n",
      "                                                                                                  \n",
      " conv2d_45 (Conv2D)             (None, 7, 7, 160)    133280      ['max_pool_4_3x3/2[0][0]']       \n",
      "                                                                                                  \n",
      " conv2d_47 (Conv2D)             (None, 7, 7, 32)     26656       ['max_pool_4_3x3/2[0][0]']       \n",
      "                                                                                                  \n",
      " max_pooling2d_7 (MaxPooling2D)  (None, 7, 7, 832)   0           ['max_pool_4_3x3/2[0][0]']       \n",
      "                                                                                                  \n",
      " conv2d_44 (Conv2D)             (None, 7, 7, 256)    213248      ['max_pool_4_3x3/2[0][0]']       \n",
      "                                                                                                  \n"
     ]
    },
    {
     "name": "stdout",
     "output_type": "stream",
     "text": [
      " conv2d_46 (Conv2D)             (None, 7, 7, 320)    461120      ['conv2d_45[0][0]']              \n",
      "                                                                                                  \n",
      " conv2d_48 (Conv2D)             (None, 7, 7, 128)    102528      ['conv2d_47[0][0]']              \n",
      "                                                                                                  \n",
      " conv2d_49 (Conv2D)             (None, 7, 7, 128)    106624      ['max_pooling2d_7[0][0]']        \n",
      "                                                                                                  \n",
      " inception_5a (Concatenate)     (None, 7, 7, 832)    0           ['conv2d_44[0][0]',              \n",
      "                                                                  'conv2d_46[0][0]',              \n",
      "                                                                  'conv2d_48[0][0]',              \n",
      "                                                                  'conv2d_49[0][0]']              \n",
      "                                                                                                  \n",
      " conv2d_51 (Conv2D)             (None, 7, 7, 192)    159936      ['inception_5a[0][0]']           \n",
      "                                                                                                  \n",
      " conv2d_53 (Conv2D)             (None, 7, 7, 48)     39984       ['inception_5a[0][0]']           \n",
      "                                                                                                  \n",
      " max_pooling2d_8 (MaxPooling2D)  (None, 7, 7, 832)   0           ['inception_5a[0][0]']           \n",
      "                                                                                                  \n",
      " average_pooling2d (AveragePool  (None, 4, 4, 512)   0           ['inception_4a[0][0]']           \n",
      " ing2D)                                                                                           \n",
      "                                                                                                  \n",
      " average_pooling2d_1 (AveragePo  (None, 4, 4, 528)   0           ['inception_4d[0][0]']           \n",
      " oling2D)                                                                                         \n",
      "                                                                                                  \n",
      " conv2d_50 (Conv2D)             (None, 7, 7, 384)    319872      ['inception_5a[0][0]']           \n",
      "                                                                                                  \n",
      " conv2d_52 (Conv2D)             (None, 7, 7, 384)    663936      ['conv2d_51[0][0]']              \n",
      "                                                                                                  \n",
      " conv2d_54 (Conv2D)             (None, 7, 7, 128)    153728      ['conv2d_53[0][0]']              \n",
      "                                                                                                  \n",
      " conv2d_55 (Conv2D)             (None, 7, 7, 128)    106624      ['max_pooling2d_8[0][0]']        \n",
      "                                                                                                  \n",
      " conv2d_18 (Conv2D)             (None, 4, 4, 128)    65664       ['average_pooling2d[0][0]']      \n",
      "                                                                                                  \n",
      " conv2d_37 (Conv2D)             (None, 4, 4, 128)    67712       ['average_pooling2d_1[0][0]']    \n",
      "                                                                                                  \n",
      " inception_5b (Concatenate)     (None, 7, 7, 1024)   0           ['conv2d_50[0][0]',              \n",
      "                                                                  'conv2d_52[0][0]',              \n",
      "                                                                  'conv2d_54[0][0]',              \n",
      "                                                                  'conv2d_55[0][0]']              \n",
      "                                                                                                  \n",
      " flatten (Flatten)              (None, 2048)         0           ['conv2d_18[0][0]']              \n",
      "                                                                                                  \n",
      " flatten_1 (Flatten)            (None, 2048)         0           ['conv2d_37[0][0]']              \n",
      "                                                                                                  \n",
      " avg_pool_5_3x3/1 (GlobalAverag  (None, 1024)        0           ['inception_5b[0][0]']           \n",
      " ePooling2D)                                                                                      \n",
      "                                                                                                  \n",
      " dense (Dense)                  (None, 1024)         2098176     ['flatten[0][0]']                \n",
      "                                                                                                  \n",
      " dense_1 (Dense)                (None, 1024)         2098176     ['flatten_1[0][0]']              \n",
      "                                                                                                  \n",
      " dropout_2 (Dropout)            (None, 1024)         0           ['avg_pool_5_3x3/1[0][0]']       \n",
      "                                                                                                  \n",
      " dropout (Dropout)              (None, 1024)         0           ['dense[0][0]']                  \n",
      "                                                                                                  \n",
      " dropout_1 (Dropout)            (None, 1024)         0           ['dense_1[0][0]']                \n",
      "                                                                                                  \n",
      " output (Dense)                 (None, 10)           10250       ['dropout_2[0][0]']              \n",
      "                                                                                                  \n",
      " auxilliary_output_1 (Dense)    (None, 10)           10250       ['dropout[0][0]']                \n",
      "                                                                                                  \n",
      " auxilliary_output_2 (Dense)    (None, 10)           10250       ['dropout_1[0][0]']              \n",
      "                                                                                                  \n",
      "==================================================================================================\n",
      "Total params: 10,334,030\n",
      "Trainable params: 10,334,030\n",
      "Non-trainable params: 0\n",
      "__________________________________________________________________________________________________\n"
     ]
    }
   ],
   "source": [
    "input_layer = Input(shape=(224, 224, 3))\n",
    "x = Conv2D(64, (7, 7), padding='same', strides=(2, 2), activation='relu', name='conv_1_7x7/2', kernel_initializer=kernel_init, bias_initializer=bias_init)(input_layer)\n",
    "x = MaxPool2D((3, 3), padding='same', strides=(2, 2), name='max_pool_1_3x3/2')(x)\n",
    "x = Conv2D(64, (1, 1), padding='same', strides=(1, 1), activation='relu', name='conv_2a_3x3/1')(x)\n",
    "x = Conv2D(192, (3, 3), padding='same', strides=(1, 1), activation='relu', name='conv_2b_3x3/1')(x)\n",
    "x = MaxPool2D((3, 3), padding='same', strides=(2, 2), name='max_pool_2_3x3/2')(x)\n",
    "\n",
    "x = inception_module(x,filters_1x1=64,filters_3x3_reduce=96,\n",
    "                    filters_3x3=128,filters_5x5_reduce=16,\n",
    "                    filters_5x5=32,filters_pool_proj=32,\n",
    "                    name='inception_3a')\n",
    "\n",
    "x = inception_module(x,filters_1x1=128,filters_3x3_reduce=128,\n",
    "                    filters_3x3=192,filters_5x5_reduce=32,\n",
    "                    filters_5x5=96,filters_pool_proj=64,\n",
    "                    name='inception_3b')\n",
    "\n",
    "x = MaxPool2D((3, 3), padding='same', strides=(2, 2), name='max_pool_3_3x3/2')(x)\n",
    "\n",
    "x = inception_module(x,filters_1x1=192,filters_3x3_reduce=96,\n",
    "                    filters_3x3=208,filters_5x5_reduce=16,filters_5x5=48,filters_pool_proj=64,\n",
    "                    name='inception_4a')\n",
    "\n",
    "x1 = AveragePooling2D((5, 5), strides=3)(x)\n",
    "x1 = Conv2D(128, (1, 1), padding='same', activation='relu')(x1)\n",
    "x1 = Flatten()(x1)\n",
    "x1 = Dense(1024, activation='relu')(x1)\n",
    "x1 = Dropout(0.7)(x1)\n",
    "x1 = Dense(5, activation='softmax', name='auxilliary_output_1')(x1)\n",
    "\n",
    "x = inception_module(x,filters_1x1=160,filters_3x3_reduce=112,\n",
    "                    filters_3x3=224,filters_5x5_reduce=24,filters_5x5=64,filters_pool_proj=64,name='inception_4b')\n",
    "\n",
    "x = inception_module(x,filters_1x1=128,filters_3x3_reduce=128,\n",
    "                    filters_3x3=256,filters_5x5_reduce=24,filters_5x5=64,\n",
    "                    filters_pool_proj=64,name='inception_4c')\n",
    "\n",
    "x = inception_module(x,filters_1x1=112,filters_3x3_reduce=144,\n",
    "                    filters_3x3=288,filters_5x5_reduce=32,filters_5x5=64,\n",
    "                    filters_pool_proj=64,\n",
    "                    name='inception_4d')\n",
    "\n",
    "x2 = AveragePooling2D((5, 5), strides=3)(x)\n",
    "x2 = Conv2D(128, (1, 1), padding='same', activation='relu')(x2)\n",
    "x2 = Flatten()(x2)\n",
    "x2 = Dense(1024, activation='relu')(x2)\n",
    "x2 = Dropout(0.7)(x2)\n",
    "x2 = Dense(5, activation='softmax', name='auxilliary_output_2')(x2)\n",
    "\n",
    "x = inception_module(x,filters_1x1=256,filters_3x3_reduce=160,\n",
    "                    filters_3x3=320,filters_5x5_reduce=32,filters_5x5=128,\n",
    "                    filters_pool_proj=128,\n",
    "                    name='inception_4e')\n",
    "\n",
    "x = MaxPool2D((3, 3), padding='same', strides=(2, 2), name='max_pool_4_3x3/2')(x)\n",
    "\n",
    "x = inception_module(x,filters_1x1=256,filters_3x3_reduce=160,\n",
    "                    filters_3x3=320,filters_5x5_reduce=32,filters_5x5=128,\n",
    "                    filters_pool_proj=128,\n",
    "                    name='inception_5a')\n",
    "\n",
    "\n",
    "x = inception_module(x, filters_1x1=384,filters_3x3_reduce=192,\n",
    "                    filters_3x3=384,filters_5x5_reduce=48,filters_5x5=128,\n",
    "                    filters_pool_proj=128,\n",
    "                    name='inception_5b')\n",
    "\n",
    "x = GlobalAveragePooling2D(name='avg_pool_5_3x3/1')(x)\n",
    "\n",
    "x = Dropout(0.4)(x)\n",
    "\n",
    "x = Dense(5, activation='softmax', name='output')(x)\n",
    "\n",
    "model = Model(input_layer, [x, x1, x2], name='inception_v1')\n",
    "\n",
    "model. summary()"
   ]
  },
  {
   "cell_type": "code",
   "execution_count": 14,
   "id": "1cd0d089",
   "metadata": {},
   "outputs": [],
   "source": [
    "import math\n",
    "from keras.callbacks import LearningRateScheduler\n",
    "from keras.optimizers import SGD"
   ]
  },
  {
   "cell_type": "code",
   "execution_count": 19,
   "id": "bfe3a61b",
   "metadata": {},
   "outputs": [],
   "source": [
    "epochs = 15\n",
    "initial_lrate = 0.01\n",
    "\n",
    "def decay(epoch, steps=100):\n",
    "    initial_lrate = 0.01\n",
    "    drop = 0.96\n",
    "    epochs_drop = 8\n",
    "    lrate = initial_lrate * math.pow(drop, math.floor((1+epoch)/epochs_drop))\n",
    "    return lrate\n",
    "\n",
    "sgd = SGD(lr=initial_lrate, momentum=0.9, nesterov=False)\n",
    "lr_sc = LearningRateScheduler(decay, verbose=1)\n",
    "\n",
    "model.compile(loss='categorical_crossentropy', optimizer='adam', metrics=['accuracy'])\n",
    "\n"
   ]
  },
  {
   "cell_type": "code",
   "execution_count": 20,
   "id": "866d3ea3",
   "metadata": {
    "scrolled": true
   },
   "outputs": [
    {
     "name": "stdout",
     "output_type": "stream",
     "text": [
      "\n",
      "Epoch 1: LearningRateScheduler setting learning rate to 0.01.\n",
      "Epoch 1/15\n"
     ]
    },
    {
     "ename": "InvalidArgumentError",
     "evalue": "Graph execution error:\n\nDetected at node 'categorical_crossentropy_1/softmax_cross_entropy_with_logits' defined at (most recent call last):\n    File \"/home/zceeysa/Desktop/ENTER/lib/python3.8/runpy.py\", line 194, in _run_module_as_main\n      return _run_code(code, main_globals, None,\n    File \"/home/zceeysa/Desktop/ENTER/lib/python3.8/runpy.py\", line 87, in _run_code\n      exec(code, run_globals)\n    File \"/home/zceeysa/Desktop/ENTER/lib/python3.8/site-packages/ipykernel_launcher.py\", line 17, in <module>\n      app.launch_new_instance()\n    File \"/home/zceeysa/Desktop/ENTER/lib/python3.8/site-packages/traitlets/config/application.py\", line 982, in launch_instance\n      app.start()\n    File \"/home/zceeysa/Desktop/ENTER/lib/python3.8/site-packages/ipykernel/kernelapp.py\", line 712, in start\n      self.io_loop.start()\n    File \"/home/zceeysa/Desktop/ENTER/lib/python3.8/site-packages/tornado/platform/asyncio.py\", line 215, in start\n      self.asyncio_loop.run_forever()\n    File \"/home/zceeysa/Desktop/ENTER/lib/python3.8/asyncio/base_events.py\", line 570, in run_forever\n      self._run_once()\n    File \"/home/zceeysa/Desktop/ENTER/lib/python3.8/asyncio/base_events.py\", line 1859, in _run_once\n      handle._run()\n    File \"/home/zceeysa/Desktop/ENTER/lib/python3.8/asyncio/events.py\", line 81, in _run\n      self._context.run(self._callback, *self._args)\n    File \"/home/zceeysa/Desktop/ENTER/lib/python3.8/site-packages/ipykernel/kernelbase.py\", line 510, in dispatch_queue\n      await self.process_one()\n    File \"/home/zceeysa/Desktop/ENTER/lib/python3.8/site-packages/ipykernel/kernelbase.py\", line 499, in process_one\n      await dispatch(*args)\n    File \"/home/zceeysa/Desktop/ENTER/lib/python3.8/site-packages/ipykernel/kernelbase.py\", line 406, in dispatch_shell\n      await result\n    File \"/home/zceeysa/Desktop/ENTER/lib/python3.8/site-packages/ipykernel/kernelbase.py\", line 730, in execute_request\n      reply_content = await reply_content\n    File \"/home/zceeysa/Desktop/ENTER/lib/python3.8/site-packages/ipykernel/ipkernel.py\", line 383, in do_execute\n      res = shell.run_cell(\n    File \"/home/zceeysa/Desktop/ENTER/lib/python3.8/site-packages/ipykernel/zmqshell.py\", line 528, in run_cell\n      return super().run_cell(*args, **kwargs)\n    File \"/home/zceeysa/Desktop/ENTER/lib/python3.8/site-packages/IPython/core/interactiveshell.py\", line 2940, in run_cell\n      result = self._run_cell(\n    File \"/home/zceeysa/Desktop/ENTER/lib/python3.8/site-packages/IPython/core/interactiveshell.py\", line 2995, in _run_cell\n      return runner(coro)\n    File \"/home/zceeysa/Desktop/ENTER/lib/python3.8/site-packages/IPython/core/async_helpers.py\", line 129, in _pseudo_sync_runner\n      coro.send(None)\n    File \"/home/zceeysa/Desktop/ENTER/lib/python3.8/site-packages/IPython/core/interactiveshell.py\", line 3194, in run_cell_async\n      has_raised = await self.run_ast_nodes(code_ast.body, cell_name,\n    File \"/home/zceeysa/Desktop/ENTER/lib/python3.8/site-packages/IPython/core/interactiveshell.py\", line 3373, in run_ast_nodes\n      if await self.run_code(code, result, async_=asy):\n    File \"/home/zceeysa/Desktop/ENTER/lib/python3.8/site-packages/IPython/core/interactiveshell.py\", line 3433, in run_code\n      exec(code_obj, self.user_global_ns, self.user_ns)\n    File \"/tmp/ipykernel_1742385/180859962.py\", line 1, in <module>\n      H = model.fit(train_data_gen, validation_data=val_data_gen, epochs=epochs, callbacks=[lr_sc])\n    File \"/home/zceeysa/Desktop/ENTER/lib/python3.8/site-packages/keras/utils/traceback_utils.py\", line 65, in error_handler\n      return fn(*args, **kwargs)\n    File \"/home/zceeysa/Desktop/ENTER/lib/python3.8/site-packages/keras/engine/training.py\", line 1650, in fit\n      tmp_logs = self.train_function(iterator)\n    File \"/home/zceeysa/Desktop/ENTER/lib/python3.8/site-packages/keras/engine/training.py\", line 1249, in train_function\n      return step_function(self, iterator)\n    File \"/home/zceeysa/Desktop/ENTER/lib/python3.8/site-packages/keras/engine/training.py\", line 1233, in step_function\n      outputs = model.distribute_strategy.run(run_step, args=(data,))\n    File \"/home/zceeysa/Desktop/ENTER/lib/python3.8/site-packages/keras/engine/training.py\", line 1222, in run_step\n      outputs = model.train_step(data)\n    File \"/home/zceeysa/Desktop/ENTER/lib/python3.8/site-packages/keras/engine/training.py\", line 1024, in train_step\n      loss = self.compute_loss(x, y, y_pred, sample_weight)\n    File \"/home/zceeysa/Desktop/ENTER/lib/python3.8/site-packages/keras/engine/training.py\", line 1082, in compute_loss\n      return self.compiled_loss(\n    File \"/home/zceeysa/Desktop/ENTER/lib/python3.8/site-packages/keras/engine/compile_utils.py\", line 265, in __call__\n      loss_value = loss_obj(y_t, y_p, sample_weight=sw)\n    File \"/home/zceeysa/Desktop/ENTER/lib/python3.8/site-packages/keras/losses.py\", line 152, in __call__\n      losses = call_fn(y_true, y_pred)\n    File \"/home/zceeysa/Desktop/ENTER/lib/python3.8/site-packages/keras/losses.py\", line 284, in call\n      return ag_fn(y_true, y_pred, **self._fn_kwargs)\n    File \"/home/zceeysa/Desktop/ENTER/lib/python3.8/site-packages/keras/losses.py\", line 2004, in categorical_crossentropy\n      return backend.categorical_crossentropy(\n    File \"/home/zceeysa/Desktop/ENTER/lib/python3.8/site-packages/keras/backend.py\", line 5538, in categorical_crossentropy\n      return tf.nn.softmax_cross_entropy_with_logits(\nNode: 'categorical_crossentropy_1/softmax_cross_entropy_with_logits'\nlogits and labels must be broadcastable: logits_size=[32,10] labels_size=[32,5]\n\t [[{{node categorical_crossentropy_1/softmax_cross_entropy_with_logits}}]] [Op:__inference_train_function_17122]",
     "output_type": "error",
     "traceback": [
      "\u001b[0;31m---------------------------------------------------------------------------\u001b[0m",
      "\u001b[0;31mInvalidArgumentError\u001b[0m                      Traceback (most recent call last)",
      "Cell \u001b[0;32mIn [20], line 1\u001b[0m\n\u001b[0;32m----> 1\u001b[0m H \u001b[38;5;241m=\u001b[39m \u001b[43mmodel\u001b[49m\u001b[38;5;241;43m.\u001b[39;49m\u001b[43mfit\u001b[49m\u001b[43m(\u001b[49m\u001b[43mtrain_data_gen\u001b[49m\u001b[43m,\u001b[49m\u001b[43m \u001b[49m\u001b[43mvalidation_data\u001b[49m\u001b[38;5;241;43m=\u001b[39;49m\u001b[43mval_data_gen\u001b[49m\u001b[43m,\u001b[49m\u001b[43m \u001b[49m\u001b[43mepochs\u001b[49m\u001b[38;5;241;43m=\u001b[39;49m\u001b[43mepochs\u001b[49m\u001b[43m,\u001b[49m\u001b[43m \u001b[49m\u001b[43mcallbacks\u001b[49m\u001b[38;5;241;43m=\u001b[39;49m\u001b[43m[\u001b[49m\u001b[43mlr_sc\u001b[49m\u001b[43m]\u001b[49m\u001b[43m)\u001b[49m\n",
      "File \u001b[0;32m~/Desktop/ENTER/lib/python3.8/site-packages/keras/utils/traceback_utils.py:70\u001b[0m, in \u001b[0;36mfilter_traceback.<locals>.error_handler\u001b[0;34m(*args, **kwargs)\u001b[0m\n\u001b[1;32m     67\u001b[0m     filtered_tb \u001b[38;5;241m=\u001b[39m _process_traceback_frames(e\u001b[38;5;241m.\u001b[39m__traceback__)\n\u001b[1;32m     68\u001b[0m     \u001b[38;5;66;03m# To get the full stack trace, call:\u001b[39;00m\n\u001b[1;32m     69\u001b[0m     \u001b[38;5;66;03m# `tf.debugging.disable_traceback_filtering()`\u001b[39;00m\n\u001b[0;32m---> 70\u001b[0m     \u001b[38;5;28;01mraise\u001b[39;00m e\u001b[38;5;241m.\u001b[39mwith_traceback(filtered_tb) \u001b[38;5;28;01mfrom\u001b[39;00m \u001b[38;5;28mNone\u001b[39m\n\u001b[1;32m     71\u001b[0m \u001b[38;5;28;01mfinally\u001b[39;00m:\n\u001b[1;32m     72\u001b[0m     \u001b[38;5;28;01mdel\u001b[39;00m filtered_tb\n",
      "File \u001b[0;32m~/Desktop/ENTER/lib/python3.8/site-packages/tensorflow/python/eager/execute.py:52\u001b[0m, in \u001b[0;36mquick_execute\u001b[0;34m(op_name, num_outputs, inputs, attrs, ctx, name)\u001b[0m\n\u001b[1;32m     50\u001b[0m \u001b[38;5;28;01mtry\u001b[39;00m:\n\u001b[1;32m     51\u001b[0m   ctx\u001b[38;5;241m.\u001b[39mensure_initialized()\n\u001b[0;32m---> 52\u001b[0m   tensors \u001b[38;5;241m=\u001b[39m pywrap_tfe\u001b[38;5;241m.\u001b[39mTFE_Py_Execute(ctx\u001b[38;5;241m.\u001b[39m_handle, device_name, op_name,\n\u001b[1;32m     53\u001b[0m                                       inputs, attrs, num_outputs)\n\u001b[1;32m     54\u001b[0m \u001b[38;5;28;01mexcept\u001b[39;00m core\u001b[38;5;241m.\u001b[39m_NotOkStatusException \u001b[38;5;28;01mas\u001b[39;00m e:\n\u001b[1;32m     55\u001b[0m   \u001b[38;5;28;01mif\u001b[39;00m name \u001b[38;5;129;01mis\u001b[39;00m \u001b[38;5;129;01mnot\u001b[39;00m \u001b[38;5;28;01mNone\u001b[39;00m:\n",
      "\u001b[0;31mInvalidArgumentError\u001b[0m: Graph execution error:\n\nDetected at node 'categorical_crossentropy_1/softmax_cross_entropy_with_logits' defined at (most recent call last):\n    File \"/home/zceeysa/Desktop/ENTER/lib/python3.8/runpy.py\", line 194, in _run_module_as_main\n      return _run_code(code, main_globals, None,\n    File \"/home/zceeysa/Desktop/ENTER/lib/python3.8/runpy.py\", line 87, in _run_code\n      exec(code, run_globals)\n    File \"/home/zceeysa/Desktop/ENTER/lib/python3.8/site-packages/ipykernel_launcher.py\", line 17, in <module>\n      app.launch_new_instance()\n    File \"/home/zceeysa/Desktop/ENTER/lib/python3.8/site-packages/traitlets/config/application.py\", line 982, in launch_instance\n      app.start()\n    File \"/home/zceeysa/Desktop/ENTER/lib/python3.8/site-packages/ipykernel/kernelapp.py\", line 712, in start\n      self.io_loop.start()\n    File \"/home/zceeysa/Desktop/ENTER/lib/python3.8/site-packages/tornado/platform/asyncio.py\", line 215, in start\n      self.asyncio_loop.run_forever()\n    File \"/home/zceeysa/Desktop/ENTER/lib/python3.8/asyncio/base_events.py\", line 570, in run_forever\n      self._run_once()\n    File \"/home/zceeysa/Desktop/ENTER/lib/python3.8/asyncio/base_events.py\", line 1859, in _run_once\n      handle._run()\n    File \"/home/zceeysa/Desktop/ENTER/lib/python3.8/asyncio/events.py\", line 81, in _run\n      self._context.run(self._callback, *self._args)\n    File \"/home/zceeysa/Desktop/ENTER/lib/python3.8/site-packages/ipykernel/kernelbase.py\", line 510, in dispatch_queue\n      await self.process_one()\n    File \"/home/zceeysa/Desktop/ENTER/lib/python3.8/site-packages/ipykernel/kernelbase.py\", line 499, in process_one\n      await dispatch(*args)\n    File \"/home/zceeysa/Desktop/ENTER/lib/python3.8/site-packages/ipykernel/kernelbase.py\", line 406, in dispatch_shell\n      await result\n    File \"/home/zceeysa/Desktop/ENTER/lib/python3.8/site-packages/ipykernel/kernelbase.py\", line 730, in execute_request\n      reply_content = await reply_content\n    File \"/home/zceeysa/Desktop/ENTER/lib/python3.8/site-packages/ipykernel/ipkernel.py\", line 383, in do_execute\n      res = shell.run_cell(\n    File \"/home/zceeysa/Desktop/ENTER/lib/python3.8/site-packages/ipykernel/zmqshell.py\", line 528, in run_cell\n      return super().run_cell(*args, **kwargs)\n    File \"/home/zceeysa/Desktop/ENTER/lib/python3.8/site-packages/IPython/core/interactiveshell.py\", line 2940, in run_cell\n      result = self._run_cell(\n    File \"/home/zceeysa/Desktop/ENTER/lib/python3.8/site-packages/IPython/core/interactiveshell.py\", line 2995, in _run_cell\n      return runner(coro)\n    File \"/home/zceeysa/Desktop/ENTER/lib/python3.8/site-packages/IPython/core/async_helpers.py\", line 129, in _pseudo_sync_runner\n      coro.send(None)\n    File \"/home/zceeysa/Desktop/ENTER/lib/python3.8/site-packages/IPython/core/interactiveshell.py\", line 3194, in run_cell_async\n      has_raised = await self.run_ast_nodes(code_ast.body, cell_name,\n    File \"/home/zceeysa/Desktop/ENTER/lib/python3.8/site-packages/IPython/core/interactiveshell.py\", line 3373, in run_ast_nodes\n      if await self.run_code(code, result, async_=asy):\n    File \"/home/zceeysa/Desktop/ENTER/lib/python3.8/site-packages/IPython/core/interactiveshell.py\", line 3433, in run_code\n      exec(code_obj, self.user_global_ns, self.user_ns)\n    File \"/tmp/ipykernel_1742385/180859962.py\", line 1, in <module>\n      H = model.fit(train_data_gen, validation_data=val_data_gen, epochs=epochs, callbacks=[lr_sc])\n    File \"/home/zceeysa/Desktop/ENTER/lib/python3.8/site-packages/keras/utils/traceback_utils.py\", line 65, in error_handler\n      return fn(*args, **kwargs)\n    File \"/home/zceeysa/Desktop/ENTER/lib/python3.8/site-packages/keras/engine/training.py\", line 1650, in fit\n      tmp_logs = self.train_function(iterator)\n    File \"/home/zceeysa/Desktop/ENTER/lib/python3.8/site-packages/keras/engine/training.py\", line 1249, in train_function\n      return step_function(self, iterator)\n    File \"/home/zceeysa/Desktop/ENTER/lib/python3.8/site-packages/keras/engine/training.py\", line 1233, in step_function\n      outputs = model.distribute_strategy.run(run_step, args=(data,))\n    File \"/home/zceeysa/Desktop/ENTER/lib/python3.8/site-packages/keras/engine/training.py\", line 1222, in run_step\n      outputs = model.train_step(data)\n    File \"/home/zceeysa/Desktop/ENTER/lib/python3.8/site-packages/keras/engine/training.py\", line 1024, in train_step\n      loss = self.compute_loss(x, y, y_pred, sample_weight)\n    File \"/home/zceeysa/Desktop/ENTER/lib/python3.8/site-packages/keras/engine/training.py\", line 1082, in compute_loss\n      return self.compiled_loss(\n    File \"/home/zceeysa/Desktop/ENTER/lib/python3.8/site-packages/keras/engine/compile_utils.py\", line 265, in __call__\n      loss_value = loss_obj(y_t, y_p, sample_weight=sw)\n    File \"/home/zceeysa/Desktop/ENTER/lib/python3.8/site-packages/keras/losses.py\", line 152, in __call__\n      losses = call_fn(y_true, y_pred)\n    File \"/home/zceeysa/Desktop/ENTER/lib/python3.8/site-packages/keras/losses.py\", line 284, in call\n      return ag_fn(y_true, y_pred, **self._fn_kwargs)\n    File \"/home/zceeysa/Desktop/ENTER/lib/python3.8/site-packages/keras/losses.py\", line 2004, in categorical_crossentropy\n      return backend.categorical_crossentropy(\n    File \"/home/zceeysa/Desktop/ENTER/lib/python3.8/site-packages/keras/backend.py\", line 5538, in categorical_crossentropy\n      return tf.nn.softmax_cross_entropy_with_logits(\nNode: 'categorical_crossentropy_1/softmax_cross_entropy_with_logits'\nlogits and labels must be broadcastable: logits_size=[32,10] labels_size=[32,5]\n\t [[{{node categorical_crossentropy_1/softmax_cross_entropy_with_logits}}]] [Op:__inference_train_function_17122]"
     ]
    }
   ],
   "source": [
    "H = model.fit(train_data_gen, validation_data=val_data_gen, epochs=epochs, callbacks=[lr_sc])"
   ]
  },
  {
   "cell_type": "code",
   "execution_count": 21,
   "id": "157b7e50",
   "metadata": {},
   "outputs": [
    {
     "name": "stdout",
     "output_type": "stream",
     "text": [
      "(32, 224, 224, 3)\n",
      "(32, 5)\n"
     ]
    }
   ],
   "source": [
    "for data in train_data_gen:\n",
    "    print(data[0].shape)\n",
    "    print(data[1].shape)\n",
    "    break\n"
   ]
  },
  {
   "cell_type": "code",
   "execution_count": null,
   "id": "564cf665",
   "metadata": {},
   "outputs": [],
   "source": []
  }
 ],
 "metadata": {
  "kernelspec": {
   "display_name": "Python 3 (ipykernel)",
   "language": "python",
   "name": "python3"
  },
  "language_info": {
   "codemirror_mode": {
    "name": "ipython",
    "version": 3
   },
   "file_extension": ".py",
   "mimetype": "text/x-python",
   "name": "python",
   "nbconvert_exporter": "python",
   "pygments_lexer": "ipython3",
   "version": "3.8.5"
  }
 },
 "nbformat": 4,
 "nbformat_minor": 5
}
