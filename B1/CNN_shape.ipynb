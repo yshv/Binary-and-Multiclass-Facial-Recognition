{
 "cells": [
  {
   "cell_type": "code",
   "execution_count": 1,
   "metadata": {},
   "outputs": [
    {
     "name": "stdout",
     "output_type": "stream",
     "text": [
      "/home/zceeysa/Documents/ELEC0134/ELEC0134/B1\n"
     ]
    }
   ],
   "source": [
    "# Import libraries\n",
    "import numpy as np\n",
    "import pandas as pd\n",
    "import os\n",
    "print(os.getcwd())\n"
   ]
  },
  {
   "cell_type": "code",
   "execution_count": 2,
   "metadata": {},
   "outputs": [],
   "source": [
    "# Only run this once\n",
    "os.chdir('..')"
   ]
  },
  {
   "cell_type": "code",
   "execution_count": 3,
   "metadata": {},
   "outputs": [],
   "source": [
    "base_dir = '/home/zceeysa/Documents/ELEC0134/ELEC0134'\n",
    "\n",
    "os.chdir(base_dir)"
   ]
  },
  {
   "cell_type": "code",
   "execution_count": 4,
   "metadata": {},
   "outputs": [
    {
     "name": "stdout",
     "output_type": "stream",
     "text": [
      "/home/zceeysa/Documents/ELEC0134/ELEC0134\n"
     ]
    }
   ],
   "source": [
    "print(os.getcwd())"
   ]
  },
  {
   "cell_type": "code",
   "execution_count": 5,
   "metadata": {},
   "outputs": [
    {
     "name": "stdout",
     "output_type": "stream",
     "text": [
      "  file_name  face_shape\n",
      "0     0.png           4\n",
      "1     1.png           4\n",
      "2     2.png           3\n",
      "3     3.png           0\n",
      "4     4.png           2\n",
      "  file_name  face_shape\n",
      "0     0.png           5\n",
      "1     1.png           5\n",
      "2     2.png           4\n",
      "3     3.png           1\n",
      "4     4.png           3\n"
     ]
    },
    {
     "name": "stderr",
     "output_type": "stream",
     "text": [
      "/home/zceeysa/Desktop/ENTER/lib/python3.8/site-packages/pandas/core/indexing.py:1676: SettingWithCopyWarning: \n",
      "A value is trying to be set on a copy of a slice from a DataFrame.\n",
      "Try using .loc[row_indexer,col_indexer] = value instead\n",
      "\n",
      "See the caveats in the documentation: https://pandas.pydata.org/pandas-docs/stable/user_guide/indexing.html#returning-a-view-versus-a-copy\n",
      "  self._setitem_single_column(ilocs[0], value, pi)\n",
      "/tmp/ipykernel_2395157/621661157.py:11: SettingWithCopyWarning: \n",
      "A value is trying to be set on a copy of a slice from a DataFrame.\n",
      "Try using .loc[row_indexer,col_indexer] = value instead\n",
      "\n",
      "See the caveats in the documentation: https://pandas.pydata.org/pandas-docs/stable/user_guide/indexing.html#returning-a-view-versus-a-copy\n",
      "  train_df[\"face_shape\"] = train_df[\"face_shape\"].astype(str)\n"
     ]
    }
   ],
   "source": [
    "\n",
    "# Converting csv into dataframe using read_csv(label_path)\n",
    "train_cartoon_df = pd.read_csv('Dataset/dataset_AMLS_22-23/cartoon_set/labels.csv', sep='\\t', engine='python')\n",
    "train_df = train_cartoon_df[['file_name', 'face_shape']]\n",
    "print(train_df.head())\n",
    "\n",
    "# Convert the face shape column to class 1-5\n",
    "train_df.loc[:,'face_shape'] += 1\n",
    "print(train_df.head())\n",
    "\n",
    "# Convert face shape column type from int64 to str for data generator\n",
    "train_df[\"face_shape\"] = train_df[\"face_shape\"].astype(str)"
   ]
  },
  {
   "cell_type": "code",
   "execution_count": 6,
   "metadata": {},
   "outputs": [],
   "source": [
    "from sklearn.utils import shuffle\n",
    "from sklearn.model_selection import train_test_split"
   ]
  },
  {
   "cell_type": "code",
   "execution_count": 7,
   "metadata": {},
   "outputs": [
    {
     "name": "stdout",
     "output_type": "stream",
     "text": [
      "/home/zceeysa/Documents/ELEC0134/ELEC0134\n"
     ]
    }
   ],
   "source": [
    "print(os.getcwd())"
   ]
  },
  {
   "cell_type": "code",
   "execution_count": 8,
   "metadata": {},
   "outputs": [
    {
     "name": "stderr",
     "output_type": "stream",
     "text": [
      "2023-01-19 17:34:32.487279: I tensorflow/core/platform/cpu_feature_guard.cc:193] This TensorFlow binary is optimized with oneAPI Deep Neural Network Library (oneDNN) to use the following CPU instructions in performance-critical operations:  AVX2 AVX512F FMA\n",
      "To enable them in other operations, rebuild TensorFlow with the appropriate compiler flags.\n",
      "2023-01-19 17:34:32.834645: W tensorflow/compiler/xla/stream_executor/platform/default/dso_loader.cc:64] Could not load dynamic library 'libcudart.so.11.0'; dlerror: libcudart.so.11.0: cannot open shared object file: No such file or directory; LD_LIBRARY_PATH: /lib64:/lib:/usr/local/lib:/usr/local/lib64:/usr/lib64:/usr/lib:/apps/cuda/lib64:/apps/cuda/lib\n",
      "2023-01-19 17:34:32.834679: I tensorflow/compiler/xla/stream_executor/cuda/cudart_stub.cc:29] Ignore above cudart dlerror if you do not have a GPU set up on your machine.\n",
      "2023-01-19 17:34:35.455560: W tensorflow/compiler/xla/stream_executor/platform/default/dso_loader.cc:64] Could not load dynamic library 'libnvinfer.so.7'; dlerror: libnvinfer.so.7: cannot open shared object file: No such file or directory; LD_LIBRARY_PATH: /lib64:/lib:/usr/local/lib:/usr/local/lib64:/usr/lib64:/usr/lib:/apps/cuda/lib64:/apps/cuda/lib\n",
      "2023-01-19 17:34:35.455668: W tensorflow/compiler/xla/stream_executor/platform/default/dso_loader.cc:64] Could not load dynamic library 'libnvinfer_plugin.so.7'; dlerror: libnvinfer_plugin.so.7: cannot open shared object file: No such file or directory; LD_LIBRARY_PATH: /lib64:/lib:/usr/local/lib:/usr/local/lib64:/usr/lib64:/usr/lib:/apps/cuda/lib64:/apps/cuda/lib\n",
      "2023-01-19 17:34:35.455676: W tensorflow/compiler/tf2tensorrt/utils/py_utils.cc:38] TF-TRT Warning: Cannot dlopen some TensorRT libraries. If you would like to use Nvidia GPU with TensorRT, please make sure the missing libraries mentioned above are installed properly.\n"
     ]
    },
    {
     "name": "stdout",
     "output_type": "stream",
     "text": [
      "Found 8000 validated image filenames belonging to 5 classes.\n",
      "Found 2000 validated image filenames belonging to 5 classes.\n"
     ]
    }
   ],
   "source": [
    "from keras.preprocessing.image import ImageDataGenerator\n",
    "import pandas as pd\n",
    "\n",
    "# Read in the excel sheet with the labels\n",
    "train_labels_df = pd.read_csv('Dataset/dataset_AMLS_22-23/cartoon_set/labels.csv')\n",
    "\n",
    "# Define the data generators\n",
    "train_datagen = ImageDataGenerator(rescale=1./255)\n",
    "val_datagen = ImageDataGenerator(rescale=1./255)\n",
    "\n",
    "# Define the data loaders\n",
    "batch_size = 32\n",
    "\n",
    "# split the data into training and validation sets\n",
    "training_df, val_df = train_test_split(train_df, test_size=0.2, random_state=42)\n",
    "\n",
    "train_generator = train_datagen.flow_from_dataframe(dataframe=training_df,\n",
    "                                                    directory='Dataset/dataset_AMLS_22-23/cartoon_set/img',\n",
    "                                                    x_col='file_name',\n",
    "                                                    y_col='face_shape',\n",
    "                                                    target_size=(224, 224),\n",
    "                                                    batch_size=32,\n",
    "                                                    shuffle=True,\n",
    "                                                    class_mode='categorical')\n",
    "\n",
    "val_generator = val_datagen.flow_from_dataframe(dataframe=val_df,\n",
    "                                                directory='Dataset/dataset_AMLS_22-23/cartoon_set/img',\n",
    "                                                x_col='file_name',\n",
    "                                                y_col='face_shape',\n",
    "                                                target_size=(224, 224),\n",
    "                                                batch_size=32,\n",
    "                                                shuffle=True,\n",
    "                                                class_mode='categorical')"
   ]
  },
  {
   "cell_type": "code",
   "execution_count": 9,
   "metadata": {},
   "outputs": [
    {
     "name": "stdout",
     "output_type": "stream",
     "text": [
      "  file_name  face_shape\n",
      "0     0.png           1\n",
      "1     1.png           4\n",
      "2     2.png           2\n",
      "3     3.png           2\n",
      "4     4.png           3\n",
      "  file_name  face_shape\n",
      "0     0.png           2\n",
      "1     1.png           5\n",
      "2     2.png           3\n",
      "3     3.png           3\n",
      "4     4.png           4\n"
     ]
    },
    {
     "name": "stderr",
     "output_type": "stream",
     "text": [
      "/home/zceeysa/Desktop/ENTER/lib/python3.8/site-packages/pandas/core/indexing.py:1676: SettingWithCopyWarning: \n",
      "A value is trying to be set on a copy of a slice from a DataFrame.\n",
      "Try using .loc[row_indexer,col_indexer] = value instead\n",
      "\n",
      "See the caveats in the documentation: https://pandas.pydata.org/pandas-docs/stable/user_guide/indexing.html#returning-a-view-versus-a-copy\n",
      "  self._setitem_single_column(ilocs[0], value, pi)\n",
      "/tmp/ipykernel_2395157/4075788720.py:11: SettingWithCopyWarning: \n",
      "A value is trying to be set on a copy of a slice from a DataFrame.\n",
      "Try using .loc[row_indexer,col_indexer] = value instead\n",
      "\n",
      "See the caveats in the documentation: https://pandas.pydata.org/pandas-docs/stable/user_guide/indexing.html#returning-a-view-versus-a-copy\n",
      "  test_df[\"face_shape\"] = test_df[\"face_shape\"].astype(str)\n"
     ]
    }
   ],
   "source": [
    "# Converting csv into dataframe using read_csv(label_path)\n",
    "test_cartoon_df = pd.read_csv('Dataset/dataset_AMLS_22-23_test/cartoon_set_test/labels.csv', sep='\\t', engine='python')\n",
    "test_df = test_cartoon_df[['file_name', 'face_shape']]\n",
    "print(test_df.head())\n",
    "\n",
    "# Convert the face shape column to class 1-5\n",
    "test_df.loc[:,'face_shape'] += 1\n",
    "print(test_df.head())\n",
    "\n",
    "# Convert face shape column type from int64 to str for data generator\n",
    "test_df[\"face_shape\"] = test_df[\"face_shape\"].astype(str)"
   ]
  },
  {
   "cell_type": "code",
   "execution_count": 10,
   "metadata": {},
   "outputs": [
    {
     "name": "stdout",
     "output_type": "stream",
     "text": [
      "Index(['file_name', 'face_shape'], dtype='object')\n"
     ]
    }
   ],
   "source": [
    "print(test_df.columns)"
   ]
  },
  {
   "cell_type": "code",
   "execution_count": 11,
   "metadata": {},
   "outputs": [
    {
     "name": "stdout",
     "output_type": "stream",
     "text": [
      "Found 2500 validated image filenames belonging to 5 classes.\n"
     ]
    }
   ],
   "source": [
    "# Create a test dataframe by reading in the labels for the test images\n",
    "test_labels_df = pd.read_csv('Dataset/dataset_AMLS_22-23_test/cartoon_set_test/labels.csv')\n",
    "\n",
    "# Create a test data generator\n",
    "test_datagen = ImageDataGenerator(rescale=1./255)\n",
    "\n",
    "# Create the test dataloader\n",
    "test_generator = test_datagen.flow_from_dataframe(dataframe=test_df,\n",
    "                                                    directory='Dataset/dataset_AMLS_22-23_test/cartoon_set_test/img',\n",
    "                                                    x_col='file_name',\n",
    "                                                    y_col='face_shape',\n",
    "                                                    target_size=(224, 224),\n",
    "                                                    class_mode='categorical',\n",
    "                                                    shuffle=False)\n"
   ]
  },
  {
   "cell_type": "code",
   "execution_count": 12,
   "metadata": {},
   "outputs": [
    {
     "name": "stdout",
     "output_type": "stream",
     "text": [
      "/home/zceeysa/Documents/ELEC0134/ELEC0134\n"
     ]
    }
   ],
   "source": [
    "print(os.getcwd())"
   ]
  },
  {
   "cell_type": "code",
   "execution_count": 13,
   "metadata": {},
   "outputs": [],
   "source": [
    "# Use early stopping to terminate training epochs through callbacks\n",
    "from tensorflow.python.keras.callbacks import EarlyStopping, ModelCheckpoint\n",
    "\n",
    "# Seek a mininum for validation loss and display the stopped epochs using verbose and adding delays\n",
    "stop = EarlyStopping(monitor='val_loss', mode='min', verbose=1, patience=5)\n",
    "\n",
    "# Save best model using checkpoint\n",
    "model_path = os.path.join('/home/zceeysa/Documents/ELEC0134/ELEC0134/B1', 'vgg16_shape.h5')\n",
    "checkpoints = ModelCheckpoint(os.path.normcase(model_path), monitor='val_loss', mode='min', verbose=1, save_best_only=True)\n",
    "\n",
    "# Define callback function in a list\n",
    "callback_list = [stop, checkpoints]"
   ]
  },
  {
   "cell_type": "code",
   "execution_count": 14,
   "metadata": {
    "scrolled": true
   },
   "outputs": [
    {
     "name": "stderr",
     "output_type": "stream",
     "text": [
      "2023-01-19 17:34:43.548059: W tensorflow/compiler/xla/stream_executor/platform/default/dso_loader.cc:64] Could not load dynamic library 'libcudart.so.11.0'; dlerror: libcudart.so.11.0: cannot open shared object file: No such file or directory; LD_LIBRARY_PATH: /lib64:/lib:/usr/local/lib:/usr/local/lib64:/usr/lib64:/usr/lib:/apps/cuda/lib64:/apps/cuda/lib\n",
      "2023-01-19 17:34:43.548222: W tensorflow/compiler/xla/stream_executor/platform/default/dso_loader.cc:64] Could not load dynamic library 'libcublas.so.11'; dlerror: libcublas.so.11: cannot open shared object file: No such file or directory; LD_LIBRARY_PATH: /lib64:/lib:/usr/local/lib:/usr/local/lib64:/usr/lib64:/usr/lib:/apps/cuda/lib64:/apps/cuda/lib\n",
      "2023-01-19 17:34:43.548313: W tensorflow/compiler/xla/stream_executor/platform/default/dso_loader.cc:64] Could not load dynamic library 'libcublasLt.so.11'; dlerror: libcublasLt.so.11: cannot open shared object file: No such file or directory; LD_LIBRARY_PATH: /lib64:/lib:/usr/local/lib:/usr/local/lib64:/usr/lib64:/usr/lib:/apps/cuda/lib64:/apps/cuda/lib\n",
      "2023-01-19 17:34:43.548395: W tensorflow/compiler/xla/stream_executor/platform/default/dso_loader.cc:64] Could not load dynamic library 'libcufft.so.10'; dlerror: libcufft.so.10: cannot open shared object file: No such file or directory; LD_LIBRARY_PATH: /lib64:/lib:/usr/local/lib:/usr/local/lib64:/usr/lib64:/usr/lib:/apps/cuda/lib64:/apps/cuda/lib\n",
      "2023-01-19 17:34:43.548452: W tensorflow/compiler/xla/stream_executor/platform/default/dso_loader.cc:64] Could not load dynamic library 'libcurand.so.10'; dlerror: libcurand.so.10: cannot open shared object file: No such file or directory; LD_LIBRARY_PATH: /lib64:/lib:/usr/local/lib:/usr/local/lib64:/usr/lib64:/usr/lib:/apps/cuda/lib64:/apps/cuda/lib\n",
      "2023-01-19 17:34:43.548516: W tensorflow/compiler/xla/stream_executor/platform/default/dso_loader.cc:64] Could not load dynamic library 'libcusolver.so.11'; dlerror: libcusolver.so.11: cannot open shared object file: No such file or directory; LD_LIBRARY_PATH: /lib64:/lib:/usr/local/lib:/usr/local/lib64:/usr/lib64:/usr/lib:/apps/cuda/lib64:/apps/cuda/lib\n",
      "2023-01-19 17:34:43.548580: W tensorflow/compiler/xla/stream_executor/platform/default/dso_loader.cc:64] Could not load dynamic library 'libcusparse.so.11'; dlerror: libcusparse.so.11: cannot open shared object file: No such file or directory; LD_LIBRARY_PATH: /lib64:/lib:/usr/local/lib:/usr/local/lib64:/usr/lib64:/usr/lib:/apps/cuda/lib64:/apps/cuda/lib\n",
      "2023-01-19 17:34:43.548641: W tensorflow/compiler/xla/stream_executor/platform/default/dso_loader.cc:64] Could not load dynamic library 'libcudnn.so.8'; dlerror: libcudnn.so.8: cannot open shared object file: No such file or directory; LD_LIBRARY_PATH: /lib64:/lib:/usr/local/lib:/usr/local/lib64:/usr/lib64:/usr/lib:/apps/cuda/lib64:/apps/cuda/lib\n",
      "2023-01-19 17:34:43.548666: W tensorflow/core/common_runtime/gpu/gpu_device.cc:1934] Cannot dlopen some GPU libraries. Please make sure the missing libraries mentioned above are installed properly if you would like to use GPU. Follow the guide at https://www.tensorflow.org/install/gpu for how to download and setup the required libraries for your platform.\n",
      "Skipping registering GPU devices...\n",
      "2023-01-19 17:34:43.549341: I tensorflow/core/platform/cpu_feature_guard.cc:193] This TensorFlow binary is optimized with oneAPI Deep Neural Network Library (oneDNN) to use the following CPU instructions in performance-critical operations:  AVX2 AVX512F FMA\n",
      "To enable them in other operations, rebuild TensorFlow with the appropriate compiler flags.\n"
     ]
    },
    {
     "name": "stdout",
     "output_type": "stream",
     "text": [
      "Model: \"sequential\"\n",
      "_________________________________________________________________\n",
      " Layer (type)                Output Shape              Param #   \n",
      "=================================================================\n",
      " conv2d (Conv2D)             (None, 224, 224, 16)      448       \n",
      "                                                                 \n",
      " batch_normalization (BatchN  (None, 224, 224, 16)     64        \n",
      " ormalization)                                                   \n",
      "                                                                 \n",
      " max_pooling2d (MaxPooling2D  (None, 112, 112, 16)     0         \n",
      " )                                                               \n",
      "                                                                 \n",
      " conv2d_1 (Conv2D)           (None, 112, 112, 16)      2320      \n",
      "                                                                 \n",
      " batch_normalization_1 (Batc  (None, 112, 112, 16)     64        \n",
      " hNormalization)                                                 \n",
      "                                                                 \n",
      " max_pooling2d_1 (MaxPooling  (None, 56, 56, 16)       0         \n",
      " 2D)                                                             \n",
      "                                                                 \n",
      " conv2d_2 (Conv2D)           (None, 56, 56, 32)        4640      \n",
      "                                                                 \n",
      " batch_normalization_2 (Batc  (None, 56, 56, 32)       128       \n",
      " hNormalization)                                                 \n",
      "                                                                 \n",
      " max_pooling2d_2 (MaxPooling  (None, 28, 28, 32)       0         \n",
      " 2D)                                                             \n",
      "                                                                 \n",
      " conv2d_3 (Conv2D)           (None, 28, 28, 64)        18496     \n",
      "                                                                 \n",
      " batch_normalization_3 (Batc  (None, 28, 28, 64)       256       \n",
      " hNormalization)                                                 \n",
      "                                                                 \n",
      " max_pooling2d_3 (MaxPooling  (None, 14, 14, 64)       0         \n",
      " 2D)                                                             \n",
      "                                                                 \n",
      " conv2d_4 (Conv2D)           (None, 14, 14, 128)       73856     \n",
      "                                                                 \n",
      " batch_normalization_4 (Batc  (None, 14, 14, 128)      512       \n",
      " hNormalization)                                                 \n",
      "                                                                 \n",
      " max_pooling2d_4 (MaxPooling  (None, 7, 7, 128)        0         \n",
      " 2D)                                                             \n",
      "                                                                 \n",
      " flatten (Flatten)           (None, 6272)              0         \n",
      "                                                                 \n",
      " dense (Dense)               (None, 64)                401472    \n",
      "                                                                 \n",
      " dense_1 (Dense)             (None, 5)                 325       \n",
      "                                                                 \n",
      "=================================================================\n",
      "Total params: 502,581\n",
      "Trainable params: 502,069\n",
      "Non-trainable params: 512\n",
      "_________________________________________________________________\n"
     ]
    }
   ],
   "source": [
    "# Import network libraries\n",
    "import keras\n",
    "\n",
    "from keras.models import Model\n",
    "from keras.models import Sequential\n",
    "from keras.layers import Dense, Conv2D, MaxPool2D, Flatten, BatchNormalization\n",
    "from keras.wrappers.scikit_learn import KerasClassifier\n",
    "\n",
    "model = Sequential()\n",
    "\n",
    "model.add(Conv2D(input_shape=(224,224,3),filters=16,kernel_size=(3,3),padding=\"same\", activation=\"relu\"))\n",
    "model.add(BatchNormalization())\n",
    "model.add(MaxPool2D(pool_size=(2,2),strides=(2,2)))\n",
    "\n",
    "model.add(Conv2D(filters=16, kernel_size=(3,3), padding=\"same\", activation=\"relu\"))\n",
    "model.add(BatchNormalization())\n",
    "model.add(MaxPool2D(pool_size=(2,2),strides=(2,2)))\n",
    "\n",
    "model.add(Conv2D(filters=32, kernel_size=(3,3), padding=\"same\", activation=\"relu\"))\n",
    "model.add(BatchNormalization())\n",
    "model.add(MaxPool2D(pool_size=(2,2),strides=(2,2)))\n",
    "\n",
    "model.add(Conv2D(filters=64, kernel_size=(3,3), padding=\"same\", activation=\"relu\"))\n",
    "model.add(BatchNormalization())\n",
    "model.add(MaxPool2D(pool_size=(2,2),strides=(2,2)))\n",
    "\n",
    "model.add(Conv2D(filters=128, kernel_size=(3,3), padding=\"same\", activation=\"relu\"))\n",
    "model.add(BatchNormalization())\n",
    "model.add(MaxPool2D(pool_size=(2,2),strides=(2,2)))\n",
    "\n",
    "model.add(Flatten())\n",
    "model.add(Dense(units=64,activation=\"relu\"))\n",
    "model.add(Dense(units=5, activation=\"softmax\")) \n",
    "\n",
    "# Display summary of the model\n",
    "model.summary()\n",
    "\n",
    "# Compile the model using ADAM (Adaptive learning rate optimization)\n",
    "model.compile(optimizer='adam', loss='categorical_crossentropy', metrics=['accuracy'])"
   ]
  },
  {
   "cell_type": "code",
   "execution_count": 15,
   "metadata": {},
   "outputs": [],
   "source": [
    "import time"
   ]
  },
  {
   "cell_type": "code",
   "execution_count": 16,
   "metadata": {},
   "outputs": [],
   "source": [
    "class TimeHistory(keras.callbacks.Callback):\n",
    "    def on_train_begin(self, logs={}):\n",
    "        self.times = []\n",
    "\n",
    "    def on_epoch_begin(self, batch, logs={}):\n",
    "        self.epoch_time_start = time.time()\n",
    "\n",
    "    def on_epoch_end(self, batch, logs={}):\n",
    "        self.times.append(time.time() - self.epoch_time_start)"
   ]
  },
  {
   "cell_type": "code",
   "execution_count": 17,
   "metadata": {
    "scrolled": true
   },
   "outputs": [
    {
     "name": "stdout",
     "output_type": "stream",
     "text": [
      "250\n",
      "62\n"
     ]
    },
    {
     "name": "stderr",
     "output_type": "stream",
     "text": [
      "/tmp/ipykernel_2395157/4127794538.py:9: UserWarning: `Model.fit_generator` is deprecated and will be removed in a future version. Please use `Model.fit`, which supports generators.\n",
      "  history = model.fit_generator(generator=train_generator,\n"
     ]
    },
    {
     "name": "stdout",
     "output_type": "stream",
     "text": [
      "Epoch 1/20\n",
      "250/250 [==============================] - ETA: 0s - loss: 1.5023 - accuracy: 0.3579\n",
      "Epoch 00001: val_loss improved from inf to 2.07292, saving model to /home/zceeysa/Documents/ELEC0134/ELEC0134/B1/vgg16_shape.h5\n",
      "250/250 [==============================] - 133s 522ms/step - loss: 1.5023 - accuracy: 0.3579 - val_loss: 2.0729 - val_accuracy: 0.1920\n",
      "Epoch 2/20\n",
      "250/250 [==============================] - ETA: 0s - loss: 0.7909 - accuracy: 0.6681\n",
      "Epoch 00002: val_loss improved from 2.07292 to 0.61878, saving model to /home/zceeysa/Documents/ELEC0134/ELEC0134/B1/vgg16_shape.h5\n",
      "250/250 [==============================] - 132s 526ms/step - loss: 0.7909 - accuracy: 0.6681 - val_loss: 0.6188 - val_accuracy: 0.7989\n",
      "Epoch 3/20\n",
      "250/250 [==============================] - ETA: 0s - loss: 0.5192 - accuracy: 0.7987\n",
      "Epoch 00003: val_loss improved from 0.61878 to 0.47616, saving model to /home/zceeysa/Documents/ELEC0134/ELEC0134/B1/vgg16_shape.h5\n",
      "250/250 [==============================] - 116s 464ms/step - loss: 0.5192 - accuracy: 0.7987 - val_loss: 0.4762 - val_accuracy: 0.7979\n",
      "Epoch 4/20\n",
      "250/250 [==============================] - ETA: 0s - loss: 0.4591 - accuracy: 0.8004\n",
      "Epoch 00004: val_loss improved from 0.47616 to 0.42661, saving model to /home/zceeysa/Documents/ELEC0134/ELEC0134/B1/vgg16_shape.h5\n",
      "250/250 [==============================] - 102s 408ms/step - loss: 0.4591 - accuracy: 0.8004 - val_loss: 0.4266 - val_accuracy: 0.7994\n",
      "Epoch 5/20\n",
      "250/250 [==============================] - ETA: 0s - loss: 0.4184 - accuracy: 0.8002\n",
      "Epoch 00005: val_loss improved from 0.42661 to 0.39416, saving model to /home/zceeysa/Documents/ELEC0134/ELEC0134/B1/vgg16_shape.h5\n",
      "250/250 [==============================] - 102s 406ms/step - loss: 0.4184 - accuracy: 0.8002 - val_loss: 0.3942 - val_accuracy: 0.7999\n",
      "Epoch 6/20\n",
      "250/250 [==============================] - ETA: 0s - loss: 0.3888 - accuracy: 0.8005\n",
      "Epoch 00006: val_loss improved from 0.39416 to 0.36723, saving model to /home/zceeysa/Documents/ELEC0134/ELEC0134/B1/vgg16_shape.h5\n",
      "250/250 [==============================] - 102s 407ms/step - loss: 0.3888 - accuracy: 0.8005 - val_loss: 0.3672 - val_accuracy: 0.8004\n",
      "Epoch 7/20\n",
      "250/250 [==============================] - ETA: 0s - loss: 0.3674 - accuracy: 0.8004\n",
      "Epoch 00007: val_loss improved from 0.36723 to 0.35118, saving model to /home/zceeysa/Documents/ELEC0134/ELEC0134/B1/vgg16_shape.h5\n",
      "250/250 [==============================] - 101s 402ms/step - loss: 0.3674 - accuracy: 0.8004 - val_loss: 0.3512 - val_accuracy: 0.7984\n",
      "Epoch 8/20\n",
      "250/250 [==============================] - ETA: 0s - loss: 0.3513 - accuracy: 0.8006\n",
      "Epoch 00008: val_loss improved from 0.35118 to 0.33532, saving model to /home/zceeysa/Documents/ELEC0134/ELEC0134/B1/vgg16_shape.h5\n",
      "250/250 [==============================] - 101s 402ms/step - loss: 0.3513 - accuracy: 0.8006 - val_loss: 0.3353 - val_accuracy: 0.8004\n",
      "Epoch 9/20\n",
      "250/250 [==============================] - ETA: 0s - loss: 0.3442 - accuracy: 0.8048\n",
      "Epoch 00009: val_loss improved from 0.33532 to 0.13932, saving model to /home/zceeysa/Documents/ELEC0134/ELEC0134/B1/vgg16_shape.h5\n",
      "250/250 [==============================] - 100s 401ms/step - loss: 0.3442 - accuracy: 0.8048 - val_loss: 0.1393 - val_accuracy: 0.9793\n",
      "Epoch 10/20\n",
      "250/250 [==============================] - ETA: 0s - loss: 0.0247 - accuracy: 0.9914\n",
      "Epoch 00010: val_loss improved from 0.13932 to 0.00635, saving model to /home/zceeysa/Documents/ELEC0134/ELEC0134/B1/vgg16_shape.h5\n",
      "250/250 [==============================] - 101s 402ms/step - loss: 0.0247 - accuracy: 0.9914 - val_loss: 0.0063 - val_accuracy: 0.9980\n",
      "Epoch 11/20\n",
      "250/250 [==============================] - ETA: 0s - loss: 0.0050 - accuracy: 0.9979\n",
      "Epoch 00011: val_loss did not improve from 0.00635\n",
      "250/250 [==============================] - 101s 402ms/step - loss: 0.0050 - accuracy: 0.9979 - val_loss: 0.0090 - val_accuracy: 0.9980\n",
      "Epoch 12/20\n",
      "250/250 [==============================] - ETA: 0s - loss: 0.0011 - accuracy: 0.9999\n",
      "Epoch 00012: val_loss improved from 0.00635 to 0.00036, saving model to /home/zceeysa/Documents/ELEC0134/ELEC0134/B1/vgg16_shape.h5\n",
      "250/250 [==============================] - 104s 414ms/step - loss: 0.0011 - accuracy: 0.9999 - val_loss: 3.5559e-04 - val_accuracy: 1.0000\n",
      "Epoch 13/20\n",
      "250/250 [==============================] - ETA: 0s - loss: 1.3408e-04 - accuracy: 1.0000\n",
      "Epoch 00013: val_loss improved from 0.00036 to 0.00025, saving model to /home/zceeysa/Documents/ELEC0134/ELEC0134/B1/vgg16_shape.h5\n",
      "250/250 [==============================] - 100s 398ms/step - loss: 1.3408e-04 - accuracy: 1.0000 - val_loss: 2.5181e-04 - val_accuracy: 1.0000\n",
      "Epoch 14/20\n",
      "250/250 [==============================] - ETA: 0s - loss: 6.1770e-05 - accuracy: 1.0000\n",
      "Epoch 00014: val_loss improved from 0.00025 to 0.00018, saving model to /home/zceeysa/Documents/ELEC0134/ELEC0134/B1/vgg16_shape.h5\n",
      "250/250 [==============================] - 100s 401ms/step - loss: 6.1770e-05 - accuracy: 1.0000 - val_loss: 1.7561e-04 - val_accuracy: 1.0000\n",
      "Epoch 15/20\n",
      "250/250 [==============================] - ETA: 0s - loss: 4.1630e-05 - accuracy: 1.0000\n",
      "Epoch 00015: val_loss improved from 0.00018 to 0.00013, saving model to /home/zceeysa/Documents/ELEC0134/ELEC0134/B1/vgg16_shape.h5\n",
      "250/250 [==============================] - 104s 415ms/step - loss: 4.1630e-05 - accuracy: 1.0000 - val_loss: 1.3421e-04 - val_accuracy: 1.0000\n",
      "Epoch 16/20\n",
      "250/250 [==============================] - ETA: 0s - loss: 3.1579e-05 - accuracy: 1.0000\n",
      "Epoch 00016: val_loss improved from 0.00013 to 0.00011, saving model to /home/zceeysa/Documents/ELEC0134/ELEC0134/B1/vgg16_shape.h5\n",
      "250/250 [==============================] - 105s 418ms/step - loss: 3.1579e-05 - accuracy: 1.0000 - val_loss: 1.1174e-04 - val_accuracy: 1.0000\n",
      "Epoch 17/20\n",
      "250/250 [==============================] - ETA: 0s - loss: 2.3437e-05 - accuracy: 1.0000\n",
      "Epoch 00017: val_loss improved from 0.00011 to 0.00009, saving model to /home/zceeysa/Documents/ELEC0134/ELEC0134/B1/vgg16_shape.h5\n",
      "250/250 [==============================] - 103s 412ms/step - loss: 2.3437e-05 - accuracy: 1.0000 - val_loss: 9.4032e-05 - val_accuracy: 1.0000\n",
      "Epoch 18/20\n",
      "250/250 [==============================] - ETA: 0s - loss: 1.8735e-05 - accuracy: 1.0000\n",
      "Epoch 00018: val_loss improved from 0.00009 to 0.00008, saving model to /home/zceeysa/Documents/ELEC0134/ELEC0134/B1/vgg16_shape.h5\n",
      "250/250 [==============================] - 103s 412ms/step - loss: 1.8735e-05 - accuracy: 1.0000 - val_loss: 8.0521e-05 - val_accuracy: 1.0000\n",
      "Epoch 19/20\n",
      "250/250 [==============================] - ETA: 0s - loss: 1.5540e-05 - accuracy: 1.0000\n",
      "Epoch 00019: val_loss did not improve from 0.00008\n",
      "250/250 [==============================] - 102s 407ms/step - loss: 1.5540e-05 - accuracy: 1.0000 - val_loss: 8.1582e-05 - val_accuracy: 1.0000\n",
      "Epoch 20/20\n",
      "250/250 [==============================] - ETA: 0s - loss: 1.2539e-05 - accuracy: 1.0000\n",
      "Epoch 00020: val_loss improved from 0.00008 to 0.00007, saving model to /home/zceeysa/Documents/ELEC0134/ELEC0134/B1/vgg16_shape.h5\n",
      "250/250 [==============================] - 103s 410ms/step - loss: 1.2539e-05 - accuracy: 1.0000 - val_loss: 6.9312e-05 - val_accuracy: 1.0000\n"
     ]
    }
   ],
   "source": [
    "# Set steps per epoch for callback \n",
    "STEP_SIZE_TRAIN = train_generator.samples//train_generator.batch_size\n",
    "STEP_SIZE_VALID = val_generator.samples//val_generator.batch_size\n",
    "print(STEP_SIZE_TRAIN)\n",
    "print(STEP_SIZE_VALID)\n",
    "\n",
    "time_callback = TimeHistory()\n",
    "\n",
    "history = model.fit_generator(generator=train_generator,\n",
    "                    steps_per_epoch=STEP_SIZE_TRAIN,\n",
    "                    epochs=20,\n",
    "                    callbacks=[time_callback, callback_list],\n",
    "                    validation_data=val_generator,\n",
    "                    validation_steps=STEP_SIZE_VALID)\n",
    "\n",
    "times = time_callback.times"
   ]
  },
  {
   "cell_type": "code",
   "execution_count": 18,
   "metadata": {},
   "outputs": [
    {
     "name": "stdout",
     "output_type": "stream",
     "text": [
      "[133.18410849571228, 131.68725490570068, 116.3464765548706, 102.14932489395142, 101.5597026348114, 101.92224431037903, 100.49955248832703, 100.65492224693298, 100.37606263160706, 100.56976914405823, 100.61550283432007, 103.64339303970337, 99.65213680267334, 100.3240818977356, 103.79814291000366, 104.46953964233398, 103.1537606716156, 103.05239772796631, 101.94531035423279, 102.62722158432007]\n"
     ]
    }
   ],
   "source": [
    "print(time_callback.times)"
   ]
  },
  {
   "cell_type": "code",
   "execution_count": 19,
   "metadata": {
    "scrolled": true
   },
   "outputs": [],
   "source": [
    "import matplotlib.pyplot as plt\n",
    "\n",
    "\n",
    "def plot_training_history(history,fit_time):\n",
    "    plt.figure(figsize=(20,10))\n",
    "    plt.subplot(1, 3, 1)\n",
    "    plt.plot(history.history['val_loss'], label='Validation Loss')\n",
    "    plt.plot(history.history['loss'], label='Training Loss')\n",
    "    plt.title('Validation Loss vs. Number of Epochs')\n",
    "    plt.xlabel('Number of Epochs')\n",
    "    plt.ylabel('Loss')\n",
    "    plt.legend()\n",
    "    plt.subplot(1, 3, 2)\n",
    "    plt.plot(times)\n",
    "    plt.title('Fit time vs. Number of Epochs')\n",
    "    plt.xlabel('Number of Epochs')\n",
    "    plt.ylabel('Fit time')\n",
    "    plt.subplot(1, 3, 3)\n",
    "    plt.scatter(times, history.history['val_loss'])\n",
    "    plt.title('Validation Loss vs Fit time')\n",
    "    plt.xlabel('Fit time')\n",
    "    plt.ylabel('Validation Loss')\n",
    "    plt.show()\n",
    "\n",
    "    plt.savefig('traing_his_shape.png')\n",
    "\n"
   ]
  },
  {
   "cell_type": "code",
   "execution_count": 21,
   "metadata": {},
   "outputs": [
    {
     "data": {
      "image/png": "[encoded data removed]",
      "text/plain": [
       "<Figure size 2000x1000 with 3 Axes>"
      ]
     },
     "metadata": {},
     "output_type": "display_data"
    },
    {
     "data": {
      "text/plain": [
       "<Figure size 640x480 with 0 Axes>"
      ]
     },
     "metadata": {},
     "output_type": "display_data"
    }
   ],
   "source": [
    "plot_training_history(history, time_callback.times)"
   ]
  },
  {
   "cell_type": "code",
   "execution_count": 22,
   "metadata": {
    "scrolled": true
   },
   "outputs": [
    {
     "name": "stderr",
     "output_type": "stream",
     "text": [
      "/home/zceeysa/Desktop/ENTER/lib/python3.8/site-packages/keras/backend.py:451: UserWarning: `tf.keras.backend.set_learning_phase` is deprecated and will be removed after 2020-10-11. To update it, simply pass a True/False value to the `training` argument of the `__call__` method of your layer or model.\n",
      "  warnings.warn(\n",
      "/tmp/ipykernel_2395157/3173996539.py:14: UserWarning: `Model.evaluate_generator` is deprecated and will be removed in a future version. Please use `Model.evaluate`, which supports generators.\n",
      "  test_loss, test_acc = model.evaluate_generator(test_generator, steps=len(test_generator))\n"
     ]
    },
    {
     "name": "stdout",
     "output_type": "stream",
     "text": [
      "Test Loss:  0.0001634615910006687\n",
      "Test Accuracy:  1.0\n"
     ]
    }
   ],
   "source": [
    "from keras.models import load_model\n",
    "from keras import backend as K\n",
    "\n",
    "# Load the pre-trained model\n",
    "model = load_model(\"B1/vgg16_shape.h5\")\n",
    "\n",
    "# Compile the model (if necessary)\n",
    "model.compile(optimizer='adam', loss='categorical_crossentropy', metrics=['accuracy'])\n",
    "\n",
    "# Set the learning phase to test\n",
    "K.set_learning_phase(0)\n",
    "\n",
    "# Evaluate the model using the test data generator\n",
    "test_loss, test_acc = model.evaluate_generator(test_generator, steps=len(test_generator))\n",
    "\n",
    "# Print test loss and accuracy\n",
    "print(\"Test Loss: \", test_loss)\n",
    "print(\"Test Accuracy: \", test_acc)"
   ]
  },
  {
   "cell_type": "code",
   "execution_count": 23,
   "metadata": {},
   "outputs": [],
   "source": [
    "from sklearn.metrics import confusion_matrix\n",
    "import matplotlib.pyplot as plt\n"
   ]
  },
  {
   "cell_type": "code",
   "execution_count": 24,
   "metadata": {},
   "outputs": [
    {
     "name": "stdout",
     "output_type": "stream",
     "text": [
      "79/79 [==============================] - 16s 197ms/step\n"
     ]
    },
    {
     "ename": "AxisError",
     "evalue": "axis 1 is out of bounds for array of dimension 1",
     "output_type": "error",
     "traceback": [
      "\u001b[0;31m---------------------------------------------------------------------------\u001b[0m",
      "\u001b[0;31mAxisError\u001b[0m                                 Traceback (most recent call last)",
      "Cell \u001b[0;32mIn [24], line 8\u001b[0m\n\u001b[1;32m      5\u001b[0m predictions \u001b[38;5;241m=\u001b[39m np\u001b[38;5;241m.\u001b[39margmax(predictions, axis\u001b[38;5;241m=\u001b[39m\u001b[38;5;241m1\u001b[39m)\n\u001b[1;32m      7\u001b[0m \u001b[38;5;66;03m# Convert class labels to a one-hot encoded format\u001b[39;00m\n\u001b[0;32m----> 8\u001b[0m y_test \u001b[38;5;241m=\u001b[39m \u001b[43mnp\u001b[49m\u001b[38;5;241;43m.\u001b[39;49m\u001b[43margmax\u001b[49m\u001b[43m(\u001b[49m\u001b[43mtest_generator\u001b[49m\u001b[38;5;241;43m.\u001b[39;49m\u001b[43mlabels\u001b[49m\u001b[43m,\u001b[49m\u001b[43m \u001b[49m\u001b[43maxis\u001b[49m\u001b[38;5;241;43m=\u001b[39;49m\u001b[38;5;241;43m1\u001b[39;49m\u001b[43m)\u001b[49m\n\u001b[1;32m     10\u001b[0m \u001b[38;5;66;03m# Create a confusion matrix\u001b[39;00m\n\u001b[1;32m     11\u001b[0m confusion_mat \u001b[38;5;241m=\u001b[39m confusion_matrix(y_test, predictions)\n",
      "File \u001b[0;32m<__array_function__ internals>:180\u001b[0m, in \u001b[0;36margmax\u001b[0;34m(*args, **kwargs)\u001b[0m\n",
      "File \u001b[0;32m~/Desktop/ENTER/lib/python3.8/site-packages/numpy/core/fromnumeric.py:1216\u001b[0m, in \u001b[0;36margmax\u001b[0;34m(a, axis, out, keepdims)\u001b[0m\n\u001b[1;32m   1129\u001b[0m \u001b[38;5;124;03m\"\"\"\u001b[39;00m\n\u001b[1;32m   1130\u001b[0m \u001b[38;5;124;03mReturns the indices of the maximum values along an axis.\u001b[39;00m\n\u001b[1;32m   1131\u001b[0m \n\u001b[0;32m   (...)\u001b[0m\n\u001b[1;32m   1213\u001b[0m \u001b[38;5;124;03m(2, 1, 4)\u001b[39;00m\n\u001b[1;32m   1214\u001b[0m \u001b[38;5;124;03m\"\"\"\u001b[39;00m\n\u001b[1;32m   1215\u001b[0m kwds \u001b[38;5;241m=\u001b[39m {\u001b[38;5;124m'\u001b[39m\u001b[38;5;124mkeepdims\u001b[39m\u001b[38;5;124m'\u001b[39m: keepdims} \u001b[38;5;28;01mif\u001b[39;00m keepdims \u001b[38;5;129;01mis\u001b[39;00m \u001b[38;5;129;01mnot\u001b[39;00m np\u001b[38;5;241m.\u001b[39m_NoValue \u001b[38;5;28;01melse\u001b[39;00m {}\n\u001b[0;32m-> 1216\u001b[0m \u001b[38;5;28;01mreturn\u001b[39;00m \u001b[43m_wrapfunc\u001b[49m\u001b[43m(\u001b[49m\u001b[43ma\u001b[49m\u001b[43m,\u001b[49m\u001b[43m \u001b[49m\u001b[38;5;124;43m'\u001b[39;49m\u001b[38;5;124;43margmax\u001b[39;49m\u001b[38;5;124;43m'\u001b[39;49m\u001b[43m,\u001b[49m\u001b[43m \u001b[49m\u001b[43maxis\u001b[49m\u001b[38;5;241;43m=\u001b[39;49m\u001b[43maxis\u001b[49m\u001b[43m,\u001b[49m\u001b[43m \u001b[49m\u001b[43mout\u001b[49m\u001b[38;5;241;43m=\u001b[39;49m\u001b[43mout\u001b[49m\u001b[43m,\u001b[49m\u001b[43m \u001b[49m\u001b[38;5;241;43m*\u001b[39;49m\u001b[38;5;241;43m*\u001b[39;49m\u001b[43mkwds\u001b[49m\u001b[43m)\u001b[49m\n",
      "File \u001b[0;32m~/Desktop/ENTER/lib/python3.8/site-packages/numpy/core/fromnumeric.py:54\u001b[0m, in \u001b[0;36m_wrapfunc\u001b[0;34m(obj, method, *args, **kwds)\u001b[0m\n\u001b[1;32m     52\u001b[0m bound \u001b[38;5;241m=\u001b[39m \u001b[38;5;28mgetattr\u001b[39m(obj, method, \u001b[38;5;28;01mNone\u001b[39;00m)\n\u001b[1;32m     53\u001b[0m \u001b[38;5;28;01mif\u001b[39;00m bound \u001b[38;5;129;01mis\u001b[39;00m \u001b[38;5;28;01mNone\u001b[39;00m:\n\u001b[0;32m---> 54\u001b[0m     \u001b[38;5;28;01mreturn\u001b[39;00m \u001b[43m_wrapit\u001b[49m\u001b[43m(\u001b[49m\u001b[43mobj\u001b[49m\u001b[43m,\u001b[49m\u001b[43m \u001b[49m\u001b[43mmethod\u001b[49m\u001b[43m,\u001b[49m\u001b[43m \u001b[49m\u001b[38;5;241;43m*\u001b[39;49m\u001b[43margs\u001b[49m\u001b[43m,\u001b[49m\u001b[43m \u001b[49m\u001b[38;5;241;43m*\u001b[39;49m\u001b[38;5;241;43m*\u001b[39;49m\u001b[43mkwds\u001b[49m\u001b[43m)\u001b[49m\n\u001b[1;32m     56\u001b[0m \u001b[38;5;28;01mtry\u001b[39;00m:\n\u001b[1;32m     57\u001b[0m     \u001b[38;5;28;01mreturn\u001b[39;00m bound(\u001b[38;5;241m*\u001b[39margs, \u001b[38;5;241m*\u001b[39m\u001b[38;5;241m*\u001b[39mkwds)\n",
      "File \u001b[0;32m~/Desktop/ENTER/lib/python3.8/site-packages/numpy/core/fromnumeric.py:43\u001b[0m, in \u001b[0;36m_wrapit\u001b[0;34m(obj, method, *args, **kwds)\u001b[0m\n\u001b[1;32m     41\u001b[0m \u001b[38;5;28;01mexcept\u001b[39;00m \u001b[38;5;167;01mAttributeError\u001b[39;00m:\n\u001b[1;32m     42\u001b[0m     wrap \u001b[38;5;241m=\u001b[39m \u001b[38;5;28;01mNone\u001b[39;00m\n\u001b[0;32m---> 43\u001b[0m result \u001b[38;5;241m=\u001b[39m \u001b[38;5;28;43mgetattr\u001b[39;49m\u001b[43m(\u001b[49m\u001b[43masarray\u001b[49m\u001b[43m(\u001b[49m\u001b[43mobj\u001b[49m\u001b[43m)\u001b[49m\u001b[43m,\u001b[49m\u001b[43m \u001b[49m\u001b[43mmethod\u001b[49m\u001b[43m)\u001b[49m\u001b[43m(\u001b[49m\u001b[38;5;241;43m*\u001b[39;49m\u001b[43margs\u001b[49m\u001b[43m,\u001b[49m\u001b[43m \u001b[49m\u001b[38;5;241;43m*\u001b[39;49m\u001b[38;5;241;43m*\u001b[39;49m\u001b[43mkwds\u001b[49m\u001b[43m)\u001b[49m\n\u001b[1;32m     44\u001b[0m \u001b[38;5;28;01mif\u001b[39;00m wrap:\n\u001b[1;32m     45\u001b[0m     \u001b[38;5;28;01mif\u001b[39;00m \u001b[38;5;129;01mnot\u001b[39;00m \u001b[38;5;28misinstance\u001b[39m(result, mu\u001b[38;5;241m.\u001b[39mndarray):\n",
      "\u001b[0;31mAxisError\u001b[0m: axis 1 is out of bounds for array of dimension 1"
     ]
    }
   ],
   "source": [
    "\n",
    "# Generate the predictions from your model\n",
    "predictions = model.predict(test_generator)\n",
    "\n",
    "# Convert predictions to a class index\n",
    "predictions = np.argmax(predictions, axis=1)\n",
    "\n",
    "# Convert class labels to a one-hot encoded format\n",
    "y_test = np.argmax(test_generator.labels, axis=1)\n",
    "\n",
    "# Create a confusion matrix\n",
    "confusion_mat = confusion_matrix(y_test, predictions)\n",
    "\n",
    "# Plot the confusion matrix\n",
    "plt.imshow(confusion_mat, cmap='Blues', interpolation='nearest')\n",
    "plt.colorbar()\n",
    "plt.title('Confusion matrix')\n",
    "plt.xlabel('Predicted')\n",
    "plt.ylabel('True')\n",
    "plt.show()\n",
    "plt.savefig('confus_gender.png')\n"
   ]
  },
  {
   "cell_type": "code",
   "execution_count": 25,
   "metadata": {},
   "outputs": [
    {
     "name": "stdout",
     "output_type": "stream",
     "text": [
      "79/79 [==============================] - 15s 187ms/step\n"
     ]
    },
    {
     "ename": "ValueError",
     "evalue": "multi_class must be in ('ovo', 'ovr')",
     "output_type": "error",
     "traceback": [
      "\u001b[0;31m---------------------------------------------------------------------------\u001b[0m",
      "\u001b[0;31mValueError\u001b[0m                                Traceback (most recent call last)",
      "Cell \u001b[0;32mIn [25], line 10\u001b[0m\n\u001b[1;32m      7\u001b[0m y_test \u001b[38;5;241m=\u001b[39m test_generator\u001b[38;5;241m.\u001b[39mlabels\n\u001b[1;32m      9\u001b[0m \u001b[38;5;66;03m# Calculate the weighted average ROC AUC score\u001b[39;00m\n\u001b[0;32m---> 10\u001b[0m roc_auc \u001b[38;5;241m=\u001b[39m \u001b[43mroc_auc_score\u001b[49m\u001b[43m(\u001b[49m\u001b[43my_test\u001b[49m\u001b[43m,\u001b[49m\u001b[43m \u001b[49m\u001b[43mpredictions\u001b[49m\u001b[43m,\u001b[49m\u001b[43m \u001b[49m\u001b[43maverage\u001b[49m\u001b[38;5;241;43m=\u001b[39;49m\u001b[38;5;124;43m'\u001b[39;49m\u001b[38;5;124;43mweighted\u001b[39;49m\u001b[38;5;124;43m'\u001b[39;49m\u001b[43m)\u001b[49m\n\u001b[1;32m     12\u001b[0m \u001b[38;5;28mprint\u001b[39m(\u001b[38;5;124m\"\u001b[39m\u001b[38;5;124mWeighted average ROC AUC:\u001b[39m\u001b[38;5;124m\"\u001b[39m, roc_auc)\n",
      "File \u001b[0;32m~/Desktop/ENTER/lib/python3.8/site-packages/sklearn/metrics/_ranking.py:560\u001b[0m, in \u001b[0;36mroc_auc_score\u001b[0;34m(y_true, y_score, average, sample_weight, max_fpr, multi_class, labels)\u001b[0m\n\u001b[1;32m    553\u001b[0m         \u001b[38;5;28;01mraise\u001b[39;00m \u001b[38;5;167;01mValueError\u001b[39;00m(\n\u001b[1;32m    554\u001b[0m             \u001b[38;5;124m\"\u001b[39m\u001b[38;5;124mPartial AUC computation not available in \u001b[39m\u001b[38;5;124m\"\u001b[39m\n\u001b[1;32m    555\u001b[0m             \u001b[38;5;124m\"\u001b[39m\u001b[38;5;124mmulticlass setting, \u001b[39m\u001b[38;5;124m'\u001b[39m\u001b[38;5;124mmax_fpr\u001b[39m\u001b[38;5;124m'\u001b[39m\u001b[38;5;124m must be\u001b[39m\u001b[38;5;124m\"\u001b[39m\n\u001b[1;32m    556\u001b[0m             \u001b[38;5;124m\"\u001b[39m\u001b[38;5;124m set to `None`, received `max_fpr=\u001b[39m\u001b[38;5;132;01m{0}\u001b[39;00m\u001b[38;5;124m` \u001b[39m\u001b[38;5;124m\"\u001b[39m\n\u001b[1;32m    557\u001b[0m             \u001b[38;5;124m\"\u001b[39m\u001b[38;5;124minstead\u001b[39m\u001b[38;5;124m\"\u001b[39m\u001b[38;5;241m.\u001b[39mformat(max_fpr)\n\u001b[1;32m    558\u001b[0m         )\n\u001b[1;32m    559\u001b[0m     \u001b[38;5;28;01mif\u001b[39;00m multi_class \u001b[38;5;241m==\u001b[39m \u001b[38;5;124m\"\u001b[39m\u001b[38;5;124mraise\u001b[39m\u001b[38;5;124m\"\u001b[39m:\n\u001b[0;32m--> 560\u001b[0m         \u001b[38;5;28;01mraise\u001b[39;00m \u001b[38;5;167;01mValueError\u001b[39;00m(\u001b[38;5;124m\"\u001b[39m\u001b[38;5;124mmulti_class must be in (\u001b[39m\u001b[38;5;124m'\u001b[39m\u001b[38;5;124movo\u001b[39m\u001b[38;5;124m'\u001b[39m\u001b[38;5;124m, \u001b[39m\u001b[38;5;124m'\u001b[39m\u001b[38;5;124movr\u001b[39m\u001b[38;5;124m'\u001b[39m\u001b[38;5;124m)\u001b[39m\u001b[38;5;124m\"\u001b[39m)\n\u001b[1;32m    561\u001b[0m     \u001b[38;5;28;01mreturn\u001b[39;00m _multiclass_roc_auc_score(\n\u001b[1;32m    562\u001b[0m         y_true, y_score, labels, multi_class, average, sample_weight\n\u001b[1;32m    563\u001b[0m     )\n\u001b[1;32m    564\u001b[0m \u001b[38;5;28;01melif\u001b[39;00m y_type \u001b[38;5;241m==\u001b[39m \u001b[38;5;124m\"\u001b[39m\u001b[38;5;124mbinary\u001b[39m\u001b[38;5;124m\"\u001b[39m:\n",
      "\u001b[0;31mValueError\u001b[0m: multi_class must be in ('ovo', 'ovr')"
     ]
    }
   ],
   "source": [
    "from sklearn.metrics import roc_auc_score\n",
    "\n",
    "# Generate the predictions from your model\n",
    "predictions = model.predict(test_generator)\n",
    "\n",
    "# Get the true labels\n",
    "y_test = test_generator.labels\n",
    "\n",
    "# Calculate the weighted average ROC AUC score\n",
    "roc_auc = roc_auc_score(y_test, predictions, average='weighted')\n",
    "\n",
    "print(\"Weighted average ROC AUC:\", roc_auc)\n"
   ]
  },
  {
   "cell_type": "code",
   "execution_count": null,
   "metadata": {},
   "outputs": [],
   "source": []
  }
 ],
 "metadata": {
  "kernelspec": {
   "display_name": "Python 3 (ipykernel)",
   "language": "python",
   "name": "python3"
  },
  "language_info": {
   "codemirror_mode": {
    "name": "ipython",
    "version": 3
   },
   "file_extension": ".py",
   "mimetype": "text/x-python",
   "name": "python",
   "nbconvert_exporter": "python",
   "pygments_lexer": "ipython3",
   "version": "3.8.5"
  },
  "vscode": {
   "interpreter": {
    "hash": "2d3439f45b569e714526962a83f54a0b286ccce6e9281f36eb0cf06ce572a0d4"
   }
  }
 },
 "nbformat": 4,
 "nbformat_minor": 2
}
