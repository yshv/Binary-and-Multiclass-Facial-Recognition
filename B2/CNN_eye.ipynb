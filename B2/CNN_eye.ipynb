{
 "cells": [
  {
   "cell_type": "code",
   "execution_count": 1,
   "id": "378f9015",
   "metadata": {},
   "outputs": [
    {
     "name": "stdout",
     "output_type": "stream",
     "text": [
      "/home/zceeysa/Documents/ELEC0134/ELEC0134/B2\n"
     ]
    }
   ],
   "source": [
    "# Import libraries\n",
    "import numpy as np\n",
    "import pandas as pd\n",
    "import os\n",
    "print(os.getcwd())\n"
   ]
  },
  {
   "cell_type": "code",
   "execution_count": 2,
   "id": "7865bb6b",
   "metadata": {},
   "outputs": [],
   "source": [
    "# Only run this once\n",
    "os.chdir('..')"
   ]
  },
  {
   "cell_type": "code",
   "execution_count": 3,
   "id": "d1e46f3b",
   "metadata": {},
   "outputs": [],
   "source": [
    "base_dir = '/home/zceeysa/Documents/ELEC0134/ELEC0134'\n",
    "\n",
    "os.chdir(base_dir)"
   ]
  },
  {
   "cell_type": "code",
   "execution_count": 4,
   "id": "62237264",
   "metadata": {
    "scrolled": true
   },
   "outputs": [
    {
     "name": "stdout",
     "output_type": "stream",
     "text": [
      "  file_name  eye_color\n",
      "0     0.png          1\n",
      "1     1.png          2\n",
      "2     2.png          2\n",
      "3     3.png          2\n",
      "4     4.png          0\n",
      "  file_name  eye_color\n",
      "0     0.png          2\n",
      "1     1.png          3\n",
      "2     2.png          3\n",
      "3     3.png          3\n",
      "4     4.png          1\n"
     ]
    },
    {
     "name": "stderr",
     "output_type": "stream",
     "text": [
      "/home/zceeysa/Desktop/ENTER/lib/python3.8/site-packages/pandas/core/indexing.py:1676: SettingWithCopyWarning: \n",
      "A value is trying to be set on a copy of a slice from a DataFrame.\n",
      "Try using .loc[row_indexer,col_indexer] = value instead\n",
      "\n",
      "See the caveats in the documentation: https://pandas.pydata.org/pandas-docs/stable/user_guide/indexing.html#returning-a-view-versus-a-copy\n",
      "  self._setitem_single_column(ilocs[0], value, pi)\n",
      "/tmp/ipykernel_2590731/41347787.py:12: SettingWithCopyWarning: \n",
      "A value is trying to be set on a copy of a slice from a DataFrame.\n",
      "Try using .loc[row_indexer,col_indexer] = value instead\n",
      "\n",
      "See the caveats in the documentation: https://pandas.pydata.org/pandas-docs/stable/user_guide/indexing.html#returning-a-view-versus-a-copy\n",
      "  train_df[\"eye_color\"] = train_df[\"eye_color\"].astype(str)\n"
     ]
    }
   ],
   "source": [
    "# Converting csv into dataframe using read_csv(label_path)\n",
    "train_cartoon_df = pd.read_csv('Dataset/dataset_AMLS_22-23/cartoon_set/labels.csv', sep='\\t', engine='python')\n",
    "train_df = train_cartoon_df[['file_name', 'eye_color']]\n",
    "print(train_df.head())\n",
    "\n",
    "\n",
    "# Convert the face shape column to class 1-5\n",
    "train_df.loc[:,'eye_color'] += 1\n",
    "print(train_df.head())\n",
    "\n",
    "# Convert face shape column type from int64 to str for data generator\n",
    "train_df[\"eye_color\"] = train_df[\"eye_color\"].astype(str)"
   ]
  },
  {
   "cell_type": "code",
   "execution_count": 5,
   "id": "b2050137",
   "metadata": {},
   "outputs": [],
   "source": [
    "from sklearn.utils import shuffle\n",
    "from sklearn.model_selection import train_test_split"
   ]
  },
  {
   "cell_type": "code",
   "execution_count": 6,
   "id": "4b813ce5",
   "metadata": {},
   "outputs": [
    {
     "name": "stderr",
     "output_type": "stream",
     "text": [
      "2023-01-20 17:06:15.234151: I tensorflow/core/platform/cpu_feature_guard.cc:193] This TensorFlow binary is optimized with oneAPI Deep Neural Network Library (oneDNN) to use the following CPU instructions in performance-critical operations:  AVX2 AVX512F FMA\n",
      "To enable them in other operations, rebuild TensorFlow with the appropriate compiler flags.\n",
      "2023-01-20 17:06:15.381542: W tensorflow/compiler/xla/stream_executor/platform/default/dso_loader.cc:64] Could not load dynamic library 'libcudart.so.11.0'; dlerror: libcudart.so.11.0: cannot open shared object file: No such file or directory; LD_LIBRARY_PATH: /lib64:/lib:/usr/local/lib:/usr/local/lib64:/usr/lib64:/usr/lib:/apps/cuda/lib64:/apps/cuda/lib\n",
      "2023-01-20 17:06:15.381567: I tensorflow/compiler/xla/stream_executor/cuda/cudart_stub.cc:29] Ignore above cudart dlerror if you do not have a GPU set up on your machine.\n",
      "2023-01-20 17:06:17.204794: W tensorflow/compiler/xla/stream_executor/platform/default/dso_loader.cc:64] Could not load dynamic library 'libnvinfer.so.7'; dlerror: libnvinfer.so.7: cannot open shared object file: No such file or directory; LD_LIBRARY_PATH: /lib64:/lib:/usr/local/lib:/usr/local/lib64:/usr/lib64:/usr/lib:/apps/cuda/lib64:/apps/cuda/lib\n",
      "2023-01-20 17:06:17.204962: W tensorflow/compiler/xla/stream_executor/platform/default/dso_loader.cc:64] Could not load dynamic library 'libnvinfer_plugin.so.7'; dlerror: libnvinfer_plugin.so.7: cannot open shared object file: No such file or directory; LD_LIBRARY_PATH: /lib64:/lib:/usr/local/lib:/usr/local/lib64:/usr/lib64:/usr/lib:/apps/cuda/lib64:/apps/cuda/lib\n",
      "2023-01-20 17:06:17.204976: W tensorflow/compiler/tf2tensorrt/utils/py_utils.cc:38] TF-TRT Warning: Cannot dlopen some TensorRT libraries. If you would like to use Nvidia GPU with TensorRT, please make sure the missing libraries mentioned above are installed properly.\n"
     ]
    },
    {
     "name": "stdout",
     "output_type": "stream",
     "text": [
      "Found 8000 validated image filenames belonging to 5 classes.\n",
      "Found 2000 validated image filenames belonging to 5 classes.\n"
     ]
    }
   ],
   "source": [
    "from keras.preprocessing.image import ImageDataGenerator\n",
    "import pandas as pd\n",
    "\n",
    "# Read in the excel sheet with the labels\n",
    "train_labels_df = pd.read_csv('Dataset/dataset_AMLS_22-23/cartoon_set/labels.csv')\n",
    "\n",
    "# Define the data generators\n",
    "train_datagen = ImageDataGenerator(rescale=1./255)\n",
    "val_datagen = ImageDataGenerator(rescale=1./255)\n",
    "\n",
    "# Define the data loaders\n",
    "batch_size = 32\n",
    "\n",
    "# split the data into training and validation sets\n",
    "training_df, val_df = train_test_split(train_df, test_size=0.2, random_state=42)\n",
    "\n",
    "train_gen = train_datagen.flow_from_dataframe(dataframe=training_df,\n",
    "                                                    directory='Dataset/dataset_AMLS_22-23/cartoon_set/img',\n",
    "                                                    x_col='file_name',\n",
    "                                                    y_col='eye_color',\n",
    "                                                    target_size=(224, 224),\n",
    "                                                    batch_size=32,\n",
    "                                                    shuffle=True,\n",
    "                                                    class_mode='categorical')\n",
    "\n",
    "val_gen = val_datagen.flow_from_dataframe(dataframe=val_df,\n",
    "                                                directory='Dataset/dataset_AMLS_22-23/cartoon_set/img',\n",
    "                                                x_col='file_name',\n",
    "                                                y_col='eye_color',\n",
    "                                                target_size=(224, 224),\n",
    "                                                batch_size=32,\n",
    "                                                shuffle=True,\n",
    "                                                class_mode='categorical')"
   ]
  },
  {
   "cell_type": "code",
   "execution_count": 7,
   "id": "2f6b9451",
   "metadata": {},
   "outputs": [
    {
     "name": "stdout",
     "output_type": "stream",
     "text": [
      "  file_name  eye_color\n",
      "0     0.png          2\n",
      "1     1.png          1\n",
      "2     2.png          0\n",
      "3     3.png          0\n",
      "4     4.png          3\n",
      "  file_name  eye_color\n",
      "0     0.png          3\n",
      "1     1.png          2\n",
      "2     2.png          1\n",
      "3     3.png          1\n",
      "4     4.png          4\n"
     ]
    },
    {
     "name": "stderr",
     "output_type": "stream",
     "text": [
      "/home/zceeysa/Desktop/ENTER/lib/python3.8/site-packages/pandas/core/indexing.py:1676: SettingWithCopyWarning: \n",
      "A value is trying to be set on a copy of a slice from a DataFrame.\n",
      "Try using .loc[row_indexer,col_indexer] = value instead\n",
      "\n",
      "See the caveats in the documentation: https://pandas.pydata.org/pandas-docs/stable/user_guide/indexing.html#returning-a-view-versus-a-copy\n",
      "  self._setitem_single_column(ilocs[0], value, pi)\n",
      "/tmp/ipykernel_2590731/1880917469.py:11: SettingWithCopyWarning: \n",
      "A value is trying to be set on a copy of a slice from a DataFrame.\n",
      "Try using .loc[row_indexer,col_indexer] = value instead\n",
      "\n",
      "See the caveats in the documentation: https://pandas.pydata.org/pandas-docs/stable/user_guide/indexing.html#returning-a-view-versus-a-copy\n",
      "  test_df[\"eye_color\"] = test_df[\"eye_color\"].astype(str)\n"
     ]
    }
   ],
   "source": [
    "# Converting csv into dataframe using read_csv(label_path)\n",
    "test_cartoon_df = pd.read_csv('Dataset/dataset_AMLS_22-23_test/cartoon_set_test/labels.csv', sep='\\t', engine='python')\n",
    "test_df = test_cartoon_df[['file_name', 'eye_color']]\n",
    "print(test_df.head())\n",
    "\n",
    "# Convert the face shape column to class 1-5\n",
    "test_df.loc[:,'eye_color'] += 1\n",
    "print(test_df.head())\n",
    "\n",
    "# Convert face shape column type from int64 to str for data generator\n",
    "test_df[\"eye_color\"] = test_df[\"eye_color\"].astype(str)"
   ]
  },
  {
   "cell_type": "code",
   "execution_count": 8,
   "id": "9683affa",
   "metadata": {},
   "outputs": [
    {
     "name": "stdout",
     "output_type": "stream",
     "text": [
      "Found 2500 validated image filenames belonging to 5 classes.\n"
     ]
    }
   ],
   "source": [
    "# Create a test dataframe by reading in the labels for the test images\n",
    "test_labels_df = pd.read_csv('Dataset/dataset_AMLS_22-23_test/cartoon_set_test/labels.csv')\n",
    "\n",
    "# Create a test data generator\n",
    "test_datagen = ImageDataGenerator(rescale=1./255)\n",
    "\n",
    "# Create the test dataloader\n",
    "test_generator = test_datagen.flow_from_dataframe(dataframe=test_df,\n",
    "                                                    directory='Dataset/dataset_AMLS_22-23_test/cartoon_set_test/img',\n",
    "                                                    x_col='file_name',\n",
    "                                                    y_col='eye_color',\n",
    "                                                    target_size=(224, 224),\n",
    "                                                    class_mode='categorical',\n",
    "                                                    shuffle=False\n",
    "                                                )\n"
   ]
  },
  {
   "cell_type": "code",
   "execution_count": 9,
   "id": "00d767a2",
   "metadata": {},
   "outputs": [],
   "source": [
    "# Use early stopping to terminate training epochs through callbacks\n",
    "from tensorflow.python.keras.callbacks import EarlyStopping, ModelCheckpoint\n",
    "\n",
    "# Seek a mininum for validation loss and display the stopped epochs using verbose and adding delays\n",
    "stop = EarlyStopping(monitor='val_loss', mode='min', verbose=1, patience=10)\n",
    "\n",
    "# Save best model using checkpoint\n",
    "model_path = os.path.join('/home/zceeysa/Documents/ELEC0134/ELEC0134/B2', 'vgg16_eye.h5')\n",
    "checkpoints = ModelCheckpoint(os.path.normcase(model_path), monitor='val_loss', mode='min', verbose=1, save_best_only=True)\n",
    "\n",
    "# Define callback function in a list\n",
    "callback_list = [stop, checkpoints]"
   ]
  },
  {
   "cell_type": "code",
   "execution_count": 10,
   "id": "eee64713",
   "metadata": {
    "scrolled": true
   },
   "outputs": [
    {
     "name": "stderr",
     "output_type": "stream",
     "text": [
      "2023-01-20 17:06:54.903288: W tensorflow/compiler/xla/stream_executor/platform/default/dso_loader.cc:64] Could not load dynamic library 'libcudart.so.11.0'; dlerror: libcudart.so.11.0: cannot open shared object file: No such file or directory; LD_LIBRARY_PATH: /lib64:/lib:/usr/local/lib:/usr/local/lib64:/usr/lib64:/usr/lib:/apps/cuda/lib64:/apps/cuda/lib\n",
      "2023-01-20 17:06:54.903494: W tensorflow/compiler/xla/stream_executor/platform/default/dso_loader.cc:64] Could not load dynamic library 'libcublas.so.11'; dlerror: libcublas.so.11: cannot open shared object file: No such file or directory; LD_LIBRARY_PATH: /lib64:/lib:/usr/local/lib:/usr/local/lib64:/usr/lib64:/usr/lib:/apps/cuda/lib64:/apps/cuda/lib\n",
      "2023-01-20 17:06:54.903620: W tensorflow/compiler/xla/stream_executor/platform/default/dso_loader.cc:64] Could not load dynamic library 'libcublasLt.so.11'; dlerror: libcublasLt.so.11: cannot open shared object file: No such file or directory; LD_LIBRARY_PATH: /lib64:/lib:/usr/local/lib:/usr/local/lib64:/usr/lib64:/usr/lib:/apps/cuda/lib64:/apps/cuda/lib\n",
      "2023-01-20 17:06:54.903753: W tensorflow/compiler/xla/stream_executor/platform/default/dso_loader.cc:64] Could not load dynamic library 'libcufft.so.10'; dlerror: libcufft.so.10: cannot open shared object file: No such file or directory; LD_LIBRARY_PATH: /lib64:/lib:/usr/local/lib:/usr/local/lib64:/usr/lib64:/usr/lib:/apps/cuda/lib64:/apps/cuda/lib\n",
      "2023-01-20 17:06:54.903870: W tensorflow/compiler/xla/stream_executor/platform/default/dso_loader.cc:64] Could not load dynamic library 'libcurand.so.10'; dlerror: libcurand.so.10: cannot open shared object file: No such file or directory; LD_LIBRARY_PATH: /lib64:/lib:/usr/local/lib:/usr/local/lib64:/usr/lib64:/usr/lib:/apps/cuda/lib64:/apps/cuda/lib\n",
      "2023-01-20 17:06:54.903986: W tensorflow/compiler/xla/stream_executor/platform/default/dso_loader.cc:64] Could not load dynamic library 'libcusolver.so.11'; dlerror: libcusolver.so.11: cannot open shared object file: No such file or directory; LD_LIBRARY_PATH: /lib64:/lib:/usr/local/lib:/usr/local/lib64:/usr/lib64:/usr/lib:/apps/cuda/lib64:/apps/cuda/lib\n",
      "2023-01-20 17:06:54.904087: W tensorflow/compiler/xla/stream_executor/platform/default/dso_loader.cc:64] Could not load dynamic library 'libcusparse.so.11'; dlerror: libcusparse.so.11: cannot open shared object file: No such file or directory; LD_LIBRARY_PATH: /lib64:/lib:/usr/local/lib:/usr/local/lib64:/usr/lib64:/usr/lib:/apps/cuda/lib64:/apps/cuda/lib\n",
      "2023-01-20 17:06:54.904178: W tensorflow/compiler/xla/stream_executor/platform/default/dso_loader.cc:64] Could not load dynamic library 'libcudnn.so.8'; dlerror: libcudnn.so.8: cannot open shared object file: No such file or directory; LD_LIBRARY_PATH: /lib64:/lib:/usr/local/lib:/usr/local/lib64:/usr/lib64:/usr/lib:/apps/cuda/lib64:/apps/cuda/lib\n",
      "2023-01-20 17:06:54.904215: W tensorflow/core/common_runtime/gpu/gpu_device.cc:1934] Cannot dlopen some GPU libraries. Please make sure the missing libraries mentioned above are installed properly if you would like to use GPU. Follow the guide at https://www.tensorflow.org/install/gpu for how to download and setup the required libraries for your platform.\n",
      "Skipping registering GPU devices...\n",
      "2023-01-20 17:06:54.905314: I tensorflow/core/platform/cpu_feature_guard.cc:193] This TensorFlow binary is optimized with oneAPI Deep Neural Network Library (oneDNN) to use the following CPU instructions in performance-critical operations:  AVX2 AVX512F FMA\n",
      "To enable them in other operations, rebuild TensorFlow with the appropriate compiler flags.\n"
     ]
    },
    {
     "name": "stdout",
     "output_type": "stream",
     "text": [
      "Model: \"sequential\"\n",
      "_________________________________________________________________\n",
      " Layer (type)                Output Shape              Param #   \n",
      "=================================================================\n",
      " conv2d (Conv2D)             (None, 224, 224, 16)      448       \n",
      "                                                                 \n",
      " batch_normalization (BatchN  (None, 224, 224, 16)     64        \n",
      " ormalization)                                                   \n",
      "                                                                 \n",
      " max_pooling2d (MaxPooling2D  (None, 112, 112, 16)     0         \n",
      " )                                                               \n",
      "                                                                 \n",
      " conv2d_1 (Conv2D)           (None, 112, 112, 16)      2320      \n",
      "                                                                 \n",
      " batch_normalization_1 (Batc  (None, 112, 112, 16)     64        \n",
      " hNormalization)                                                 \n",
      "                                                                 \n",
      " max_pooling2d_1 (MaxPooling  (None, 56, 56, 16)       0         \n",
      " 2D)                                                             \n",
      "                                                                 \n",
      " conv2d_2 (Conv2D)           (None, 56, 56, 32)        4640      \n",
      "                                                                 \n",
      " batch_normalization_2 (Batc  (None, 56, 56, 32)       128       \n",
      " hNormalization)                                                 \n",
      "                                                                 \n",
      " max_pooling2d_2 (MaxPooling  (None, 28, 28, 32)       0         \n",
      " 2D)                                                             \n",
      "                                                                 \n",
      " conv2d_3 (Conv2D)           (None, 28, 28, 64)        18496     \n",
      "                                                                 \n",
      " batch_normalization_3 (Batc  (None, 28, 28, 64)       256       \n",
      " hNormalization)                                                 \n",
      "                                                                 \n",
      " max_pooling2d_3 (MaxPooling  (None, 14, 14, 64)       0         \n",
      " 2D)                                                             \n",
      "                                                                 \n",
      " conv2d_4 (Conv2D)           (None, 14, 14, 128)       73856     \n",
      "                                                                 \n",
      " batch_normalization_4 (Batc  (None, 14, 14, 128)      512       \n",
      " hNormalization)                                                 \n",
      "                                                                 \n",
      " max_pooling2d_4 (MaxPooling  (None, 7, 7, 128)        0         \n",
      " 2D)                                                             \n",
      "                                                                 \n",
      " flatten (Flatten)           (None, 6272)              0         \n",
      "                                                                 \n",
      " dense (Dense)               (None, 64)                401472    \n",
      "                                                                 \n",
      " dense_1 (Dense)             (None, 5)                 325       \n",
      "                                                                 \n",
      "=================================================================\n",
      "Total params: 502,581\n",
      "Trainable params: 502,069\n",
      "Non-trainable params: 512\n",
      "_________________________________________________________________\n"
     ]
    }
   ],
   "source": [
    "# Import network libraries\n",
    "import keras\n",
    "\n",
    "from keras.models import Sequential\n",
    "from keras.layers import Dense, Conv2D, MaxPool2D, Flatten, BatchNormalization\n",
    "\n",
    "model = Sequential()\n",
    "\n",
    "model.add(Conv2D(input_shape=(224,224,3),filters=16,kernel_size=(3,3),padding=\"same\", activation=\"relu\"))\n",
    "model.add(BatchNormalization())\n",
    "model.add(MaxPool2D(pool_size=(2,2),strides=(2,2)))\n",
    "\n",
    "model.add(Conv2D(filters=16, kernel_size=(3,3), padding=\"same\", activation=\"relu\"))\n",
    "model.add(BatchNormalization())\n",
    "model.add(MaxPool2D(pool_size=(2,2),strides=(2,2)))\n",
    "\n",
    "model.add(Conv2D(filters=32, kernel_size=(3,3), padding=\"same\", activation=\"relu\"))\n",
    "model.add(BatchNormalization())\n",
    "model.add(MaxPool2D(pool_size=(2,2),strides=(2,2)))\n",
    "\n",
    "model.add(Conv2D(filters=64, kernel_size=(3,3), padding=\"same\", activation=\"relu\"))\n",
    "model.add(BatchNormalization())\n",
    "model.add(MaxPool2D(pool_size=(2,2),strides=(2,2)))\n",
    "\n",
    "model.add(Conv2D(filters=128, kernel_size=(3,3), padding=\"same\", activation=\"relu\"))\n",
    "model.add(BatchNormalization())\n",
    "model.add(MaxPool2D(pool_size=(2,2),strides=(2,2)))\n",
    "\n",
    "model.add(Flatten())\n",
    "model.add(Dense(units=64,activation=\"relu\"))\n",
    "model.add(Dense(units=5, activation=\"softmax\")) \n",
    "\n",
    "# Display summary of the model\n",
    "model.summary()\n",
    "\n",
    "# Compile the model using ADAM (Adaptive learning rate optimization)\n",
    "model.compile(optimizer='adam', loss='categorical_crossentropy', metrics=['accuracy'])"
   ]
  },
  {
   "cell_type": "code",
   "execution_count": 11,
   "id": "0e4ddca3",
   "metadata": {},
   "outputs": [],
   "source": [
    "import time"
   ]
  },
  {
   "cell_type": "code",
   "execution_count": 12,
   "id": "15809ecf",
   "metadata": {},
   "outputs": [],
   "source": [
    "class TimeHistory(keras.callbacks.Callback):\n",
    "    def on_train_begin(self, logs={}):\n",
    "        self.times = []\n",
    "\n",
    "    def on_epoch_begin(self, batch, logs={}):\n",
    "        self.epoch_time_start = time.time()\n",
    "\n",
    "    def on_epoch_end(self, batch, logs={}):\n",
    "        self.times.append(time.time() - self.epoch_time_start)"
   ]
  },
  {
   "cell_type": "code",
   "execution_count": 13,
   "id": "63ce558d",
   "metadata": {},
   "outputs": [
    {
     "name": "stdout",
     "output_type": "stream",
     "text": [
      "250\n",
      "62\n"
     ]
    },
    {
     "name": "stderr",
     "output_type": "stream",
     "text": [
      "/tmp/ipykernel_2590731/791964217.py:9: UserWarning: `Model.fit_generator` is deprecated and will be removed in a future version. Please use `Model.fit`, which supports generators.\n",
      "  history = model.fit_generator(generator=train_gen,\n"
     ]
    },
    {
     "name": "stdout",
     "output_type": "stream",
     "text": [
      "Epoch 1/100\n",
      "250/250 [==============================] - ETA: 0s - loss: 1.2200 - accuracy: 0.5679\n",
      "Epoch 00001: val_loss improved from inf to 1.88065, saving model to /home/zceeysa/Documents/ELEC0134/ELEC0134/B2/vgg16_eye.h5\n",
      "250/250 [==============================] - 171s 673ms/step - loss: 1.2200 - accuracy: 0.5679 - val_loss: 1.8807 - val_accuracy: 0.2455\n",
      "Epoch 2/100\n",
      "250/250 [==============================] - ETA: 0s - loss: 0.4038 - accuracy: 0.8354\n",
      "Epoch 00002: val_loss improved from 1.88065 to 0.74418, saving model to /home/zceeysa/Documents/ELEC0134/ELEC0134/B2/vgg16_eye.h5\n",
      "250/250 [==============================] - 166s 662ms/step - loss: 0.4038 - accuracy: 0.8354 - val_loss: 0.7442 - val_accuracy: 0.6774\n",
      "Epoch 3/100\n",
      "250/250 [==============================] - ETA: 0s - loss: 0.3564 - accuracy: 0.8462\n",
      "Epoch 00003: val_loss improved from 0.74418 to 0.36799, saving model to /home/zceeysa/Documents/ELEC0134/ELEC0134/B2/vgg16_eye.h5\n",
      "250/250 [==============================] - 165s 658ms/step - loss: 0.3564 - accuracy: 0.8462 - val_loss: 0.3680 - val_accuracy: 0.8327\n",
      "Epoch 4/100\n",
      "250/250 [==============================] - ETA: 0s - loss: 0.3325 - accuracy: 0.8509\n",
      "Epoch 00004: val_loss did not improve from 0.36799\n",
      "250/250 [==============================] - 166s 665ms/step - loss: 0.3325 - accuracy: 0.8509 - val_loss: 0.3935 - val_accuracy: 0.8206\n",
      "Epoch 5/100\n",
      "250/250 [==============================] - ETA: 0s - loss: 0.3196 - accuracy: 0.8601\n",
      "Epoch 00005: val_loss did not improve from 0.36799\n",
      "250/250 [==============================] - 141s 563ms/step - loss: 0.3196 - accuracy: 0.8601 - val_loss: 0.4182 - val_accuracy: 0.8342\n",
      "Epoch 6/100\n",
      "250/250 [==============================] - ETA: 0s - loss: 0.3098 - accuracy: 0.8649\n",
      "Epoch 00006: val_loss improved from 0.36799 to 0.34270, saving model to /home/zceeysa/Documents/ELEC0134/ELEC0134/B2/vgg16_eye.h5\n",
      "250/250 [==============================] - 105s 419ms/step - loss: 0.3098 - accuracy: 0.8649 - val_loss: 0.3427 - val_accuracy: 0.8367\n",
      "Epoch 7/100\n",
      "250/250 [==============================] - ETA: 0s - loss: 0.2995 - accuracy: 0.8681\n",
      "Epoch 00007: val_loss did not improve from 0.34270\n",
      "250/250 [==============================] - 107s 427ms/step - loss: 0.2995 - accuracy: 0.8681 - val_loss: 0.3464 - val_accuracy: 0.8357\n",
      "Epoch 8/100\n",
      "250/250 [==============================] - ETA: 0s - loss: 0.2945 - accuracy: 0.8715\n",
      "Epoch 00008: val_loss improved from 0.34270 to 0.34001, saving model to /home/zceeysa/Documents/ELEC0134/ELEC0134/B2/vgg16_eye.h5\n",
      "250/250 [==============================] - 105s 419ms/step - loss: 0.2945 - accuracy: 0.8715 - val_loss: 0.3400 - val_accuracy: 0.8453\n",
      "Epoch 9/100\n",
      "250/250 [==============================] - ETA: 0s - loss: 0.2765 - accuracy: 0.8813\n",
      "Epoch 00009: val_loss did not improve from 0.34001\n",
      "250/250 [==============================] - 123s 491ms/step - loss: 0.2765 - accuracy: 0.8813 - val_loss: 0.3975 - val_accuracy: 0.8362\n",
      "Epoch 10/100\n",
      "250/250 [==============================] - ETA: 0s - loss: 0.2761 - accuracy: 0.8832\n",
      "Epoch 00010: val_loss did not improve from 0.34001\n",
      "250/250 [==============================] - 134s 534ms/step - loss: 0.2761 - accuracy: 0.8832 - val_loss: 0.3460 - val_accuracy: 0.8448\n",
      "Epoch 11/100\n",
      "250/250 [==============================] - ETA: 0s - loss: 0.2629 - accuracy: 0.8913\n",
      "Epoch 00011: val_loss did not improve from 0.34001\n",
      "250/250 [==============================] - 135s 537ms/step - loss: 0.2629 - accuracy: 0.8913 - val_loss: 0.4726 - val_accuracy: 0.8352\n",
      "Epoch 12/100\n",
      "250/250 [==============================] - ETA: 0s - loss: 0.2644 - accuracy: 0.8885\n",
      "Epoch 00012: val_loss did not improve from 0.34001\n",
      "250/250 [==============================] - 133s 532ms/step - loss: 0.2644 - accuracy: 0.8885 - val_loss: 1.5971 - val_accuracy: 0.8296\n",
      "Epoch 13/100\n",
      "250/250 [==============================] - ETA: 0s - loss: 0.2504 - accuracy: 0.8964\n",
      "Epoch 00013: val_loss did not improve from 0.34001\n",
      "250/250 [==============================] - 131s 523ms/step - loss: 0.2504 - accuracy: 0.8964 - val_loss: 0.3571 - val_accuracy: 0.8397\n",
      "Epoch 14/100\n",
      "250/250 [==============================] - ETA: 0s - loss: 0.2369 - accuracy: 0.9040\n",
      "Epoch 00014: val_loss did not improve from 0.34001\n",
      "250/250 [==============================] - 105s 419ms/step - loss: 0.2369 - accuracy: 0.9040 - val_loss: 0.3707 - val_accuracy: 0.8463\n",
      "Epoch 15/100\n",
      "250/250 [==============================] - ETA: 0s - loss: 0.2297 - accuracy: 0.9059\n",
      "Epoch 00015: val_loss did not improve from 0.34001\n",
      "250/250 [==============================] - 101s 405ms/step - loss: 0.2297 - accuracy: 0.9059 - val_loss: 0.4609 - val_accuracy: 0.8004\n",
      "Epoch 16/100\n",
      "250/250 [==============================] - ETA: 0s - loss: 0.2200 - accuracy: 0.9115\n",
      "Epoch 00016: val_loss did not improve from 0.34001\n",
      "250/250 [==============================] - 104s 413ms/step - loss: 0.2200 - accuracy: 0.9115 - val_loss: 3.7121 - val_accuracy: 0.7349\n",
      "Epoch 17/100\n",
      "250/250 [==============================] - ETA: 0s - loss: 0.2020 - accuracy: 0.9199\n",
      "Epoch 00017: val_loss did not improve from 0.34001\n",
      "250/250 [==============================] - 102s 408ms/step - loss: 0.2020 - accuracy: 0.9199 - val_loss: 0.8559 - val_accuracy: 0.8362\n",
      "Epoch 18/100\n",
      "250/250 [==============================] - ETA: 0s - loss: 0.1946 - accuracy: 0.9227\n",
      "Epoch 00018: val_loss did not improve from 0.34001\n",
      "250/250 [==============================] - 102s 408ms/step - loss: 0.1946 - accuracy: 0.9227 - val_loss: 0.4570 - val_accuracy: 0.8468\n",
      "Epoch 00018: early stopping\n"
     ]
    }
   ],
   "source": [
    "# Set steps per epoch for callback \n",
    "STEP_SIZE_TRAIN = train_gen.samples//train_gen.batch_size\n",
    "STEP_SIZE_VALID = val_gen.samples//val_gen.batch_size\n",
    "print(STEP_SIZE_TRAIN)\n",
    "print(STEP_SIZE_VALID)\n",
    "\n",
    "time_callback = TimeHistory()\n",
    "\n",
    "history = model.fit_generator(generator=train_gen,\n",
    "                    steps_per_epoch=STEP_SIZE_TRAIN,\n",
    "                    epochs=100,\n",
    "                    callbacks=[time_callback, callback_list],\n",
    "                    validation_data=val_gen,\n",
    "                    validation_steps=STEP_SIZE_VALID)\n",
    "\n",
    "times = time_callback.times"
   ]
  },
  {
   "cell_type": "code",
   "execution_count": 29,
   "id": "9fad0006",
   "metadata": {},
   "outputs": [],
   "source": [
    "import matplotlib.pyplot as plt\n",
    "\n",
    "\n",
    "def plot_training_history(history,times):\n",
    "    plt.figure(figsize=(14,5))\n",
    "    plt.subplot(1, 3, 1)\n",
    "    plt.plot(history.history['val_loss'], label='Validation Loss')\n",
    "    plt.plot(history.history['loss'], label='Training Loss')\n",
    "    plt.title('Validation Loss vs. Number of Epochs')\n",
    "    plt.xlabel('Number of Epochs')\n",
    "    plt.ylabel('Loss')\n",
    "    plt.legend()\n",
    "    plt.subplot(1, 3, 2)\n",
    "    plt.plot(times)\n",
    "    plt.title('Fit time vs. Number of Epochs')\n",
    "    plt.xlabel('Number of Epochs')\n",
    "    plt.ylabel('Fit time')\n",
    "\n",
    "    plt.show()\n",
    "\n"
   ]
  },
  {
   "cell_type": "code",
   "execution_count": 30,
   "id": "ab234baf",
   "metadata": {},
   "outputs": [
    {
     "data": {
      "image/png": "[encoded data removed]",
      "text/plain": [
       "<Figure size 1400x500 with 2 Axes>"
      ]
     },
     "metadata": {},
     "output_type": "display_data"
    }
   ],
   "source": [
    "plot_training_history(history, times)"
   ]
  },
  {
   "cell_type": "code",
   "execution_count": 37,
   "id": "a94d8f23",
   "metadata": {},
   "outputs": [
    {
     "name": "stderr",
     "output_type": "stream",
     "text": [
      "/home/zceeysa/Desktop/ENTER/lib/python3.8/site-packages/keras/backend.py:451: UserWarning: `tf.keras.backend.set_learning_phase` is deprecated and will be removed after 2020-10-11. To update it, simply pass a True/False value to the `training` argument of the `__call__` method of your layer or model.\n",
      "  warnings.warn(\n",
      "/tmp/ipykernel_2590731/3925256735.py:15: UserWarning: `Model.predict_generator` is deprecated and will be removed in a future version. Please use `Model.predict`, which supports generators.\n",
      "  predictions = model.predict_generator(test_generator, steps=len(test_generator))\n"
     ]
    },
    {
     "name": "stdout",
     "output_type": "stream",
     "text": [
      "79/79 [==============================] - 17s 210ms/step - loss: 0.3252 - accuracy: 0.8492\n",
      "Test Loss:  0.32522693276405334\n",
      "Test Accuracy:  0.8492000102996826\n",
      "Test Precision:  0.852667127122391\n",
      "Test Recall:  0.8492\n",
      "Test F1-Score:  0.8498717678578862\n"
     ]
    }
   ],
   "source": [
    "from keras.models import load_model\n",
    "from keras import backend as K\n",
    "from sklearn.metrics import precision_recall_fscore_support\n",
    "\n",
    "# Load the pre-trained model\n",
    "model = load_model(\"B2/vgg16_eye.h5\")\n",
    "\n",
    "# Compile the model (if necessary)\n",
    "model.compile(optimizer='adam', loss='categorical_crossentropy', metrics=['accuracy'])\n",
    "\n",
    "# Set the learning phase to test\n",
    "K.set_learning_phase(0)\n",
    "\n",
    "# Generate predictions from the test data\n",
    "predictions = model.predict_generator(test_generator, steps=len(test_generator))\n",
    "predictions = np.argmax(predictions, axis=1)\n",
    "\n",
    "# Convert test labels to class labels\n",
    "test_labels = test_generator.labels\n",
    "\n",
    "test_loss, test_acc = model.evaluate(test_generator)\n",
    "# Calculate precision, recall, f1-score, and support\n",
    "precision, recall, f1_score, support = precision_recall_fscore_support(test_labels, predictions, average='weighted')\n",
    "\n",
    "# Print test loss, accuracy, precision, recall, f1-score, and support\n",
    "print(\"Test Loss: \", test_loss)\n",
    "print(\"Test Accuracy: \", test_acc)\n",
    "print(\"Test Precision: \", precision)\n",
    "print(\"Test Recall: \", recall)\n",
    "print(\"Test F1-Score: \", f1_score)"
   ]
  },
  {
   "cell_type": "code",
   "execution_count": 17,
   "id": "6dd73e09",
   "metadata": {},
   "outputs": [],
   "source": [
    "from sklearn.metrics import confusion_matrix\n",
    "import matplotlib.pyplot as plt\n"
   ]
  },
  {
   "cell_type": "code",
   "execution_count": 18,
   "id": "1f0c7fd5",
   "metadata": {},
   "outputs": [
    {
     "name": "stdout",
     "output_type": "stream",
     "text": [
      "79/79 [==============================] - 21s 264ms/step\n"
     ]
    },
    {
     "ename": "AxisError",
     "evalue": "axis 1 is out of bounds for array of dimension 1",
     "output_type": "error",
     "traceback": [
      "\u001b[0;31m---------------------------------------------------------------------------\u001b[0m",
      "\u001b[0;31mAxisError\u001b[0m                                 Traceback (most recent call last)",
      "Cell \u001b[0;32mIn [18], line 8\u001b[0m\n\u001b[1;32m      5\u001b[0m predictions \u001b[38;5;241m=\u001b[39m np\u001b[38;5;241m.\u001b[39margmax(predictions, axis\u001b[38;5;241m=\u001b[39m\u001b[38;5;241m1\u001b[39m)\n\u001b[1;32m      7\u001b[0m \u001b[38;5;66;03m# Convert class labels to a one-hot encoded format\u001b[39;00m\n\u001b[0;32m----> 8\u001b[0m y_test \u001b[38;5;241m=\u001b[39m \u001b[43mnp\u001b[49m\u001b[38;5;241;43m.\u001b[39;49m\u001b[43margmax\u001b[49m\u001b[43m(\u001b[49m\u001b[43mtest_generator\u001b[49m\u001b[38;5;241;43m.\u001b[39;49m\u001b[43mlabels\u001b[49m\u001b[43m,\u001b[49m\u001b[43m \u001b[49m\u001b[43maxis\u001b[49m\u001b[38;5;241;43m=\u001b[39;49m\u001b[38;5;241;43m1\u001b[39;49m\u001b[43m)\u001b[49m\n\u001b[1;32m     10\u001b[0m \u001b[38;5;66;03m# Create a confusion matrix\u001b[39;00m\n\u001b[1;32m     11\u001b[0m confusion_mat \u001b[38;5;241m=\u001b[39m confusion_matrix(y_test, predictions)\n",
      "File \u001b[0;32m<__array_function__ internals>:180\u001b[0m, in \u001b[0;36margmax\u001b[0;34m(*args, **kwargs)\u001b[0m\n",
      "File \u001b[0;32m~/Desktop/ENTER/lib/python3.8/site-packages/numpy/core/fromnumeric.py:1216\u001b[0m, in \u001b[0;36margmax\u001b[0;34m(a, axis, out, keepdims)\u001b[0m\n\u001b[1;32m   1129\u001b[0m \u001b[38;5;124;03m\"\"\"\u001b[39;00m\n\u001b[1;32m   1130\u001b[0m \u001b[38;5;124;03mReturns the indices of the maximum values along an axis.\u001b[39;00m\n\u001b[1;32m   1131\u001b[0m \n\u001b[0;32m   (...)\u001b[0m\n\u001b[1;32m   1213\u001b[0m \u001b[38;5;124;03m(2, 1, 4)\u001b[39;00m\n\u001b[1;32m   1214\u001b[0m \u001b[38;5;124;03m\"\"\"\u001b[39;00m\n\u001b[1;32m   1215\u001b[0m kwds \u001b[38;5;241m=\u001b[39m {\u001b[38;5;124m'\u001b[39m\u001b[38;5;124mkeepdims\u001b[39m\u001b[38;5;124m'\u001b[39m: keepdims} \u001b[38;5;28;01mif\u001b[39;00m keepdims \u001b[38;5;129;01mis\u001b[39;00m \u001b[38;5;129;01mnot\u001b[39;00m np\u001b[38;5;241m.\u001b[39m_NoValue \u001b[38;5;28;01melse\u001b[39;00m {}\n\u001b[0;32m-> 1216\u001b[0m \u001b[38;5;28;01mreturn\u001b[39;00m \u001b[43m_wrapfunc\u001b[49m\u001b[43m(\u001b[49m\u001b[43ma\u001b[49m\u001b[43m,\u001b[49m\u001b[43m \u001b[49m\u001b[38;5;124;43m'\u001b[39;49m\u001b[38;5;124;43margmax\u001b[39;49m\u001b[38;5;124;43m'\u001b[39;49m\u001b[43m,\u001b[49m\u001b[43m \u001b[49m\u001b[43maxis\u001b[49m\u001b[38;5;241;43m=\u001b[39;49m\u001b[43maxis\u001b[49m\u001b[43m,\u001b[49m\u001b[43m \u001b[49m\u001b[43mout\u001b[49m\u001b[38;5;241;43m=\u001b[39;49m\u001b[43mout\u001b[49m\u001b[43m,\u001b[49m\u001b[43m \u001b[49m\u001b[38;5;241;43m*\u001b[39;49m\u001b[38;5;241;43m*\u001b[39;49m\u001b[43mkwds\u001b[49m\u001b[43m)\u001b[49m\n",
      "File \u001b[0;32m~/Desktop/ENTER/lib/python3.8/site-packages/numpy/core/fromnumeric.py:54\u001b[0m, in \u001b[0;36m_wrapfunc\u001b[0;34m(obj, method, *args, **kwds)\u001b[0m\n\u001b[1;32m     52\u001b[0m bound \u001b[38;5;241m=\u001b[39m \u001b[38;5;28mgetattr\u001b[39m(obj, method, \u001b[38;5;28;01mNone\u001b[39;00m)\n\u001b[1;32m     53\u001b[0m \u001b[38;5;28;01mif\u001b[39;00m bound \u001b[38;5;129;01mis\u001b[39;00m \u001b[38;5;28;01mNone\u001b[39;00m:\n\u001b[0;32m---> 54\u001b[0m     \u001b[38;5;28;01mreturn\u001b[39;00m \u001b[43m_wrapit\u001b[49m\u001b[43m(\u001b[49m\u001b[43mobj\u001b[49m\u001b[43m,\u001b[49m\u001b[43m \u001b[49m\u001b[43mmethod\u001b[49m\u001b[43m,\u001b[49m\u001b[43m \u001b[49m\u001b[38;5;241;43m*\u001b[39;49m\u001b[43margs\u001b[49m\u001b[43m,\u001b[49m\u001b[43m \u001b[49m\u001b[38;5;241;43m*\u001b[39;49m\u001b[38;5;241;43m*\u001b[39;49m\u001b[43mkwds\u001b[49m\u001b[43m)\u001b[49m\n\u001b[1;32m     56\u001b[0m \u001b[38;5;28;01mtry\u001b[39;00m:\n\u001b[1;32m     57\u001b[0m     \u001b[38;5;28;01mreturn\u001b[39;00m bound(\u001b[38;5;241m*\u001b[39margs, \u001b[38;5;241m*\u001b[39m\u001b[38;5;241m*\u001b[39mkwds)\n",
      "File \u001b[0;32m~/Desktop/ENTER/lib/python3.8/site-packages/numpy/core/fromnumeric.py:43\u001b[0m, in \u001b[0;36m_wrapit\u001b[0;34m(obj, method, *args, **kwds)\u001b[0m\n\u001b[1;32m     41\u001b[0m \u001b[38;5;28;01mexcept\u001b[39;00m \u001b[38;5;167;01mAttributeError\u001b[39;00m:\n\u001b[1;32m     42\u001b[0m     wrap \u001b[38;5;241m=\u001b[39m \u001b[38;5;28;01mNone\u001b[39;00m\n\u001b[0;32m---> 43\u001b[0m result \u001b[38;5;241m=\u001b[39m \u001b[38;5;28;43mgetattr\u001b[39;49m\u001b[43m(\u001b[49m\u001b[43masarray\u001b[49m\u001b[43m(\u001b[49m\u001b[43mobj\u001b[49m\u001b[43m)\u001b[49m\u001b[43m,\u001b[49m\u001b[43m \u001b[49m\u001b[43mmethod\u001b[49m\u001b[43m)\u001b[49m\u001b[43m(\u001b[49m\u001b[38;5;241;43m*\u001b[39;49m\u001b[43margs\u001b[49m\u001b[43m,\u001b[49m\u001b[43m \u001b[49m\u001b[38;5;241;43m*\u001b[39;49m\u001b[38;5;241;43m*\u001b[39;49m\u001b[43mkwds\u001b[49m\u001b[43m)\u001b[49m\n\u001b[1;32m     44\u001b[0m \u001b[38;5;28;01mif\u001b[39;00m wrap:\n\u001b[1;32m     45\u001b[0m     \u001b[38;5;28;01mif\u001b[39;00m \u001b[38;5;129;01mnot\u001b[39;00m \u001b[38;5;28misinstance\u001b[39m(result, mu\u001b[38;5;241m.\u001b[39mndarray):\n",
      "\u001b[0;31mAxisError\u001b[0m: axis 1 is out of bounds for array of dimension 1"
     ]
    }
   ],
   "source": [
    "# Generate the predictions from your model\n",
    "predictions = model.predict(test_generator)\n",
    "\n",
    "# Convert predictions to a class index\n",
    "predictions = np.argmax(predictions, axis=1)\n",
    "\n",
    "# Convert class labels to a one-hot encoded format\n",
    "y_test = np.argmax(test_generator.labels, axis=1)\n",
    "\n",
    "# Create a confusion matrix\n",
    "confusion_mat = confusion_matrix(y_test, predictions)\n",
    "\n",
    "# Plot the confusion matrix\n",
    "plt.imshow(confusion_mat, cmap='Blues', interpolation='nearest')\n",
    "plt.colorbar()\n",
    "plt.title('Confusion matrix')\n",
    "plt.xlabel('Predicted')\n",
    "plt.ylabel('True')\n",
    "plt.show()\n",
    "plt.savefig('confus_eye.png')\n",
    "\n"
   ]
  },
  {
   "cell_type": "code",
   "execution_count": null,
   "id": "a541f98b",
   "metadata": {},
   "outputs": [],
   "source": [
    "from sklearn.metrics import roc_auc_score\n",
    "\n",
    "# Generate the predictions from your model\n",
    "predictions = model.predict(test_generator)\n",
    "\n",
    "# Get the true labels\n",
    "y_test = test_generator.labels\n",
    "\n",
    "# Calculate the weighted average ROC AUC score\n",
    "roc_auc = roc_auc_score(y_test, predictions, average='weighted')\n",
    "\n",
    "print(\"Weighted average ROC AUC:\", roc_auc)\n"
   ]
  },
  {
   "cell_type": "code",
   "execution_count": null,
   "id": "fa6155fc",
   "metadata": {},
   "outputs": [],
   "source": []
  }
 ],
 "metadata": {
  "kernelspec": {
   "display_name": "Python 3 (ipykernel)",
   "language": "python",
   "name": "python3"
  },
  "language_info": {
   "codemirror_mode": {
    "name": "ipython",
    "version": 3
   },
   "file_extension": ".py",
   "mimetype": "text/x-python",
   "name": "python",
   "nbconvert_exporter": "python",
   "pygments_lexer": "ipython3",
   "version": "3.8.5"
  }
 },
 "nbformat": 4,
 "nbformat_minor": 5
}
