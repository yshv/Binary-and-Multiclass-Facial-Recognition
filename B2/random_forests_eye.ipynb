{
 "cells": [
  {
   "cell_type": "code",
   "execution_count": null,
   "id": "cb02140b",
   "metadata": {},
   "outputs": [],
   "source": [
    "# Imports \n",
    "\n",
    "import os.path\n",
    "import numpy as np\n",
    "from keras.preprocessing import image\n",
    "import cv2\n",
    "import dlib\n",
    "import imutils\n",
    "from imutils import face_utils"
   ]
  },
  {
   "cell_type": "code",
   "execution_count": null,
   "id": "67a37f31",
   "metadata": {},
   "outputs": [],
   "source": [
    "detector = dlib.get_frontal_face_detector()\n",
    "\n",
    "# Uses landmark predictor from parent directory\n",
    "predictor = dlib.shape_predictor('../shape_predictor_68_face_landmarks.dat')"
   ]
  },
  {
   "cell_type": "code",
   "execution_count": null,
   "id": "e4206c73",
   "metadata": {},
   "outputs": [],
   "source": [
    "def shape_to_np(shape, dtype=\"int\"):\n",
    "    # initialize the list of (x, y)-coordinates\n",
    "    coords = np.zeros((shape.num_parts, 2), dtype=dtype)\n",
    "\n",
    "    # loop over all facial landmarks and convert them\n",
    "    # to a 2-tuple of (x, y)-coordinates\n",
    "    for i in range(0, shape.num_parts):\n",
    "        coords[i] = (shape.part(i).x, shape.part(i).y)\n",
    "\n",
    "    # return the list of (x, y)-coordinates\n",
    "    return coords"
   ]
  },
  {
   "cell_type": "code",
   "execution_count": null,
   "id": "8fca5331",
   "metadata": {},
   "outputs": [],
   "source": [
    "def rect_to_bb(rect):\n",
    "    # take a bounding predicted by dlib and convert it\n",
    "    # to the format (x, y, w, h) as we would normally do\n",
    "    # with OpenCV\n",
    "    x = rect.left()\n",
    "    y = rect.top()\n",
    "    w = rect.right() - x\n",
    "    h = rect.bottom() - y\n",
    "\n",
    "    # return a tuple of (x, y, w, h)\n",
    "    return (x, y, w, h)"
   ]
  },
  {
   "cell_type": "code",
   "execution_count": null,
   "id": "7c806b7b",
   "metadata": {},
   "outputs": [],
   "source": [
    "def run_dlib_shape(image):\n",
    "    # in this function we load the image, detect the landmarks of the face, and then return the image and the landmarks\n",
    "    # load the input image, resize it, and convert it to grayscale\n",
    "    resized_image = image.astype('uint8')\n",
    "\n",
    "    gray = cv2.cvtColor(resized_image, cv2.COLOR_BGR2GRAY)\n",
    "    gray = gray.astype('uint8')\n",
    "\n",
    "    # detect faces in the grayscale image\n",
    "    rects = detector(gray, 1)\n",
    "    num_faces = len(rects)\n",
    "\n",
    "    if num_faces == 0:\n",
    "        return None, resized_image\n",
    "\n",
    "    face_areas = np.zeros((1, num_faces))\n",
    "    face_shapes = np.zeros((136, num_faces), dtype=np.int64)\n",
    "\n",
    "    # loop over the face detections\n",
    "    for (i, rect) in enumerate(rects):\n",
    "        # determine the facial landmarks for the face region, then\n",
    "        # convert the facial landmark (x, y)-coordinates to a NumPy\n",
    "        # array\n",
    "        temp_shape = predictor(gray, rect)\n",
    "        temp_shape = shape_to_np(temp_shape)\n",
    "\n",
    "        # convert dlib's rectangle to a OpenCV-style bounding box\n",
    "        # [i.e., (x, y, w, h)],\n",
    "        #   (x, y, w, h) = face_utils.rect_to_bb(rect)\n",
    "        (x, y, w, h) = rect_to_bb(rect)\n",
    "        face_shapes[:, i] = np.reshape(temp_shape, [136])\n",
    "        face_areas[0, i] = w * h\n",
    "    # find largest face and keep\n",
    "    dlibout = np.reshape(np.transpose(face_shapes[:, np.argmax(face_areas)]), [68, 2])\n",
    "\n",
    "    return dlibout, resized_image"
   ]
  },
  {
   "cell_type": "code",
   "execution_count": null,
   "id": "4db64c00",
   "metadata": {},
   "outputs": [],
   "source": [
    "def extract_features_labels(images_dir, labels_dir, name):\n",
    "    \"\"\"\n",
    "    This funtion extracts the landmarks features for all images in the folder 'dataset/celeba'.\n",
    "    It also extracts the gender label for each image.\n",
    "    :return:\n",
    "        landmark_features:  an array containing 68 landmark points for each image in which a face was detected\n",
    "        shape_labels:      an array containing the gender label (male=0 and female=1) for each image in\n",
    "                            which a face was detected\n",
    "    \"\"\"\n",
    "    image_paths = [os.path.join(images_dir, l) for l in os.listdir(images_dir)]\n",
    "    target_size = None\n",
    "    labels_file = open(labels_dir, 'r')\n",
    "    print('labels_file ', labels_file)\n",
    "    lines = labels_file.readlines()\n",
    "    shape_labels = {line.split('\\t')[0] : int(line.split('\\t')[2]) for line in lines[1:]}\n",
    "    counter = 0\n",
    "    if os.path.isdir(images_dir):\n",
    "        all_features = []\n",
    "        all_labels = []\n",
    "        fails = []\n",
    "\n",
    "        for img_path in image_paths:\n",
    "            file_name= img_path.split('.')[0].split('/')[-1]\n",
    "\n",
    "            # load image\n",
    "            img = image.img_to_array(\n",
    "                image.load_img(img_path,\n",
    "                               target_size=target_size,\n",
    "                               interpolation='bicubic'))\n",
    "            features, _ = run_dlib_shape(img)\n",
    "            if features is not None:\n",
    "                all_features.append(features)\n",
    "                all_labels.append(shape_labels[file_name])\n",
    "            else: \n",
    "                fails.append(file_name)\n",
    "            counter += 1\n",
    "            print(counter)\n",
    "\n",
    "\n",
    "    landmark_features = np.array(all_features)\n",
    "    landmark_features = landmark_features.reshape(len(landmark_features), 136)\n",
    "    shape_labels = np.array(all_labels)\n",
    "\n",
    "    np.save(\"all_features_{}.npy\".format(name), landmark_features)\n",
    "    np.save(\"shape_labels_{}.npy\".format(name), shape_labels)\n",
    "\n",
    "    return landmark_features, shape_labels, fails\n"
   ]
  },
  {
   "cell_type": "code",
   "execution_count": null,
   "id": "c4091a78",
   "metadata": {},
   "outputs": [],
   "source": [
    "train_img = '/Users/yash/Documents/ELEC0134/AMLS_22-23_SN19076187/Dataset/dataset_AMLS_22-23/cartoon_set/img'\n",
    "train_label = '/Users/yash/Documents/ELEC0134/AMLS_22-23_SN19076187/Dataset/dataset_AMLS_22-23/cartoon_set/labels.csv'\n",
    "extract_features_labels(train_img, train_label, 'train')\n",
    "\n",
    "test_img = '/Users/yash/Documents/ELEC0134/AMLS_22-23_SN19076187/Dataset/dataset_AMLS_22-23_test/cartoon_set_test/img'\n",
    "test_label = '/Users/yash/Documents/ELEC0134/AMLS_22-23_SN19076187/Dataset/dataset_AMLS_22-23_test/cartoon_set_test/labels.csv'\n",
    "extract_features_labels(test_img, test_label, 'test')\n"
   ]
  },
  {
   "cell_type": "code",
   "execution_count": null,
   "id": "42010fd8",
   "metadata": {},
   "outputs": [],
   "source": [
    "print('features_train: ', features_train.shape)\n",
    "print('features_test: ', features_test.shape)\n",
    "print('labels_train: ', labels_train.shape)\n",
    "print('labels_test: ', labels_test.shape)"
   ]
  },
  {
   "cell_type": "code",
   "execution_count": null,
   "id": "0f486548",
   "metadata": {},
   "outputs": [],
   "source": [
    "from sklearn.preprocessing import StandardScaler"
   ]
  },
  {
   "cell_type": "code",
   "execution_count": null,
   "id": "9722bd76",
   "metadata": {},
   "outputs": [],
   "source": [
    "def preprocessing(features, test_features):\n",
    "    \n",
    "    # Scaling of data, trained on training data and applied to both training and test datasets\n",
    "    scaler = StandardScaler()\n",
    "    scaler.fit(features)\n",
    "\n",
    "    features = scaler.transform(features)\n",
    "    test_features = scaler.transform(test_features)\n",
    "    \n",
    "    return features, test_features"
   ]
  },
  {
   "cell_type": "code",
   "execution_count": null,
   "id": "ab5b5e18",
   "metadata": {},
   "outputs": [],
   "source": [
    "features_train, features_test = preprocessing(features_train, features_test)"
   ]
  },
  {
   "cell_type": "code",
   "execution_count": null,
   "id": "0e4c8e6f",
   "metadata": {},
   "outputs": [],
   "source": [
    "print(features_train)"
   ]
  },
  {
   "cell_type": "code",
   "execution_count": null,
   "id": "804fc518",
   "metadata": {},
   "outputs": [],
   "source": [
    "import numpy as np\n",
    "from sklearn.ensemble import RandomForestClassifier\n",
    "from sklearn.model_selection import RandomizedSearchCV\n"
   ]
  },
  {
   "cell_type": "code",
   "execution_count": null,
   "id": "b205a247",
   "metadata": {},
   "outputs": [],
   "source": [
    "param_grid = {'n_estimators': [50, 100, 150],\n",
    "              'max_depth': [2, 4, 6, 8, 10, 12]}\n",
    "\n",
    "\n",
    "# rfm = random forest model\n",
    "rfm = RandomForestClassifier()\n",
    "#grid_search = RandomizedSearchCV(rfm, param_grid, verbose = 3, cv = 10)\n",
    "#grid_search.fit(features_train, labels_train)"
   ]
  },
  {
   "cell_type": "code",
   "execution_count": null,
   "id": "fc90590a",
   "metadata": {},
   "outputs": [],
   "source": [
    "print(\"Best parameters: \", grid_search.best_params_)\n",
    "print(\"Best score: \", grid_search.best_score_)\n",
    "#best_params = {'n_estimators': 50, 'max_depth': 12}"
   ]
  },
  {
   "cell_type": "code",
   "execution_count": null,
   "id": "253d3f4e",
   "metadata": {},
   "outputs": [],
   "source": [
    "#print(\"Best parameters: \", grid_search.best_params_)\n",
    "#print(\"Best score: \", grid_search.best_score_)\n",
    "best_params = {'n_estimators': 50, 'max_depth': 12}"
   ]
  },
  {
   "cell_type": "code",
   "execution_count": null,
   "id": "c47f534c",
   "metadata": {},
   "outputs": [],
   "source": [
    "rfm = RandomForestClassifier(**grid_search.best_params_)"
   ]
  },
  {
   "cell_type": "code",
   "execution_count": null,
   "id": "ad4e34f3",
   "metadata": {},
   "outputs": [],
   "source": [
    "rfm.fit(features_train, labels_train)\n",
    "y_pred = rfm.predict(features_test)\n"
   ]
  },
  {
   "cell_type": "code",
   "execution_count": null,
   "id": "3c66648b",
   "metadata": {},
   "outputs": [],
   "source": [
    "def plot_learning_curve(estimator, title, X, y, axes=None, ylim=None, cv=None):\n",
    "\n",
    "\n",
    "    axes[0].set_title(title)\n",
    "\n",
    "    axes[0].set_xlabel(\"Training examples\")\n",
    "    axes[0].set_ylabel(\"Score\")\n",
    "\n",
    "    train_sizes, train_scores, test_scores, fit_times, _ = \\\n",
    "        learning_curve(estimator, X, y, cv=cv, n_jobs = -1, \\\n",
    "                       train_sizes = np.linspace(.1, 1.0, 5),\n",
    "                       return_times = True)\n",
    "\n",
    "    train_scores_mean = np.mean(train_scores, axis=1)\n",
    "    train_scores_std = np.std(train_scores, axis=1)\n",
    "    test_scores_mean = np.mean(test_scores, axis=1)\n",
    "    test_scores_std = np.std(test_scores, axis=1)\n",
    "    fit_times_mean = np.mean(fit_times, axis=1)\n",
    "    fit_times_std = np.std(fit_times, axis=1)\n",
    "    \n",
    "    # Plot learning curve\n",
    "    axes[0].grid()\n",
    "    axes[0].plot(train_sizes, train_scores_mean, 'o-', color=\"r\",\n",
    "                 label=\"Training score\")\n",
    "    axes[0].plot(train_sizes, test_scores_mean, 'o-', color=\"g\",\n",
    "                 label=\"Cross-validation score\")\n",
    "    axes[0].legend(loc=\"best\")\n",
    "    axes[0].set_ylabel(\"Accuracy Score\")\n",
    "\n",
    "    # Plot n_samples vs fit_times\n",
    "    axes[1].grid()\n",
    "    axes[1].plot(train_sizes, fit_times_mean, 'o-')\n",
    "    axes[1].set_xlabel(\"Training examples\")\n",
    "    axes[1].set_ylabel(\"fit times (s)\")\n",
    "    axes[1].set_title(\"Scalability of the model\")\n",
    "    return plt"
   ]
  },
  {
   "cell_type": "code",
   "execution_count": null,
   "id": "e0c0bb2f",
   "metadata": {},
   "outputs": [],
   "source": [
    "fig, axes = plt.subplots(1, 2, figsize=(10, 5))\n",
    "\n",
    "# Plot learning curve for Random Forests \n",
    "title = \"Learning Curve for Random Forests for Gender Detection\"\n",
    "\n",
    "\n",
    "cv = ShuffleSplit(n_splits=50, test_size=0.2, random_state=0)\n",
    "plot_learning_curve(rfm, title, X_train, y_train, axes=axes, \n",
    "                    ylim=(0.7, 1.01), cv = cv)"
   ]
  },
  {
   "cell_type": "code",
   "execution_count": null,
   "id": "11d5a6d2",
   "metadata": {},
   "outputs": [],
   "source": []
  }
 ],
 "metadata": {
  "kernelspec": {
   "display_name": "Python 3 (ipykernel)",
   "language": "python",
   "name": "python3"
  },
  "language_info": {
   "codemirror_mode": {
    "name": "ipython",
    "version": 3
   },
   "file_extension": ".py",
   "mimetype": "text/x-python",
   "name": "python",
   "nbconvert_exporter": "python",
   "pygments_lexer": "ipython3",
   "version": "3.8.5"
  }
 },
 "nbformat": 4,
 "nbformat_minor": 5
}
